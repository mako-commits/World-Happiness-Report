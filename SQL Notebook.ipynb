{
    "metadata": {
        "kernelspec": {
            "name": "SQL",
            "display_name": "SQL",
            "language": "sql"
        },
        "language_info": {
            "name": "sql",
            "version": ""
        }
    },
    "nbformat_minor": 2,
    "nbformat": 4,
    "cells": [
        {
            "cell_type": "code",
            "source": [
                "SELECT TOP (1000) [Country]\r\n",
                "      ,[Region]\r\n",
                "      ,[Happiness Rank]\r\n",
                "      ,[Happiness Score]\r\n",
                "      ,[Standard Error]\r\n",
                "      ,[Economy (GDP per Capita)]\r\n",
                "      ,[Family]\r\n",
                "      ,[Health (Life Expectancy)]\r\n",
                "      ,[Freedom]\r\n",
                "      ,[Trust (Government Corruption)]\r\n",
                "      ,[Generosity]\r\n",
                "      ,[Dystopia Residual]\r\n",
                "  FROM [Projects].[dbo].['2015']"
            ],
            "metadata": {
                "azdata_cell_guid": "8b4ea94e-c9f7-460c-bcdf-564738eed416",
                "language": "sql",
                "tags": []
            },
            "outputs": [
                {
                    "output_type": "display_data",
                    "data": {
                        "text/html": "(158 rows affected)"
                    },
                    "metadata": {}
                },
                {
                    "output_type": "display_data",
                    "data": {
                        "text/html": "Total execution time: 00:00:00.034"
                    },
                    "metadata": {}
                },
                {
                    "output_type": "execute_result",
                    "metadata": {},
                    "execution_count": 1,
                    "data": {
                        "application/vnd.dataresource+json": {
                            "schema": {
                                "fields": [
                                    {
                                        "name": "Country"
                                    },
                                    {
                                        "name": "Region"
                                    },
                                    {
                                        "name": "Happiness Rank"
                                    },
                                    {
                                        "name": "Happiness Score"
                                    },
                                    {
                                        "name": "Standard Error"
                                    },
                                    {
                                        "name": "Economy (GDP per Capita)"
                                    },
                                    {
                                        "name": "Family"
                                    },
                                    {
                                        "name": "Health (Life Expectancy)"
                                    },
                                    {
                                        "name": "Freedom"
                                    },
                                    {
                                        "name": "Trust (Government Corruption)"
                                    },
                                    {
                                        "name": "Generosity"
                                    },
                                    {
                                        "name": "Dystopia Residual"
                                    }
                                ]
                            },
                            "data": [
                                {
                                    "Country": "Switzerland",
                                    "Region": "Western Europe",
                                    "Happiness Rank": "1",
                                    "Happiness Score": "7.587",
                                    "Standard Error": "0.03411",
                                    "Economy (GDP per Capita)": "1.39651",
                                    "Family": "1.34951",
                                    "Health (Life Expectancy)": "0.94143",
                                    "Freedom": "0.66557",
                                    "Trust (Government Corruption)": "0.41978",
                                    "Generosity": "0.29678",
                                    "Dystopia Residual": "2.51738"
                                },
                                {
                                    "Country": "Iceland",
                                    "Region": "Western Europe",
                                    "Happiness Rank": "2",
                                    "Happiness Score": "7.561",
                                    "Standard Error": "0.04884",
                                    "Economy (GDP per Capita)": "1.30232",
                                    "Family": "1.40223",
                                    "Health (Life Expectancy)": "0.94784",
                                    "Freedom": "0.62877",
                                    "Trust (Government Corruption)": "0.14145",
                                    "Generosity": "0.4363",
                                    "Dystopia Residual": "2.70201"
                                },
                                {
                                    "Country": "Denmark",
                                    "Region": "Western Europe",
                                    "Happiness Rank": "3",
                                    "Happiness Score": "7.527",
                                    "Standard Error": "0.03328",
                                    "Economy (GDP per Capita)": "1.32548",
                                    "Family": "1.36058",
                                    "Health (Life Expectancy)": "0.87464",
                                    "Freedom": "0.64938",
                                    "Trust (Government Corruption)": "0.48357",
                                    "Generosity": "0.34139",
                                    "Dystopia Residual": "2.49204"
                                },
                                {
                                    "Country": "Norway",
                                    "Region": "Western Europe",
                                    "Happiness Rank": "4",
                                    "Happiness Score": "7.522",
                                    "Standard Error": "0.0388",
                                    "Economy (GDP per Capita)": "1.459",
                                    "Family": "1.33095",
                                    "Health (Life Expectancy)": "0.88521",
                                    "Freedom": "0.66973",
                                    "Trust (Government Corruption)": "0.36503",
                                    "Generosity": "0.34699",
                                    "Dystopia Residual": "2.46531"
                                },
                                {
                                    "Country": "Canada",
                                    "Region": "North America",
                                    "Happiness Rank": "5",
                                    "Happiness Score": "7.427",
                                    "Standard Error": "0.03553",
                                    "Economy (GDP per Capita)": "1.32629",
                                    "Family": "1.32261",
                                    "Health (Life Expectancy)": "0.90563",
                                    "Freedom": "0.63297",
                                    "Trust (Government Corruption)": "0.32957",
                                    "Generosity": "0.45811",
                                    "Dystopia Residual": "2.45176"
                                },
                                {
                                    "Country": "Finland",
                                    "Region": "Western Europe",
                                    "Happiness Rank": "6",
                                    "Happiness Score": "7.406",
                                    "Standard Error": "0.0314",
                                    "Economy (GDP per Capita)": "1.29025",
                                    "Family": "1.31826",
                                    "Health (Life Expectancy)": "0.88911",
                                    "Freedom": "0.64169",
                                    "Trust (Government Corruption)": "0.41372",
                                    "Generosity": "0.23351",
                                    "Dystopia Residual": "2.61955"
                                },
                                {
                                    "Country": "Netherlands",
                                    "Region": "Western Europe",
                                    "Happiness Rank": "7",
                                    "Happiness Score": "7.378",
                                    "Standard Error": "0.02799",
                                    "Economy (GDP per Capita)": "1.32944",
                                    "Family": "1.28017",
                                    "Health (Life Expectancy)": "0.89284",
                                    "Freedom": "0.61576",
                                    "Trust (Government Corruption)": "0.31814",
                                    "Generosity": "0.4761",
                                    "Dystopia Residual": "2.4657"
                                },
                                {
                                    "Country": "Sweden",
                                    "Region": "Western Europe",
                                    "Happiness Rank": "8",
                                    "Happiness Score": "7.364",
                                    "Standard Error": "0.03157",
                                    "Economy (GDP per Capita)": "1.33171",
                                    "Family": "1.28907",
                                    "Health (Life Expectancy)": "0.91087",
                                    "Freedom": "0.6598",
                                    "Trust (Government Corruption)": "0.43844",
                                    "Generosity": "0.36262",
                                    "Dystopia Residual": "2.37119"
                                },
                                {
                                    "Country": "New Zealand",
                                    "Region": "Australia and New Zealand",
                                    "Happiness Rank": "9",
                                    "Happiness Score": "7.286",
                                    "Standard Error": "0.03371",
                                    "Economy (GDP per Capita)": "1.25018",
                                    "Family": "1.31967",
                                    "Health (Life Expectancy)": "0.90837",
                                    "Freedom": "0.63938",
                                    "Trust (Government Corruption)": "0.42922",
                                    "Generosity": "0.47501",
                                    "Dystopia Residual": "2.26425"
                                },
                                {
                                    "Country": "Australia",
                                    "Region": "Australia and New Zealand",
                                    "Happiness Rank": "10",
                                    "Happiness Score": "7.284",
                                    "Standard Error": "0.04083",
                                    "Economy (GDP per Capita)": "1.33358",
                                    "Family": "1.30923",
                                    "Health (Life Expectancy)": "0.93156",
                                    "Freedom": "0.65124",
                                    "Trust (Government Corruption)": "0.35637",
                                    "Generosity": "0.43562",
                                    "Dystopia Residual": "2.26646"
                                },
                                {
                                    "Country": "Israel",
                                    "Region": "Middle East and Northern Africa",
                                    "Happiness Rank": "11",
                                    "Happiness Score": "7.278",
                                    "Standard Error": "0.0347",
                                    "Economy (GDP per Capita)": "1.22857",
                                    "Family": "1.22393",
                                    "Health (Life Expectancy)": "0.91387",
                                    "Freedom": "0.41319",
                                    "Trust (Government Corruption)": "0.07785",
                                    "Generosity": "0.33172",
                                    "Dystopia Residual": "3.08854"
                                },
                                {
                                    "Country": "Costa Rica",
                                    "Region": "Latin America and Caribbean",
                                    "Happiness Rank": "12",
                                    "Happiness Score": "7.226",
                                    "Standard Error": "0.04454",
                                    "Economy (GDP per Capita)": "0.95578",
                                    "Family": "1.23788",
                                    "Health (Life Expectancy)": "0.86027",
                                    "Freedom": "0.63376",
                                    "Trust (Government Corruption)": "0.10583",
                                    "Generosity": "0.25497",
                                    "Dystopia Residual": "3.17728"
                                },
                                {
                                    "Country": "Austria",
                                    "Region": "Western Europe",
                                    "Happiness Rank": "13",
                                    "Happiness Score": "7.2",
                                    "Standard Error": "0.03751",
                                    "Economy (GDP per Capita)": "1.33723",
                                    "Family": "1.29704",
                                    "Health (Life Expectancy)": "0.89042",
                                    "Freedom": "0.62433",
                                    "Trust (Government Corruption)": "0.18676",
                                    "Generosity": "0.33088",
                                    "Dystopia Residual": "2.5332"
                                },
                                {
                                    "Country": "Mexico",
                                    "Region": "Latin America and Caribbean",
                                    "Happiness Rank": "14",
                                    "Happiness Score": "7.187",
                                    "Standard Error": "0.04176",
                                    "Economy (GDP per Capita)": "1.02054",
                                    "Family": "0.91451",
                                    "Health (Life Expectancy)": "0.81444",
                                    "Freedom": "0.48181",
                                    "Trust (Government Corruption)": "0.21312",
                                    "Generosity": "0.14074",
                                    "Dystopia Residual": "3.60214"
                                },
                                {
                                    "Country": "United States",
                                    "Region": "North America",
                                    "Happiness Rank": "15",
                                    "Happiness Score": "7.119",
                                    "Standard Error": "0.03839",
                                    "Economy (GDP per Capita)": "1.39451",
                                    "Family": "1.24711",
                                    "Health (Life Expectancy)": "0.86179",
                                    "Freedom": "0.54604",
                                    "Trust (Government Corruption)": "0.1589",
                                    "Generosity": "0.40105",
                                    "Dystopia Residual": "2.51011"
                                },
                                {
                                    "Country": "Brazil",
                                    "Region": "Latin America and Caribbean",
                                    "Happiness Rank": "16",
                                    "Happiness Score": "6.983",
                                    "Standard Error": "0.04076",
                                    "Economy (GDP per Capita)": "0.98124",
                                    "Family": "1.23287",
                                    "Health (Life Expectancy)": "0.69702",
                                    "Freedom": "0.49049",
                                    "Trust (Government Corruption)": "0.17521",
                                    "Generosity": "0.14574",
                                    "Dystopia Residual": "3.26001"
                                },
                                {
                                    "Country": "Luxembourg",
                                    "Region": "Western Europe",
                                    "Happiness Rank": "17",
                                    "Happiness Score": "6.946",
                                    "Standard Error": "0.03499",
                                    "Economy (GDP per Capita)": "1.56391",
                                    "Family": "1.21963",
                                    "Health (Life Expectancy)": "0.91894",
                                    "Freedom": "0.61583",
                                    "Trust (Government Corruption)": "0.37798",
                                    "Generosity": "0.28034",
                                    "Dystopia Residual": "1.96961"
                                },
                                {
                                    "Country": "Ireland",
                                    "Region": "Western Europe",
                                    "Happiness Rank": "18",
                                    "Happiness Score": "6.94",
                                    "Standard Error": "0.03676",
                                    "Economy (GDP per Capita)": "1.33596",
                                    "Family": "1.36948",
                                    "Health (Life Expectancy)": "0.89533",
                                    "Freedom": "0.61777",
                                    "Trust (Government Corruption)": "0.28703",
                                    "Generosity": "0.45901",
                                    "Dystopia Residual": "1.9757"
                                },
                                {
                                    "Country": "Belgium",
                                    "Region": "Western Europe",
                                    "Happiness Rank": "19",
                                    "Happiness Score": "6.937",
                                    "Standard Error": "0.03595",
                                    "Economy (GDP per Capita)": "1.30782",
                                    "Family": "1.28566",
                                    "Health (Life Expectancy)": "0.89667",
                                    "Freedom": "0.5845",
                                    "Trust (Government Corruption)": "0.2254",
                                    "Generosity": "0.2225",
                                    "Dystopia Residual": "2.41484"
                                },
                                {
                                    "Country": "United Arab Emirates",
                                    "Region": "Middle East and Northern Africa",
                                    "Happiness Rank": "20",
                                    "Happiness Score": "6.901",
                                    "Standard Error": "0.03729",
                                    "Economy (GDP per Capita)": "1.42727",
                                    "Family": "1.12575",
                                    "Health (Life Expectancy)": "0.80925",
                                    "Freedom": "0.64157",
                                    "Trust (Government Corruption)": "0.38583",
                                    "Generosity": "0.26428",
                                    "Dystopia Residual": "2.24743"
                                },
                                {
                                    "Country": "United Kingdom",
                                    "Region": "Western Europe",
                                    "Happiness Rank": "21",
                                    "Happiness Score": "6.867",
                                    "Standard Error": "0.01866",
                                    "Economy (GDP per Capita)": "1.26637",
                                    "Family": "1.28548",
                                    "Health (Life Expectancy)": "0.90943",
                                    "Freedom": "0.59625",
                                    "Trust (Government Corruption)": "0.32067",
                                    "Generosity": "0.51912",
                                    "Dystopia Residual": "1.96994"
                                },
                                {
                                    "Country": "Oman",
                                    "Region": "Middle East and Northern Africa",
                                    "Happiness Rank": "22",
                                    "Happiness Score": "6.853",
                                    "Standard Error": "0.05335",
                                    "Economy (GDP per Capita)": "1.36011",
                                    "Family": "1.08182",
                                    "Health (Life Expectancy)": "0.76276",
                                    "Freedom": "0.63274",
                                    "Trust (Government Corruption)": "0.32524",
                                    "Generosity": "0.21542",
                                    "Dystopia Residual": "2.47489"
                                },
                                {
                                    "Country": "Venezuela",
                                    "Region": "Latin America and Caribbean",
                                    "Happiness Rank": "23",
                                    "Happiness Score": "6.81",
                                    "Standard Error": "0.06476",
                                    "Economy (GDP per Capita)": "1.04424",
                                    "Family": "1.25596",
                                    "Health (Life Expectancy)": "0.72052",
                                    "Freedom": "0.42908",
                                    "Trust (Government Corruption)": "0.11069",
                                    "Generosity": "0.05841",
                                    "Dystopia Residual": "3.19131"
                                },
                                {
                                    "Country": "Singapore",
                                    "Region": "Southeastern Asia",
                                    "Happiness Rank": "24",
                                    "Happiness Score": "6.798",
                                    "Standard Error": "0.0378",
                                    "Economy (GDP per Capita)": "1.52186",
                                    "Family": "1.02",
                                    "Health (Life Expectancy)": "1.02525",
                                    "Freedom": "0.54252",
                                    "Trust (Government Corruption)": "0.4921",
                                    "Generosity": "0.31105",
                                    "Dystopia Residual": "1.88501"
                                },
                                {
                                    "Country": "Panama",
                                    "Region": "Latin America and Caribbean",
                                    "Happiness Rank": "25",
                                    "Happiness Score": "6.786",
                                    "Standard Error": "0.0491",
                                    "Economy (GDP per Capita)": "1.06353",
                                    "Family": "1.1985",
                                    "Health (Life Expectancy)": "0.79661",
                                    "Freedom": "0.5421",
                                    "Trust (Government Corruption)": "0.0927",
                                    "Generosity": "0.24434",
                                    "Dystopia Residual": "2.84848"
                                },
                                {
                                    "Country": "Germany",
                                    "Region": "Western Europe",
                                    "Happiness Rank": "26",
                                    "Happiness Score": "6.75",
                                    "Standard Error": "0.01848",
                                    "Economy (GDP per Capita)": "1.32792",
                                    "Family": "1.29937",
                                    "Health (Life Expectancy)": "0.89186",
                                    "Freedom": "0.61477",
                                    "Trust (Government Corruption)": "0.21843",
                                    "Generosity": "0.28214",
                                    "Dystopia Residual": "2.11569"
                                },
                                {
                                    "Country": "Chile",
                                    "Region": "Latin America and Caribbean",
                                    "Happiness Rank": "27",
                                    "Happiness Score": "6.67",
                                    "Standard Error": "0.058",
                                    "Economy (GDP per Capita)": "1.10715",
                                    "Family": "1.12447",
                                    "Health (Life Expectancy)": "0.85857",
                                    "Freedom": "0.44132",
                                    "Trust (Government Corruption)": "0.12869",
                                    "Generosity": "0.33363",
                                    "Dystopia Residual": "2.67585"
                                },
                                {
                                    "Country": "Qatar",
                                    "Region": "Middle East and Northern Africa",
                                    "Happiness Rank": "28",
                                    "Happiness Score": "6.611",
                                    "Standard Error": "0.06257",
                                    "Economy (GDP per Capita)": "1.69042",
                                    "Family": "1.0786",
                                    "Health (Life Expectancy)": "0.79733",
                                    "Freedom": "0.6404",
                                    "Trust (Government Corruption)": "0.52208",
                                    "Generosity": "0.32573",
                                    "Dystopia Residual": "1.55674"
                                },
                                {
                                    "Country": "France",
                                    "Region": "Western Europe",
                                    "Happiness Rank": "29",
                                    "Happiness Score": "6.575",
                                    "Standard Error": "0.03512",
                                    "Economy (GDP per Capita)": "1.27778",
                                    "Family": "1.26038",
                                    "Health (Life Expectancy)": "0.94579",
                                    "Freedom": "0.55011",
                                    "Trust (Government Corruption)": "0.20646",
                                    "Generosity": "0.12332",
                                    "Dystopia Residual": "2.21126"
                                },
                                {
                                    "Country": "Argentina",
                                    "Region": "Latin America and Caribbean",
                                    "Happiness Rank": "30",
                                    "Happiness Score": "6.574",
                                    "Standard Error": "0.04612",
                                    "Economy (GDP per Capita)": "1.05351",
                                    "Family": "1.24823",
                                    "Health (Life Expectancy)": "0.78723",
                                    "Freedom": "0.44974",
                                    "Trust (Government Corruption)": "0.08484",
                                    "Generosity": "0.11451",
                                    "Dystopia Residual": "2.836"
                                },
                                {
                                    "Country": "Czech Republic",
                                    "Region": "Central and Eastern Europe",
                                    "Happiness Rank": "31",
                                    "Happiness Score": "6.505",
                                    "Standard Error": "0.04168",
                                    "Economy (GDP per Capita)": "1.17898",
                                    "Family": "1.20643",
                                    "Health (Life Expectancy)": "0.84483",
                                    "Freedom": "0.46364",
                                    "Trust (Government Corruption)": "0.02652",
                                    "Generosity": "0.10686",
                                    "Dystopia Residual": "2.67782"
                                },
                                {
                                    "Country": "Uruguay",
                                    "Region": "Latin America and Caribbean",
                                    "Happiness Rank": "32",
                                    "Happiness Score": "6.485",
                                    "Standard Error": "0.04539",
                                    "Economy (GDP per Capita)": "1.06166",
                                    "Family": "1.2089",
                                    "Health (Life Expectancy)": "0.8116",
                                    "Freedom": "0.60362",
                                    "Trust (Government Corruption)": "0.24558",
                                    "Generosity": "0.2324",
                                    "Dystopia Residual": "2.32142"
                                },
                                {
                                    "Country": "Colombia",
                                    "Region": "Latin America and Caribbean",
                                    "Happiness Rank": "33",
                                    "Happiness Score": "6.477",
                                    "Standard Error": "0.05051",
                                    "Economy (GDP per Capita)": "0.91861",
                                    "Family": "1.24018",
                                    "Health (Life Expectancy)": "0.69077",
                                    "Freedom": "0.53466",
                                    "Trust (Government Corruption)": "0.0512",
                                    "Generosity": "0.18401",
                                    "Dystopia Residual": "2.85737"
                                },
                                {
                                    "Country": "Thailand",
                                    "Region": "Southeastern Asia",
                                    "Happiness Rank": "34",
                                    "Happiness Score": "6.455",
                                    "Standard Error": "0.03557",
                                    "Economy (GDP per Capita)": "0.9669",
                                    "Family": "1.26504",
                                    "Health (Life Expectancy)": "0.7385",
                                    "Freedom": "0.55664",
                                    "Trust (Government Corruption)": "0.03187",
                                    "Generosity": "0.5763",
                                    "Dystopia Residual": "2.31945"
                                },
                                {
                                    "Country": "Saudi Arabia",
                                    "Region": "Middle East and Northern Africa",
                                    "Happiness Rank": "35",
                                    "Happiness Score": "6.411",
                                    "Standard Error": "0.04633",
                                    "Economy (GDP per Capita)": "1.39541",
                                    "Family": "1.08393",
                                    "Health (Life Expectancy)": "0.72025",
                                    "Freedom": "0.31048",
                                    "Trust (Government Corruption)": "0.32524",
                                    "Generosity": "0.13706",
                                    "Dystopia Residual": "2.43872"
                                },
                                {
                                    "Country": "Spain",
                                    "Region": "Western Europe",
                                    "Happiness Rank": "36",
                                    "Happiness Score": "6.329",
                                    "Standard Error": "0.03468",
                                    "Economy (GDP per Capita)": "1.23011",
                                    "Family": "1.31379",
                                    "Health (Life Expectancy)": "0.95562",
                                    "Freedom": "0.45951",
                                    "Trust (Government Corruption)": "0.06398",
                                    "Generosity": "0.18227",
                                    "Dystopia Residual": "2.12367"
                                },
                                {
                                    "Country": "Malta",
                                    "Region": "Western Europe",
                                    "Happiness Rank": "37",
                                    "Happiness Score": "6.302",
                                    "Standard Error": "0.04206",
                                    "Economy (GDP per Capita)": "1.2074",
                                    "Family": "1.30203",
                                    "Health (Life Expectancy)": "0.88721",
                                    "Freedom": "0.60365",
                                    "Trust (Government Corruption)": "0.13586",
                                    "Generosity": "0.51752",
                                    "Dystopia Residual": "1.6488"
                                },
                                {
                                    "Country": "Taiwan",
                                    "Region": "Eastern Asia",
                                    "Happiness Rank": "38",
                                    "Happiness Score": "6.298",
                                    "Standard Error": "0.03868",
                                    "Economy (GDP per Capita)": "1.29098",
                                    "Family": "1.07617",
                                    "Health (Life Expectancy)": "0.8753",
                                    "Freedom": "0.3974",
                                    "Trust (Government Corruption)": "0.08129",
                                    "Generosity": "0.25376",
                                    "Dystopia Residual": "2.32323"
                                },
                                {
                                    "Country": "Kuwait",
                                    "Region": "Middle East and Northern Africa",
                                    "Happiness Rank": "39",
                                    "Happiness Score": "6.295",
                                    "Standard Error": "0.04456",
                                    "Economy (GDP per Capita)": "1.55422",
                                    "Family": "1.16594",
                                    "Health (Life Expectancy)": "0.72492",
                                    "Freedom": "0.55499",
                                    "Trust (Government Corruption)": "0.25609",
                                    "Generosity": "0.16228",
                                    "Dystopia Residual": "1.87634"
                                },
                                {
                                    "Country": "Suriname",
                                    "Region": "Latin America and Caribbean",
                                    "Happiness Rank": "40",
                                    "Happiness Score": "6.269",
                                    "Standard Error": "0.09811",
                                    "Economy (GDP per Capita)": "0.99534",
                                    "Family": "0.972",
                                    "Health (Life Expectancy)": "0.6082",
                                    "Freedom": "0.59657",
                                    "Trust (Government Corruption)": "0.13633",
                                    "Generosity": "0.16991",
                                    "Dystopia Residual": "2.79094"
                                },
                                {
                                    "Country": "Trinidad and Tobago",
                                    "Region": "Latin America and Caribbean",
                                    "Happiness Rank": "41",
                                    "Happiness Score": "6.168",
                                    "Standard Error": "0.10895",
                                    "Economy (GDP per Capita)": "1.21183",
                                    "Family": "1.18354",
                                    "Health (Life Expectancy)": "0.61483",
                                    "Freedom": "0.55884",
                                    "Trust (Government Corruption)": "0.0114",
                                    "Generosity": "0.31844",
                                    "Dystopia Residual": "2.26882"
                                },
                                {
                                    "Country": "El Salvador",
                                    "Region": "Latin America and Caribbean",
                                    "Happiness Rank": "42",
                                    "Happiness Score": "6.13",
                                    "Standard Error": "0.05618",
                                    "Economy (GDP per Capita)": "0.76454",
                                    "Family": "1.02507",
                                    "Health (Life Expectancy)": "0.67737",
                                    "Freedom": "0.4035",
                                    "Trust (Government Corruption)": "0.11776",
                                    "Generosity": "0.10692",
                                    "Dystopia Residual": "3.035"
                                },
                                {
                                    "Country": "Guatemala",
                                    "Region": "Latin America and Caribbean",
                                    "Happiness Rank": "43",
                                    "Happiness Score": "6.123",
                                    "Standard Error": "0.05224",
                                    "Economy (GDP per Capita)": "0.74553",
                                    "Family": "1.04356",
                                    "Health (Life Expectancy)": "0.64425",
                                    "Freedom": "0.57733",
                                    "Trust (Government Corruption)": "0.09472",
                                    "Generosity": "0.27489",
                                    "Dystopia Residual": "2.74255"
                                },
                                {
                                    "Country": "Uzbekistan",
                                    "Region": "Central and Eastern Europe",
                                    "Happiness Rank": "44",
                                    "Happiness Score": "6.003",
                                    "Standard Error": "0.04361",
                                    "Economy (GDP per Capita)": "0.63244",
                                    "Family": "1.34043",
                                    "Health (Life Expectancy)": "0.59772",
                                    "Freedom": "0.65821",
                                    "Trust (Government Corruption)": "0.30826",
                                    "Generosity": "0.22837",
                                    "Dystopia Residual": "2.23741"
                                },
                                {
                                    "Country": "Slovakia",
                                    "Region": "Central and Eastern Europe",
                                    "Happiness Rank": "45",
                                    "Happiness Score": "5.995",
                                    "Standard Error": "0.04267",
                                    "Economy (GDP per Capita)": "1.16891",
                                    "Family": "1.26999",
                                    "Health (Life Expectancy)": "0.78902",
                                    "Freedom": "0.31751",
                                    "Trust (Government Corruption)": "0.03431",
                                    "Generosity": "0.16893",
                                    "Dystopia Residual": "2.24639"
                                },
                                {
                                    "Country": "Japan",
                                    "Region": "Eastern Asia",
                                    "Happiness Rank": "46",
                                    "Happiness Score": "5.987",
                                    "Standard Error": "0.03581",
                                    "Economy (GDP per Capita)": "1.27074",
                                    "Family": "1.25712",
                                    "Health (Life Expectancy)": "0.99111",
                                    "Freedom": "0.49615",
                                    "Trust (Government Corruption)": "0.1806",
                                    "Generosity": "0.10705",
                                    "Dystopia Residual": "1.68435"
                                },
                                {
                                    "Country": "South Korea",
                                    "Region": "Eastern Asia",
                                    "Happiness Rank": "47",
                                    "Happiness Score": "5.984",
                                    "Standard Error": "0.04098",
                                    "Economy (GDP per Capita)": "1.24461",
                                    "Family": "0.95774",
                                    "Health (Life Expectancy)": "0.96538",
                                    "Freedom": "0.33208",
                                    "Trust (Government Corruption)": "0.07857",
                                    "Generosity": "0.18557",
                                    "Dystopia Residual": "2.21978"
                                },
                                {
                                    "Country": "Ecuador",
                                    "Region": "Latin America and Caribbean",
                                    "Happiness Rank": "48",
                                    "Happiness Score": "5.975",
                                    "Standard Error": "0.04528",
                                    "Economy (GDP per Capita)": "0.86402",
                                    "Family": "0.99903",
                                    "Health (Life Expectancy)": "0.79075",
                                    "Freedom": "0.48574",
                                    "Trust (Government Corruption)": "0.1809",
                                    "Generosity": "0.11541",
                                    "Dystopia Residual": "2.53942"
                                },
                                {
                                    "Country": "Bahrain",
                                    "Region": "Middle East and Northern Africa",
                                    "Happiness Rank": "49",
                                    "Happiness Score": "5.96",
                                    "Standard Error": "0.05412",
                                    "Economy (GDP per Capita)": "1.32376",
                                    "Family": "1.21624",
                                    "Health (Life Expectancy)": "0.74716",
                                    "Freedom": "0.45492",
                                    "Trust (Government Corruption)": "0.306",
                                    "Generosity": "0.17362",
                                    "Dystopia Residual": "1.73797"
                                },
                                {
                                    "Country": "Italy",
                                    "Region": "Western Europe",
                                    "Happiness Rank": "50",
                                    "Happiness Score": "5.948",
                                    "Standard Error": "0.03914",
                                    "Economy (GDP per Capita)": "1.25114",
                                    "Family": "1.19777",
                                    "Health (Life Expectancy)": "0.95446",
                                    "Freedom": "0.26236",
                                    "Trust (Government Corruption)": "0.02901",
                                    "Generosity": "0.22823",
                                    "Dystopia Residual": "2.02518"
                                },
                                {
                                    "Country": "Bolivia",
                                    "Region": "Latin America and Caribbean",
                                    "Happiness Rank": "51",
                                    "Happiness Score": "5.89",
                                    "Standard Error": "0.05642",
                                    "Economy (GDP per Capita)": "0.68133",
                                    "Family": "0.97841",
                                    "Health (Life Expectancy)": "0.5392",
                                    "Freedom": "0.57414",
                                    "Trust (Government Corruption)": "0.088",
                                    "Generosity": "0.20536",
                                    "Dystopia Residual": "2.82334"
                                },
                                {
                                    "Country": "Moldova",
                                    "Region": "Central and Eastern Europe",
                                    "Happiness Rank": "52",
                                    "Happiness Score": "5.889",
                                    "Standard Error": "0.03799",
                                    "Economy (GDP per Capita)": "0.59448",
                                    "Family": "1.01528",
                                    "Health (Life Expectancy)": "0.61826",
                                    "Freedom": "0.32818",
                                    "Trust (Government Corruption)": "0.01615",
                                    "Generosity": "0.20951",
                                    "Dystopia Residual": "3.10712"
                                },
                                {
                                    "Country": "Paraguay",
                                    "Region": "Latin America and Caribbean",
                                    "Happiness Rank": "53",
                                    "Happiness Score": "5.878",
                                    "Standard Error": "0.04563",
                                    "Economy (GDP per Capita)": "0.75985",
                                    "Family": "1.30477",
                                    "Health (Life Expectancy)": "0.66098",
                                    "Freedom": "0.53899",
                                    "Trust (Government Corruption)": "0.08242",
                                    "Generosity": "0.3424",
                                    "Dystopia Residual": "2.18896"
                                },
                                {
                                    "Country": "Kazakhstan",
                                    "Region": "Central and Eastern Europe",
                                    "Happiness Rank": "54",
                                    "Happiness Score": "5.855",
                                    "Standard Error": "0.04114",
                                    "Economy (GDP per Capita)": "1.12254",
                                    "Family": "1.12241",
                                    "Health (Life Expectancy)": "0.64368",
                                    "Freedom": "0.51649",
                                    "Trust (Government Corruption)": "0.08454",
                                    "Generosity": "0.11827",
                                    "Dystopia Residual": "2.24729"
                                },
                                {
                                    "Country": "Slovenia",
                                    "Region": "Central and Eastern Europe",
                                    "Happiness Rank": "55",
                                    "Happiness Score": "5.848",
                                    "Standard Error": "0.04251",
                                    "Economy (GDP per Capita)": "1.18498",
                                    "Family": "1.27385",
                                    "Health (Life Expectancy)": "0.87337",
                                    "Freedom": "0.60855",
                                    "Trust (Government Corruption)": "0.03787",
                                    "Generosity": "0.25328",
                                    "Dystopia Residual": "1.61583"
                                },
                                {
                                    "Country": "Lithuania",
                                    "Region": "Central and Eastern Europe",
                                    "Happiness Rank": "56",
                                    "Happiness Score": "5.833",
                                    "Standard Error": "0.03843",
                                    "Economy (GDP per Capita)": "1.14723",
                                    "Family": "1.25745",
                                    "Health (Life Expectancy)": "0.73128",
                                    "Freedom": "0.21342",
                                    "Trust (Government Corruption)": "0.01031",
                                    "Generosity": "0.02641",
                                    "Dystopia Residual": "2.44649"
                                },
                                {
                                    "Country": "Nicaragua",
                                    "Region": "Latin America and Caribbean",
                                    "Happiness Rank": "57",
                                    "Happiness Score": "5.828",
                                    "Standard Error": "0.05371",
                                    "Economy (GDP per Capita)": "0.59325",
                                    "Family": "1.14184",
                                    "Health (Life Expectancy)": "0.74314",
                                    "Freedom": "0.55475",
                                    "Trust (Government Corruption)": "0.19317",
                                    "Generosity": "0.27815",
                                    "Dystopia Residual": "2.32407"
                                },
                                {
                                    "Country": "Peru",
                                    "Region": "Latin America and Caribbean",
                                    "Happiness Rank": "58",
                                    "Happiness Score": "5.824",
                                    "Standard Error": "0.04615",
                                    "Economy (GDP per Capita)": "0.90019",
                                    "Family": "0.97459",
                                    "Health (Life Expectancy)": "0.73017",
                                    "Freedom": "0.41496",
                                    "Trust (Government Corruption)": "0.05989",
                                    "Generosity": "0.14982",
                                    "Dystopia Residual": "2.5945"
                                },
                                {
                                    "Country": "Belarus",
                                    "Region": "Central and Eastern Europe",
                                    "Happiness Rank": "59",
                                    "Happiness Score": "5.813",
                                    "Standard Error": "0.03938",
                                    "Economy (GDP per Capita)": "1.03192",
                                    "Family": "1.23289",
                                    "Health (Life Expectancy)": "0.73608",
                                    "Freedom": "0.37938",
                                    "Trust (Government Corruption)": "0.1909",
                                    "Generosity": "0.11046",
                                    "Dystopia Residual": "2.1309"
                                },
                                {
                                    "Country": "Poland",
                                    "Region": "Central and Eastern Europe",
                                    "Happiness Rank": "60",
                                    "Happiness Score": "5.791",
                                    "Standard Error": "0.04263",
                                    "Economy (GDP per Capita)": "1.12555",
                                    "Family": "1.27948",
                                    "Health (Life Expectancy)": "0.77903",
                                    "Freedom": "0.53122",
                                    "Trust (Government Corruption)": "0.04212",
                                    "Generosity": "0.16759",
                                    "Dystopia Residual": "1.86565"
                                },
                                {
                                    "Country": "Malaysia",
                                    "Region": "Southeastern Asia",
                                    "Happiness Rank": "61",
                                    "Happiness Score": "5.77",
                                    "Standard Error": "0.0433",
                                    "Economy (GDP per Capita)": "1.12486",
                                    "Family": "1.07023",
                                    "Health (Life Expectancy)": "0.72394",
                                    "Freedom": "0.53024",
                                    "Trust (Government Corruption)": "0.10501",
                                    "Generosity": "0.33075",
                                    "Dystopia Residual": "1.88541"
                                },
                                {
                                    "Country": "Croatia",
                                    "Region": "Central and Eastern Europe",
                                    "Happiness Rank": "62",
                                    "Happiness Score": "5.759",
                                    "Standard Error": "0.04394",
                                    "Economy (GDP per Capita)": "1.08254",
                                    "Family": "0.79624",
                                    "Health (Life Expectancy)": "0.78805",
                                    "Freedom": "0.25883",
                                    "Trust (Government Corruption)": "0.0243",
                                    "Generosity": "0.05444",
                                    "Dystopia Residual": "2.75414"
                                },
                                {
                                    "Country": "Libya",
                                    "Region": "Middle East and Northern Africa",
                                    "Happiness Rank": "63",
                                    "Happiness Score": "5.754",
                                    "Standard Error": "0.07832",
                                    "Economy (GDP per Capita)": "1.13145",
                                    "Family": "1.11862",
                                    "Health (Life Expectancy)": "0.7038",
                                    "Freedom": "0.41668",
                                    "Trust (Government Corruption)": "0.11023",
                                    "Generosity": "0.18295",
                                    "Dystopia Residual": "2.09066"
                                },
                                {
                                    "Country": "Russia",
                                    "Region": "Central and Eastern Europe",
                                    "Happiness Rank": "64",
                                    "Happiness Score": "5.716",
                                    "Standard Error": "0.03135",
                                    "Economy (GDP per Capita)": "1.13764",
                                    "Family": "1.23617",
                                    "Health (Life Expectancy)": "0.66926",
                                    "Freedom": "0.36679",
                                    "Trust (Government Corruption)": "0.03005",
                                    "Generosity": "0.00199",
                                    "Dystopia Residual": "2.27394"
                                },
                                {
                                    "Country": "Jamaica",
                                    "Region": "Latin America and Caribbean",
                                    "Happiness Rank": "65",
                                    "Happiness Score": "5.709",
                                    "Standard Error": "0.13693",
                                    "Economy (GDP per Capita)": "0.81038",
                                    "Family": "1.15102",
                                    "Health (Life Expectancy)": "0.68741",
                                    "Freedom": "0.50442",
                                    "Trust (Government Corruption)": "0.02299",
                                    "Generosity": "0.2123",
                                    "Dystopia Residual": "2.32038"
                                },
                                {
                                    "Country": "North Cyprus",
                                    "Region": "Western Europe",
                                    "Happiness Rank": "66",
                                    "Happiness Score": "5.695",
                                    "Standard Error": "0.05635",
                                    "Economy (GDP per Capita)": "1.20806",
                                    "Family": "1.07008",
                                    "Health (Life Expectancy)": "0.92356",
                                    "Freedom": "0.49027",
                                    "Trust (Government Corruption)": "0.1428",
                                    "Generosity": "0.26169",
                                    "Dystopia Residual": "1.59888"
                                },
                                {
                                    "Country": "Cyprus",
                                    "Region": "Western Europe",
                                    "Happiness Rank": "67",
                                    "Happiness Score": "5.689",
                                    "Standard Error": "0.0558",
                                    "Economy (GDP per Capita)": "1.20813",
                                    "Family": "0.89318",
                                    "Health (Life Expectancy)": "0.92356",
                                    "Freedom": "0.40672",
                                    "Trust (Government Corruption)": "0.06146",
                                    "Generosity": "0.30638",
                                    "Dystopia Residual": "1.88931"
                                },
                                {
                                    "Country": "Algeria",
                                    "Region": "Middle East and Northern Africa",
                                    "Happiness Rank": "68",
                                    "Happiness Score": "5.605",
                                    "Standard Error": "0.05099",
                                    "Economy (GDP per Capita)": "0.93929",
                                    "Family": "1.07772",
                                    "Health (Life Expectancy)": "0.61766",
                                    "Freedom": "0.28579",
                                    "Trust (Government Corruption)": "0.17383",
                                    "Generosity": "0.07822",
                                    "Dystopia Residual": "2.43209"
                                },
                                {
                                    "Country": "Kosovo",
                                    "Region": "Central and Eastern Europe",
                                    "Happiness Rank": "69",
                                    "Happiness Score": "5.589",
                                    "Standard Error": "0.05018",
                                    "Economy (GDP per Capita)": "0.80148",
                                    "Family": "0.81198",
                                    "Health (Life Expectancy)": "0.63132",
                                    "Freedom": "0.24749",
                                    "Trust (Government Corruption)": "0.04741",
                                    "Generosity": "0.2831",
                                    "Dystopia Residual": "2.76579"
                                },
                                {
                                    "Country": "Turkmenistan",
                                    "Region": "Central and Eastern Europe",
                                    "Happiness Rank": "70",
                                    "Happiness Score": "5.548",
                                    "Standard Error": "0.04175",
                                    "Economy (GDP per Capita)": "0.95847",
                                    "Family": "1.22668",
                                    "Health (Life Expectancy)": "0.53886",
                                    "Freedom": "0.4761",
                                    "Trust (Government Corruption)": "0.30844",
                                    "Generosity": "0.16979",
                                    "Dystopia Residual": "1.86984"
                                },
                                {
                                    "Country": "Mauritius",
                                    "Region": "Sub-Saharan Africa",
                                    "Happiness Rank": "71",
                                    "Happiness Score": "5.477",
                                    "Standard Error": "0.07197",
                                    "Economy (GDP per Capita)": "1.00761",
                                    "Family": "0.98521",
                                    "Health (Life Expectancy)": "0.7095",
                                    "Freedom": "0.56066",
                                    "Trust (Government Corruption)": "0.07521",
                                    "Generosity": "0.37744",
                                    "Dystopia Residual": "1.76145"
                                },
                                {
                                    "Country": "Hong Kong",
                                    "Region": "Eastern Asia",
                                    "Happiness Rank": "72",
                                    "Happiness Score": "5.474",
                                    "Standard Error": "0.05051",
                                    "Economy (GDP per Capita)": "1.38604",
                                    "Family": "1.05818",
                                    "Health (Life Expectancy)": "1.01328",
                                    "Freedom": "0.59608",
                                    "Trust (Government Corruption)": "0.37124",
                                    "Generosity": "0.39478",
                                    "Dystopia Residual": "0.65429"
                                },
                                {
                                    "Country": "Estonia",
                                    "Region": "Central and Eastern Europe",
                                    "Happiness Rank": "73",
                                    "Happiness Score": "5.429",
                                    "Standard Error": "0.04013",
                                    "Economy (GDP per Capita)": "1.15174",
                                    "Family": "1.22791",
                                    "Health (Life Expectancy)": "0.77361",
                                    "Freedom": "0.44888",
                                    "Trust (Government Corruption)": "0.15184",
                                    "Generosity": "0.0868",
                                    "Dystopia Residual": "1.58782"
                                },
                                {
                                    "Country": "Indonesia",
                                    "Region": "Southeastern Asia",
                                    "Happiness Rank": "74",
                                    "Happiness Score": "5.399",
                                    "Standard Error": "0.02596",
                                    "Economy (GDP per Capita)": "0.82827",
                                    "Family": "1.08708",
                                    "Health (Life Expectancy)": "0.63793",
                                    "Freedom": "0.46611",
                                    "Trust (Government Corruption)": "0",
                                    "Generosity": "0.51535",
                                    "Dystopia Residual": "1.86399"
                                },
                                {
                                    "Country": "Vietnam",
                                    "Region": "Southeastern Asia",
                                    "Happiness Rank": "75",
                                    "Happiness Score": "5.36",
                                    "Standard Error": "0.03107",
                                    "Economy (GDP per Capita)": "0.63216",
                                    "Family": "0.91226",
                                    "Health (Life Expectancy)": "0.74676",
                                    "Freedom": "0.59444",
                                    "Trust (Government Corruption)": "0.10441",
                                    "Generosity": "0.1686",
                                    "Dystopia Residual": "2.20173"
                                },
                                {
                                    "Country": "Turkey",
                                    "Region": "Middle East and Northern Africa",
                                    "Happiness Rank": "76",
                                    "Happiness Score": "5.332",
                                    "Standard Error": "0.03864",
                                    "Economy (GDP per Capita)": "1.06098",
                                    "Family": "0.94632",
                                    "Health (Life Expectancy)": "0.73172",
                                    "Freedom": "0.22815",
                                    "Trust (Government Corruption)": "0.15746",
                                    "Generosity": "0.12253",
                                    "Dystopia Residual": "2.08528"
                                },
                                {
                                    "Country": "Kyrgyzstan",
                                    "Region": "Central and Eastern Europe",
                                    "Happiness Rank": "77",
                                    "Happiness Score": "5.286",
                                    "Standard Error": "0.03823",
                                    "Economy (GDP per Capita)": "0.47428",
                                    "Family": "1.15115",
                                    "Health (Life Expectancy)": "0.65088",
                                    "Freedom": "0.43477",
                                    "Trust (Government Corruption)": "0.04232",
                                    "Generosity": "0.3003",
                                    "Dystopia Residual": "2.2327"
                                },
                                {
                                    "Country": "Nigeria",
                                    "Region": "Sub-Saharan Africa",
                                    "Happiness Rank": "78",
                                    "Happiness Score": "5.268",
                                    "Standard Error": "0.04192",
                                    "Economy (GDP per Capita)": "0.65435",
                                    "Family": "0.90432",
                                    "Health (Life Expectancy)": "0.16007",
                                    "Freedom": "0.34334",
                                    "Trust (Government Corruption)": "0.0403",
                                    "Generosity": "0.27233",
                                    "Dystopia Residual": "2.89319"
                                },
                                {
                                    "Country": "Bhutan",
                                    "Region": "Southern Asia",
                                    "Happiness Rank": "79",
                                    "Happiness Score": "5.253",
                                    "Standard Error": "0.03225",
                                    "Economy (GDP per Capita)": "0.77042",
                                    "Family": "1.10395",
                                    "Health (Life Expectancy)": "0.57407",
                                    "Freedom": "0.53206",
                                    "Trust (Government Corruption)": "0.15445",
                                    "Generosity": "0.47998",
                                    "Dystopia Residual": "1.63794"
                                },
                                {
                                    "Country": "Azerbaijan",
                                    "Region": "Central and Eastern Europe",
                                    "Happiness Rank": "80",
                                    "Happiness Score": "5.212",
                                    "Standard Error": "0.03363",
                                    "Economy (GDP per Capita)": "1.02389",
                                    "Family": "0.93793",
                                    "Health (Life Expectancy)": "0.64045",
                                    "Freedom": "0.3703",
                                    "Trust (Government Corruption)": "0.16065",
                                    "Generosity": "0.07799",
                                    "Dystopia Residual": "2.00073"
                                },
                                {
                                    "Country": "Pakistan",
                                    "Region": "Southern Asia",
                                    "Happiness Rank": "81",
                                    "Happiness Score": "5.194",
                                    "Standard Error": "0.03726",
                                    "Economy (GDP per Capita)": "0.59543",
                                    "Family": "0.41411",
                                    "Health (Life Expectancy)": "0.51466",
                                    "Freedom": "0.12102",
                                    "Trust (Government Corruption)": "0.10464",
                                    "Generosity": "0.33671",
                                    "Dystopia Residual": "3.10709"
                                },
                                {
                                    "Country": "Jordan",
                                    "Region": "Middle East and Northern Africa",
                                    "Happiness Rank": "82",
                                    "Happiness Score": "5.192",
                                    "Standard Error": "0.04524",
                                    "Economy (GDP per Capita)": "0.90198",
                                    "Family": "1.05392",
                                    "Health (Life Expectancy)": "0.69639",
                                    "Freedom": "0.40661",
                                    "Trust (Government Corruption)": "0.14293",
                                    "Generosity": "0.11053",
                                    "Dystopia Residual": "1.87996"
                                },
                                {
                                    "Country": "Montenegro",
                                    "Region": "Central and Eastern Europe",
                                    "Happiness Rank": "82",
                                    "Happiness Score": "5.192",
                                    "Standard Error": "0.05235",
                                    "Economy (GDP per Capita)": "0.97438",
                                    "Family": "0.90557",
                                    "Health (Life Expectancy)": "0.72521",
                                    "Freedom": "0.1826",
                                    "Trust (Government Corruption)": "0.14296",
                                    "Generosity": "0.1614",
                                    "Dystopia Residual": "2.10017"
                                },
                                {
                                    "Country": "China",
                                    "Region": "Eastern Asia",
                                    "Happiness Rank": "84",
                                    "Happiness Score": "5.14",
                                    "Standard Error": "0.02424",
                                    "Economy (GDP per Capita)": "0.89012",
                                    "Family": "0.94675",
                                    "Health (Life Expectancy)": "0.81658",
                                    "Freedom": "0.51697",
                                    "Trust (Government Corruption)": "0.02781",
                                    "Generosity": "0.08185",
                                    "Dystopia Residual": "1.8604"
                                },
                                {
                                    "Country": "Zambia",
                                    "Region": "Sub-Saharan Africa",
                                    "Happiness Rank": "85",
                                    "Happiness Score": "5.129",
                                    "Standard Error": "0.06988",
                                    "Economy (GDP per Capita)": "0.47038",
                                    "Family": "0.91612",
                                    "Health (Life Expectancy)": "0.29924",
                                    "Freedom": "0.48827",
                                    "Trust (Government Corruption)": "0.12468",
                                    "Generosity": "0.19591",
                                    "Dystopia Residual": "2.6343"
                                },
                                {
                                    "Country": "Romania",
                                    "Region": "Central and Eastern Europe",
                                    "Happiness Rank": "86",
                                    "Happiness Score": "5.124",
                                    "Standard Error": "0.06607",
                                    "Economy (GDP per Capita)": "1.04345",
                                    "Family": "0.88588",
                                    "Health (Life Expectancy)": "0.7689",
                                    "Freedom": "0.35068",
                                    "Trust (Government Corruption)": "0.00649",
                                    "Generosity": "0.13748",
                                    "Dystopia Residual": "1.93129"
                                },
                                {
                                    "Country": "Serbia",
                                    "Region": "Central and Eastern Europe",
                                    "Happiness Rank": "87",
                                    "Happiness Score": "5.123",
                                    "Standard Error": "0.04864",
                                    "Economy (GDP per Capita)": "0.92053",
                                    "Family": "1.00964",
                                    "Health (Life Expectancy)": "0.74836",
                                    "Freedom": "0.20107",
                                    "Trust (Government Corruption)": "0.02617",
                                    "Generosity": "0.19231",
                                    "Dystopia Residual": "2.025"
                                },
                                {
                                    "Country": "Portugal",
                                    "Region": "Western Europe",
                                    "Happiness Rank": "88",
                                    "Happiness Score": "5.102",
                                    "Standard Error": "0.04802",
                                    "Economy (GDP per Capita)": "1.15991",
                                    "Family": "1.13935",
                                    "Health (Life Expectancy)": "0.87519",
                                    "Freedom": "0.51469",
                                    "Trust (Government Corruption)": "0.01078",
                                    "Generosity": "0.13719",
                                    "Dystopia Residual": "1.26462"
                                },
                                {
                                    "Country": "Latvia",
                                    "Region": "Central and Eastern Europe",
                                    "Happiness Rank": "89",
                                    "Happiness Score": "5.098",
                                    "Standard Error": "0.0464",
                                    "Economy (GDP per Capita)": "1.11312",
                                    "Family": "1.09562",
                                    "Health (Life Expectancy)": "0.72437",
                                    "Freedom": "0.29671",
                                    "Trust (Government Corruption)": "0.06332",
                                    "Generosity": "0.18226",
                                    "Dystopia Residual": "1.62215"
                                },
                                {
                                    "Country": "Philippines",
                                    "Region": "Southeastern Asia",
                                    "Happiness Rank": "90",
                                    "Happiness Score": "5.073",
                                    "Standard Error": "0.04934",
                                    "Economy (GDP per Capita)": "0.70532",
                                    "Family": "1.03516",
                                    "Health (Life Expectancy)": "0.58114",
                                    "Freedom": "0.62545",
                                    "Trust (Government Corruption)": "0.12279",
                                    "Generosity": "0.24991",
                                    "Dystopia Residual": "1.7536"
                                },
                                {
                                    "Country": "Somaliland region",
                                    "Region": "Sub-Saharan Africa",
                                    "Happiness Rank": "91",
                                    "Happiness Score": "5.057",
                                    "Standard Error": "0.06161",
                                    "Economy (GDP per Capita)": "0.18847",
                                    "Family": "0.95152",
                                    "Health (Life Expectancy)": "0.43873",
                                    "Freedom": "0.46582",
                                    "Trust (Government Corruption)": "0.39928",
                                    "Generosity": "0.50318",
                                    "Dystopia Residual": "2.11032"
                                },
                                {
                                    "Country": "Morocco",
                                    "Region": "Middle East and Northern Africa",
                                    "Happiness Rank": "92",
                                    "Happiness Score": "5.013",
                                    "Standard Error": "0.0342",
                                    "Economy (GDP per Capita)": "0.73479",
                                    "Family": "0.64095",
                                    "Health (Life Expectancy)": "0.60954",
                                    "Freedom": "0.41691",
                                    "Trust (Government Corruption)": "0.08546",
                                    "Generosity": "0.07172",
                                    "Dystopia Residual": "2.45373"
                                },
                                {
                                    "Country": "Macedonia",
                                    "Region": "Central and Eastern Europe",
                                    "Happiness Rank": "93",
                                    "Happiness Score": "5.007",
                                    "Standard Error": "0.05376",
                                    "Economy (GDP per Capita)": "0.91851",
                                    "Family": "1.00232",
                                    "Health (Life Expectancy)": "0.73545",
                                    "Freedom": "0.33457",
                                    "Trust (Government Corruption)": "0.05327",
                                    "Generosity": "0.22359",
                                    "Dystopia Residual": "1.73933"
                                },
                                {
                                    "Country": "Mozambique",
                                    "Region": "Sub-Saharan Africa",
                                    "Happiness Rank": "94",
                                    "Happiness Score": "4.971",
                                    "Standard Error": "0.07896",
                                    "Economy (GDP per Capita)": "0.08308",
                                    "Family": "1.02626",
                                    "Health (Life Expectancy)": "0.09131",
                                    "Freedom": "0.34037",
                                    "Trust (Government Corruption)": "0.15603",
                                    "Generosity": "0.22269",
                                    "Dystopia Residual": "3.05137"
                                },
                                {
                                    "Country": "Albania",
                                    "Region": "Central and Eastern Europe",
                                    "Happiness Rank": "95",
                                    "Happiness Score": "4.959",
                                    "Standard Error": "0.05013",
                                    "Economy (GDP per Capita)": "0.87867",
                                    "Family": "0.80434",
                                    "Health (Life Expectancy)": "0.81325",
                                    "Freedom": "0.35733",
                                    "Trust (Government Corruption)": "0.06413",
                                    "Generosity": "0.14272",
                                    "Dystopia Residual": "1.89894"
                                },
                                {
                                    "Country": "Bosnia and Herzegovina",
                                    "Region": "Central and Eastern Europe",
                                    "Happiness Rank": "96",
                                    "Happiness Score": "4.949",
                                    "Standard Error": "0.06913",
                                    "Economy (GDP per Capita)": "0.83223",
                                    "Family": "0.91916",
                                    "Health (Life Expectancy)": "0.79081",
                                    "Freedom": "0.09245",
                                    "Trust (Government Corruption)": "0.00227",
                                    "Generosity": "0.24808",
                                    "Dystopia Residual": "2.06367"
                                },
                                {
                                    "Country": "Lesotho",
                                    "Region": "Sub-Saharan Africa",
                                    "Happiness Rank": "97",
                                    "Happiness Score": "4.898",
                                    "Standard Error": "0.09438",
                                    "Economy (GDP per Capita)": "0.37545",
                                    "Family": "1.04103",
                                    "Health (Life Expectancy)": "0.07612",
                                    "Freedom": "0.31767",
                                    "Trust (Government Corruption)": "0.12504",
                                    "Generosity": "0.16388",
                                    "Dystopia Residual": "2.79832"
                                },
                                {
                                    "Country": "Dominican Republic",
                                    "Region": "Latin America and Caribbean",
                                    "Happiness Rank": "98",
                                    "Happiness Score": "4.885",
                                    "Standard Error": "0.07446",
                                    "Economy (GDP per Capita)": "0.89537",
                                    "Family": "1.17202",
                                    "Health (Life Expectancy)": "0.66825",
                                    "Freedom": "0.57672",
                                    "Trust (Government Corruption)": "0.14234",
                                    "Generosity": "0.21684",
                                    "Dystopia Residual": "1.21305"
                                },
                                {
                                    "Country": "Laos",
                                    "Region": "Southeastern Asia",
                                    "Happiness Rank": "99",
                                    "Happiness Score": "4.876",
                                    "Standard Error": "0.06698",
                                    "Economy (GDP per Capita)": "0.59066",
                                    "Family": "0.73803",
                                    "Health (Life Expectancy)": "0.54909",
                                    "Freedom": "0.59591",
                                    "Trust (Government Corruption)": "0.24249",
                                    "Generosity": "0.42192",
                                    "Dystopia Residual": "1.73799"
                                },
                                {
                                    "Country": "Mongolia",
                                    "Region": "Eastern Asia",
                                    "Happiness Rank": "100",
                                    "Happiness Score": "4.874",
                                    "Standard Error": "0.03313",
                                    "Economy (GDP per Capita)": "0.82819",
                                    "Family": "1.3006",
                                    "Health (Life Expectancy)": "0.60268",
                                    "Freedom": "0.43626",
                                    "Trust (Government Corruption)": "0.02666",
                                    "Generosity": "0.3323",
                                    "Dystopia Residual": "1.34759"
                                },
                                {
                                    "Country": "Swaziland",
                                    "Region": "Sub-Saharan Africa",
                                    "Happiness Rank": "101",
                                    "Happiness Score": "4.867",
                                    "Standard Error": "0.08742",
                                    "Economy (GDP per Capita)": "0.71206",
                                    "Family": "1.07284",
                                    "Health (Life Expectancy)": "0.07566",
                                    "Freedom": "0.30658",
                                    "Trust (Government Corruption)": "0.0306",
                                    "Generosity": "0.18259",
                                    "Dystopia Residual": "2.48676"
                                },
                                {
                                    "Country": "Greece",
                                    "Region": "Western Europe",
                                    "Happiness Rank": "102",
                                    "Happiness Score": "4.857",
                                    "Standard Error": "0.05062",
                                    "Economy (GDP per Capita)": "1.15406",
                                    "Family": "0.92933",
                                    "Health (Life Expectancy)": "0.88213",
                                    "Freedom": "0.07699",
                                    "Trust (Government Corruption)": "0.01397",
                                    "Generosity": "0",
                                    "Dystopia Residual": "1.80101"
                                },
                                {
                                    "Country": "Lebanon",
                                    "Region": "Middle East and Northern Africa",
                                    "Happiness Rank": "103",
                                    "Happiness Score": "4.839",
                                    "Standard Error": "0.04337",
                                    "Economy (GDP per Capita)": "1.02564",
                                    "Family": "0.80001",
                                    "Health (Life Expectancy)": "0.83947",
                                    "Freedom": "0.33916",
                                    "Trust (Government Corruption)": "0.04582",
                                    "Generosity": "0.21854",
                                    "Dystopia Residual": "1.57059"
                                },
                                {
                                    "Country": "Hungary",
                                    "Region": "Central and Eastern Europe",
                                    "Happiness Rank": "104",
                                    "Happiness Score": "4.8",
                                    "Standard Error": "0.06107",
                                    "Economy (GDP per Capita)": "1.12094",
                                    "Family": "1.20215",
                                    "Health (Life Expectancy)": "0.75905",
                                    "Freedom": "0.32112",
                                    "Trust (Government Corruption)": "0.02758",
                                    "Generosity": "0.128",
                                    "Dystopia Residual": "1.24074"
                                },
                                {
                                    "Country": "Honduras",
                                    "Region": "Latin America and Caribbean",
                                    "Happiness Rank": "105",
                                    "Happiness Score": "4.788",
                                    "Standard Error": "0.05648",
                                    "Economy (GDP per Capita)": "0.59532",
                                    "Family": "0.95348",
                                    "Health (Life Expectancy)": "0.6951",
                                    "Freedom": "0.40148",
                                    "Trust (Government Corruption)": "0.06825",
                                    "Generosity": "0.23027",
                                    "Dystopia Residual": "1.84408"
                                },
                                {
                                    "Country": "Tajikistan",
                                    "Region": "Central and Eastern Europe",
                                    "Happiness Rank": "106",
                                    "Happiness Score": "4.786",
                                    "Standard Error": "0.03198",
                                    "Economy (GDP per Capita)": "0.39047",
                                    "Family": "0.85563",
                                    "Health (Life Expectancy)": "0.57379",
                                    "Freedom": "0.47216",
                                    "Trust (Government Corruption)": "0.15072",
                                    "Generosity": "0.22974",
                                    "Dystopia Residual": "2.11399"
                                },
                                {
                                    "Country": "Tunisia",
                                    "Region": "Middle East and Northern Africa",
                                    "Happiness Rank": "107",
                                    "Happiness Score": "4.739",
                                    "Standard Error": "0.03589",
                                    "Economy (GDP per Capita)": "0.88113",
                                    "Family": "0.60429",
                                    "Health (Life Expectancy)": "0.73793",
                                    "Freedom": "0.26268",
                                    "Trust (Government Corruption)": "0.06358",
                                    "Generosity": "0.06431",
                                    "Dystopia Residual": "2.12466"
                                },
                                {
                                    "Country": "Palestinian Territories",
                                    "Region": "Middle East and Northern Africa",
                                    "Happiness Rank": "108",
                                    "Happiness Score": "4.715",
                                    "Standard Error": "0.04394",
                                    "Economy (GDP per Capita)": "0.59867",
                                    "Family": "0.92558",
                                    "Health (Life Expectancy)": "0.66015",
                                    "Freedom": "0.24499",
                                    "Trust (Government Corruption)": "0.12905",
                                    "Generosity": "0.11251",
                                    "Dystopia Residual": "2.04384"
                                },
                                {
                                    "Country": "Bangladesh",
                                    "Region": "Southern Asia",
                                    "Happiness Rank": "109",
                                    "Happiness Score": "4.694",
                                    "Standard Error": "0.03077",
                                    "Economy (GDP per Capita)": "0.39753",
                                    "Family": "0.43106",
                                    "Health (Life Expectancy)": "0.60164",
                                    "Freedom": "0.4082",
                                    "Trust (Government Corruption)": "0.12569",
                                    "Generosity": "0.21222",
                                    "Dystopia Residual": "2.51767"
                                },
                                {
                                    "Country": "Iran",
                                    "Region": "Middle East and Northern Africa",
                                    "Happiness Rank": "110",
                                    "Happiness Score": "4.686",
                                    "Standard Error": "0.04449",
                                    "Economy (GDP per Capita)": "1.0088",
                                    "Family": "0.54447",
                                    "Health (Life Expectancy)": "0.69805",
                                    "Freedom": "0.30033",
                                    "Trust (Government Corruption)": "0.05863",
                                    "Generosity": "0.38086",
                                    "Dystopia Residual": "1.6944"
                                },
                                {
                                    "Country": "Ukraine",
                                    "Region": "Central and Eastern Europe",
                                    "Happiness Rank": "111",
                                    "Happiness Score": "4.681",
                                    "Standard Error": "0.04412",
                                    "Economy (GDP per Capita)": "0.79907",
                                    "Family": "1.20278",
                                    "Health (Life Expectancy)": "0.6739",
                                    "Freedom": "0.25123",
                                    "Trust (Government Corruption)": "0.02961",
                                    "Generosity": "0.15275",
                                    "Dystopia Residual": "1.5714"
                                },
                                {
                                    "Country": "Iraq",
                                    "Region": "Middle East and Northern Africa",
                                    "Happiness Rank": "112",
                                    "Happiness Score": "4.677",
                                    "Standard Error": "0.05232",
                                    "Economy (GDP per Capita)": "0.98549",
                                    "Family": "0.81889",
                                    "Health (Life Expectancy)": "0.60237",
                                    "Freedom": "0",
                                    "Trust (Government Corruption)": "0.13788",
                                    "Generosity": "0.17922",
                                    "Dystopia Residual": "1.95335"
                                },
                                {
                                    "Country": "South Africa",
                                    "Region": "Sub-Saharan Africa",
                                    "Happiness Rank": "113",
                                    "Happiness Score": "4.642",
                                    "Standard Error": "0.04585",
                                    "Economy (GDP per Capita)": "0.92049",
                                    "Family": "1.18468",
                                    "Health (Life Expectancy)": "0.27688",
                                    "Freedom": "0.33207",
                                    "Trust (Government Corruption)": "0.08884",
                                    "Generosity": "0.11973",
                                    "Dystopia Residual": "1.71956"
                                },
                                {
                                    "Country": "Ghana",
                                    "Region": "Sub-Saharan Africa",
                                    "Happiness Rank": "114",
                                    "Happiness Score": "4.633",
                                    "Standard Error": "0.04742",
                                    "Economy (GDP per Capita)": "0.54558",
                                    "Family": "0.67954",
                                    "Health (Life Expectancy)": "0.40132",
                                    "Freedom": "0.42342",
                                    "Trust (Government Corruption)": "0.04355",
                                    "Generosity": "0.23087",
                                    "Dystopia Residual": "2.30919"
                                },
                                {
                                    "Country": "Zimbabwe",
                                    "Region": "Sub-Saharan Africa",
                                    "Happiness Rank": "115",
                                    "Happiness Score": "4.61",
                                    "Standard Error": "0.0429",
                                    "Economy (GDP per Capita)": "0.271",
                                    "Family": "1.03276",
                                    "Health (Life Expectancy)": "0.33475",
                                    "Freedom": "0.25861",
                                    "Trust (Government Corruption)": "0.08079",
                                    "Generosity": "0.18987",
                                    "Dystopia Residual": "2.44191"
                                },
                                {
                                    "Country": "Liberia",
                                    "Region": "Sub-Saharan Africa",
                                    "Happiness Rank": "116",
                                    "Happiness Score": "4.571",
                                    "Standard Error": "0.11068",
                                    "Economy (GDP per Capita)": "0.0712",
                                    "Family": "0.78968",
                                    "Health (Life Expectancy)": "0.34201",
                                    "Freedom": "0.28531",
                                    "Trust (Government Corruption)": "0.06232",
                                    "Generosity": "0.24362",
                                    "Dystopia Residual": "2.77729"
                                },
                                {
                                    "Country": "India",
                                    "Region": "Southern Asia",
                                    "Happiness Rank": "117",
                                    "Happiness Score": "4.565",
                                    "Standard Error": "0.02043",
                                    "Economy (GDP per Capita)": "0.64499",
                                    "Family": "0.38174",
                                    "Health (Life Expectancy)": "0.51529",
                                    "Freedom": "0.39786",
                                    "Trust (Government Corruption)": "0.08492",
                                    "Generosity": "0.26475",
                                    "Dystopia Residual": "2.27513"
                                },
                                {
                                    "Country": "Sudan",
                                    "Region": "Sub-Saharan Africa",
                                    "Happiness Rank": "118",
                                    "Happiness Score": "4.55",
                                    "Standard Error": "0.0674",
                                    "Economy (GDP per Capita)": "0.52107",
                                    "Family": "1.01404",
                                    "Health (Life Expectancy)": "0.36878",
                                    "Freedom": "0.10081",
                                    "Trust (Government Corruption)": "0.1466",
                                    "Generosity": "0.19062",
                                    "Dystopia Residual": "2.20857"
                                },
                                {
                                    "Country": "Haiti",
                                    "Region": "Latin America and Caribbean",
                                    "Happiness Rank": "119",
                                    "Happiness Score": "4.518",
                                    "Standard Error": "0.07331",
                                    "Economy (GDP per Capita)": "0.26673",
                                    "Family": "0.74302",
                                    "Health (Life Expectancy)": "0.38847",
                                    "Freedom": "0.24425",
                                    "Trust (Government Corruption)": "0.17175",
                                    "Generosity": "0.46187",
                                    "Dystopia Residual": "2.24173"
                                },
                                {
                                    "Country": "Congo (Kinshasa)",
                                    "Region": "Sub-Saharan Africa",
                                    "Happiness Rank": "120",
                                    "Happiness Score": "4.517",
                                    "Standard Error": "0.0368",
                                    "Economy (GDP per Capita)": "0",
                                    "Family": "1.0012",
                                    "Health (Life Expectancy)": "0.09806",
                                    "Freedom": "0.22605",
                                    "Trust (Government Corruption)": "0.07625",
                                    "Generosity": "0.24834",
                                    "Dystopia Residual": "2.86712"
                                },
                                {
                                    "Country": "Nepal",
                                    "Region": "Southern Asia",
                                    "Happiness Rank": "121",
                                    "Happiness Score": "4.514",
                                    "Standard Error": "0.03607",
                                    "Economy (GDP per Capita)": "0.35997",
                                    "Family": "0.86449",
                                    "Health (Life Expectancy)": "0.56874",
                                    "Freedom": "0.38282",
                                    "Trust (Government Corruption)": "0.05907",
                                    "Generosity": "0.32296",
                                    "Dystopia Residual": "1.95637"
                                },
                                {
                                    "Country": "Ethiopia",
                                    "Region": "Sub-Saharan Africa",
                                    "Happiness Rank": "122",
                                    "Happiness Score": "4.512",
                                    "Standard Error": "0.0378",
                                    "Economy (GDP per Capita)": "0.19073",
                                    "Family": "0.60406",
                                    "Health (Life Expectancy)": "0.44055",
                                    "Freedom": "0.4345",
                                    "Trust (Government Corruption)": "0.15048",
                                    "Generosity": "0.24325",
                                    "Dystopia Residual": "2.44876"
                                },
                                {
                                    "Country": "Sierra Leone",
                                    "Region": "Sub-Saharan Africa",
                                    "Happiness Rank": "123",
                                    "Happiness Score": "4.507",
                                    "Standard Error": "0.07068",
                                    "Economy (GDP per Capita)": "0.33024",
                                    "Family": "0.95571",
                                    "Health (Life Expectancy)": "0",
                                    "Freedom": "0.4084",
                                    "Trust (Government Corruption)": "0.08786",
                                    "Generosity": "0.21488",
                                    "Dystopia Residual": "2.51009"
                                },
                                {
                                    "Country": "Mauritania",
                                    "Region": "Sub-Saharan Africa",
                                    "Happiness Rank": "124",
                                    "Happiness Score": "4.436",
                                    "Standard Error": "0.03947",
                                    "Economy (GDP per Capita)": "0.45407",
                                    "Family": "0.86908",
                                    "Health (Life Expectancy)": "0.35874",
                                    "Freedom": "0.24232",
                                    "Trust (Government Corruption)": "0.17461",
                                    "Generosity": "0.219",
                                    "Dystopia Residual": "2.11773"
                                },
                                {
                                    "Country": "Kenya",
                                    "Region": "Sub-Saharan Africa",
                                    "Happiness Rank": "125",
                                    "Happiness Score": "4.419",
                                    "Standard Error": "0.04734",
                                    "Economy (GDP per Capita)": "0.36471",
                                    "Family": "0.99876",
                                    "Health (Life Expectancy)": "0.41435",
                                    "Freedom": "0.42215",
                                    "Trust (Government Corruption)": "0.05839",
                                    "Generosity": "0.37542",
                                    "Dystopia Residual": "1.78555"
                                },
                                {
                                    "Country": "Djibouti",
                                    "Region": "Sub-Saharan Africa",
                                    "Happiness Rank": "126",
                                    "Happiness Score": "4.369",
                                    "Standard Error": "0.08096",
                                    "Economy (GDP per Capita)": "0.44025",
                                    "Family": "0.59207",
                                    "Health (Life Expectancy)": "0.36291",
                                    "Freedom": "0.46074",
                                    "Trust (Government Corruption)": "0.28105",
                                    "Generosity": "0.18093",
                                    "Dystopia Residual": "2.05125"
                                },
                                {
                                    "Country": "Armenia",
                                    "Region": "Central and Eastern Europe",
                                    "Happiness Rank": "127",
                                    "Happiness Score": "4.35",
                                    "Standard Error": "0.04763",
                                    "Economy (GDP per Capita)": "0.76821",
                                    "Family": "0.77711",
                                    "Health (Life Expectancy)": "0.7299",
                                    "Freedom": "0.19847",
                                    "Trust (Government Corruption)": "0.039",
                                    "Generosity": "0.07855",
                                    "Dystopia Residual": "1.75873"
                                },
                                {
                                    "Country": "Botswana",
                                    "Region": "Sub-Saharan Africa",
                                    "Happiness Rank": "128",
                                    "Happiness Score": "4.332",
                                    "Standard Error": "0.04934",
                                    "Economy (GDP per Capita)": "0.99355",
                                    "Family": "1.10464",
                                    "Health (Life Expectancy)": "0.04776",
                                    "Freedom": "0.49495",
                                    "Trust (Government Corruption)": "0.12474",
                                    "Generosity": "0.10461",
                                    "Dystopia Residual": "1.46181"
                                },
                                {
                                    "Country": "Myanmar",
                                    "Region": "Southeastern Asia",
                                    "Happiness Rank": "129",
                                    "Happiness Score": "4.307",
                                    "Standard Error": "0.04351",
                                    "Economy (GDP per Capita)": "0.27108",
                                    "Family": "0.70905",
                                    "Health (Life Expectancy)": "0.48246",
                                    "Freedom": "0.44017",
                                    "Trust (Government Corruption)": "0.19034",
                                    "Generosity": "0.79588",
                                    "Dystopia Residual": "1.41805"
                                },
                                {
                                    "Country": "Georgia",
                                    "Region": "Central and Eastern Europe",
                                    "Happiness Rank": "130",
                                    "Happiness Score": "4.297",
                                    "Standard Error": "0.04221",
                                    "Economy (GDP per Capita)": "0.7419",
                                    "Family": "0.38562",
                                    "Health (Life Expectancy)": "0.72926",
                                    "Freedom": "0.40577",
                                    "Trust (Government Corruption)": "0.38331",
                                    "Generosity": "0.05547",
                                    "Dystopia Residual": "1.59541"
                                },
                                {
                                    "Country": "Malawi",
                                    "Region": "Sub-Saharan Africa",
                                    "Happiness Rank": "131",
                                    "Happiness Score": "4.292",
                                    "Standard Error": "0.0613",
                                    "Economy (GDP per Capita)": "0.01604",
                                    "Family": "0.41134",
                                    "Health (Life Expectancy)": "0.22562",
                                    "Freedom": "0.43054",
                                    "Trust (Government Corruption)": "0.06977",
                                    "Generosity": "0.33128",
                                    "Dystopia Residual": "2.80791"
                                },
                                {
                                    "Country": "Sri Lanka",
                                    "Region": "Southern Asia",
                                    "Happiness Rank": "132",
                                    "Happiness Score": "4.271",
                                    "Standard Error": "0.03751",
                                    "Economy (GDP per Capita)": "0.83524",
                                    "Family": "1.01905",
                                    "Health (Life Expectancy)": "0.70806",
                                    "Freedom": "0.53726",
                                    "Trust (Government Corruption)": "0.09179",
                                    "Generosity": "0.40828",
                                    "Dystopia Residual": "0.67108"
                                },
                                {
                                    "Country": "Cameroon",
                                    "Region": "Sub-Saharan Africa",
                                    "Happiness Rank": "133",
                                    "Happiness Score": "4.252",
                                    "Standard Error": "0.04678",
                                    "Economy (GDP per Capita)": "0.4225",
                                    "Family": "0.88767",
                                    "Health (Life Expectancy)": "0.23402",
                                    "Freedom": "0.49309",
                                    "Trust (Government Corruption)": "0.05786",
                                    "Generosity": "0.20618",
                                    "Dystopia Residual": "1.95071"
                                },
                                {
                                    "Country": "Bulgaria",
                                    "Region": "Central and Eastern Europe",
                                    "Happiness Rank": "134",
                                    "Happiness Score": "4.218",
                                    "Standard Error": "0.04828",
                                    "Economy (GDP per Capita)": "1.01216",
                                    "Family": "1.10614",
                                    "Health (Life Expectancy)": "0.76649",
                                    "Freedom": "0.30587",
                                    "Trust (Government Corruption)": "0.00872",
                                    "Generosity": "0.11921",
                                    "Dystopia Residual": "0.89991"
                                },
                                {
                                    "Country": "Egypt",
                                    "Region": "Middle East and Northern Africa",
                                    "Happiness Rank": "135",
                                    "Happiness Score": "4.194",
                                    "Standard Error": "0.0326",
                                    "Economy (GDP per Capita)": "0.8818",
                                    "Family": "0.747",
                                    "Health (Life Expectancy)": "0.61712",
                                    "Freedom": "0.17288",
                                    "Trust (Government Corruption)": "0.06324",
                                    "Generosity": "0.11291",
                                    "Dystopia Residual": "1.59927"
                                },
                                {
                                    "Country": "Yemen",
                                    "Region": "Middle East and Northern Africa",
                                    "Happiness Rank": "136",
                                    "Happiness Score": "4.077",
                                    "Standard Error": "0.04367",
                                    "Economy (GDP per Capita)": "0.54649",
                                    "Family": "0.68093",
                                    "Health (Life Expectancy)": "0.40064",
                                    "Freedom": "0.35571",
                                    "Trust (Government Corruption)": "0.07854",
                                    "Generosity": "0.09131",
                                    "Dystopia Residual": "1.92313"
                                },
                                {
                                    "Country": "Angola",
                                    "Region": "Sub-Saharan Africa",
                                    "Happiness Rank": "137",
                                    "Happiness Score": "4.033",
                                    "Standard Error": "0.04758",
                                    "Economy (GDP per Capita)": "0.75778",
                                    "Family": "0.8604",
                                    "Health (Life Expectancy)": "0.16683",
                                    "Freedom": "0.10384",
                                    "Trust (Government Corruption)": "0.07122",
                                    "Generosity": "0.12344",
                                    "Dystopia Residual": "1.94939"
                                },
                                {
                                    "Country": "Mali",
                                    "Region": "Sub-Saharan Africa",
                                    "Happiness Rank": "138",
                                    "Happiness Score": "3.995",
                                    "Standard Error": "0.05602",
                                    "Economy (GDP per Capita)": "0.26074",
                                    "Family": "1.03526",
                                    "Health (Life Expectancy)": "0.20583",
                                    "Freedom": "0.38857",
                                    "Trust (Government Corruption)": "0.12352",
                                    "Generosity": "0.18798",
                                    "Dystopia Residual": "1.79293"
                                },
                                {
                                    "Country": "Congo (Brazzaville)",
                                    "Region": "Sub-Saharan Africa",
                                    "Happiness Rank": "139",
                                    "Happiness Score": "3.989",
                                    "Standard Error": "0.06682",
                                    "Economy (GDP per Capita)": "0.67866",
                                    "Family": "0.6629",
                                    "Health (Life Expectancy)": "0.31051",
                                    "Freedom": "0.41466",
                                    "Trust (Government Corruption)": "0.11686",
                                    "Generosity": "0.12388",
                                    "Dystopia Residual": "1.68135"
                                },
                                {
                                    "Country": "Comoros",
                                    "Region": "Sub-Saharan Africa",
                                    "Happiness Rank": "140",
                                    "Happiness Score": "3.956",
                                    "Standard Error": "0.04797",
                                    "Economy (GDP per Capita)": "0.23906",
                                    "Family": "0.79273",
                                    "Health (Life Expectancy)": "0.36315",
                                    "Freedom": "0.22917",
                                    "Trust (Government Corruption)": "0.199",
                                    "Generosity": "0.17441",
                                    "Dystopia Residual": "1.95812"
                                },
                                {
                                    "Country": "Uganda",
                                    "Region": "Sub-Saharan Africa",
                                    "Happiness Rank": "141",
                                    "Happiness Score": "3.931",
                                    "Standard Error": "0.04317",
                                    "Economy (GDP per Capita)": "0.21102",
                                    "Family": "1.13299",
                                    "Health (Life Expectancy)": "0.33861",
                                    "Freedom": "0.45727",
                                    "Trust (Government Corruption)": "0.07267",
                                    "Generosity": "0.29066",
                                    "Dystopia Residual": "1.42766"
                                },
                                {
                                    "Country": "Senegal",
                                    "Region": "Sub-Saharan Africa",
                                    "Happiness Rank": "142",
                                    "Happiness Score": "3.904",
                                    "Standard Error": "0.03608",
                                    "Economy (GDP per Capita)": "0.36498",
                                    "Family": "0.97619",
                                    "Health (Life Expectancy)": "0.4354",
                                    "Freedom": "0.36772",
                                    "Trust (Government Corruption)": "0.10713",
                                    "Generosity": "0.20843",
                                    "Dystopia Residual": "1.44395"
                                },
                                {
                                    "Country": "Gabon",
                                    "Region": "Sub-Saharan Africa",
                                    "Happiness Rank": "143",
                                    "Happiness Score": "3.896",
                                    "Standard Error": "0.04547",
                                    "Economy (GDP per Capita)": "1.06024",
                                    "Family": "0.90528",
                                    "Health (Life Expectancy)": "0.43372",
                                    "Freedom": "0.31914",
                                    "Trust (Government Corruption)": "0.11091",
                                    "Generosity": "0.06822",
                                    "Dystopia Residual": "0.99895"
                                },
                                {
                                    "Country": "Niger",
                                    "Region": "Sub-Saharan Africa",
                                    "Happiness Rank": "144",
                                    "Happiness Score": "3.845",
                                    "Standard Error": "0.03602",
                                    "Economy (GDP per Capita)": "0.0694",
                                    "Family": "0.77265",
                                    "Health (Life Expectancy)": "0.29707",
                                    "Freedom": "0.47692",
                                    "Trust (Government Corruption)": "0.15639",
                                    "Generosity": "0.19387",
                                    "Dystopia Residual": "1.87877"
                                },
                                {
                                    "Country": "Cambodia",
                                    "Region": "Southeastern Asia",
                                    "Happiness Rank": "145",
                                    "Happiness Score": "3.819",
                                    "Standard Error": "0.05069",
                                    "Economy (GDP per Capita)": "0.46038",
                                    "Family": "0.62736",
                                    "Health (Life Expectancy)": "0.61114",
                                    "Freedom": "0.66246",
                                    "Trust (Government Corruption)": "0.07247",
                                    "Generosity": "0.40359",
                                    "Dystopia Residual": "0.98195"
                                },
                                {
                                    "Country": "Tanzania",
                                    "Region": "Sub-Saharan Africa",
                                    "Happiness Rank": "146",
                                    "Happiness Score": "3.781",
                                    "Standard Error": "0.05061",
                                    "Economy (GDP per Capita)": "0.2852",
                                    "Family": "1.00268",
                                    "Health (Life Expectancy)": "0.38215",
                                    "Freedom": "0.32878",
                                    "Trust (Government Corruption)": "0.05747",
                                    "Generosity": "0.34377",
                                    "Dystopia Residual": "1.38079"
                                },
                                {
                                    "Country": "Madagascar",
                                    "Region": "Sub-Saharan Africa",
                                    "Happiness Rank": "147",
                                    "Happiness Score": "3.681",
                                    "Standard Error": "0.03633",
                                    "Economy (GDP per Capita)": "0.20824",
                                    "Family": "0.66801",
                                    "Health (Life Expectancy)": "0.46721",
                                    "Freedom": "0.19184",
                                    "Trust (Government Corruption)": "0.08124",
                                    "Generosity": "0.21333",
                                    "Dystopia Residual": "1.851"
                                },
                                {
                                    "Country": "Central African Republic",
                                    "Region": "Sub-Saharan Africa",
                                    "Happiness Rank": "148",
                                    "Happiness Score": "3.678",
                                    "Standard Error": "0.06112",
                                    "Economy (GDP per Capita)": "0.0785",
                                    "Family": "0",
                                    "Health (Life Expectancy)": "0.06699",
                                    "Freedom": "0.48879",
                                    "Trust (Government Corruption)": "0.08289",
                                    "Generosity": "0.23835",
                                    "Dystopia Residual": "2.7223"
                                },
                                {
                                    "Country": "Chad",
                                    "Region": "Sub-Saharan Africa",
                                    "Happiness Rank": "149",
                                    "Happiness Score": "3.667",
                                    "Standard Error": "0.0383",
                                    "Economy (GDP per Capita)": "0.34193",
                                    "Family": "0.76062",
                                    "Health (Life Expectancy)": "0.1501",
                                    "Freedom": "0.23501",
                                    "Trust (Government Corruption)": "0.05269",
                                    "Generosity": "0.18386",
                                    "Dystopia Residual": "1.94296"
                                },
                                {
                                    "Country": "Guinea",
                                    "Region": "Sub-Saharan Africa",
                                    "Happiness Rank": "150",
                                    "Happiness Score": "3.656",
                                    "Standard Error": "0.0359",
                                    "Economy (GDP per Capita)": "0.17417",
                                    "Family": "0.46475",
                                    "Health (Life Expectancy)": "0.24009",
                                    "Freedom": "0.37725",
                                    "Trust (Government Corruption)": "0.12139",
                                    "Generosity": "0.28657",
                                    "Dystopia Residual": "1.99172"
                                },
                                {
                                    "Country": "Ivory Coast",
                                    "Region": "Sub-Saharan Africa",
                                    "Happiness Rank": "151",
                                    "Happiness Score": "3.655",
                                    "Standard Error": "0.05141",
                                    "Economy (GDP per Capita)": "0.46534",
                                    "Family": "0.77115",
                                    "Health (Life Expectancy)": "0.15185",
                                    "Freedom": "0.46866",
                                    "Trust (Government Corruption)": "0.17922",
                                    "Generosity": "0.20165",
                                    "Dystopia Residual": "1.41723"
                                },
                                {
                                    "Country": "Burkina Faso",
                                    "Region": "Sub-Saharan Africa",
                                    "Happiness Rank": "152",
                                    "Happiness Score": "3.587",
                                    "Standard Error": "0.04324",
                                    "Economy (GDP per Capita)": "0.25812",
                                    "Family": "0.85188",
                                    "Health (Life Expectancy)": "0.27125",
                                    "Freedom": "0.39493",
                                    "Trust (Government Corruption)": "0.12832",
                                    "Generosity": "0.21747",
                                    "Dystopia Residual": "1.46494"
                                },
                                {
                                    "Country": "Afghanistan",
                                    "Region": "Southern Asia",
                                    "Happiness Rank": "153",
                                    "Happiness Score": "3.575",
                                    "Standard Error": "0.03084",
                                    "Economy (GDP per Capita)": "0.31982",
                                    "Family": "0.30285",
                                    "Health (Life Expectancy)": "0.30335",
                                    "Freedom": "0.23414",
                                    "Trust (Government Corruption)": "0.09719",
                                    "Generosity": "0.3651",
                                    "Dystopia Residual": "1.9521"
                                },
                                {
                                    "Country": "Rwanda",
                                    "Region": "Sub-Saharan Africa",
                                    "Happiness Rank": "154",
                                    "Happiness Score": "3.465",
                                    "Standard Error": "0.03464",
                                    "Economy (GDP per Capita)": "0.22208",
                                    "Family": "0.7737",
                                    "Health (Life Expectancy)": "0.42864",
                                    "Freedom": "0.59201",
                                    "Trust (Government Corruption)": "0.55191",
                                    "Generosity": "0.22628",
                                    "Dystopia Residual": "0.67042"
                                },
                                {
                                    "Country": "Benin",
                                    "Region": "Sub-Saharan Africa",
                                    "Happiness Rank": "155",
                                    "Happiness Score": "3.34",
                                    "Standard Error": "0.03656",
                                    "Economy (GDP per Capita)": "0.28665",
                                    "Family": "0.35386",
                                    "Health (Life Expectancy)": "0.3191",
                                    "Freedom": "0.4845",
                                    "Trust (Government Corruption)": "0.0801",
                                    "Generosity": "0.1826",
                                    "Dystopia Residual": "1.63328"
                                },
                                {
                                    "Country": "Syria",
                                    "Region": "Middle East and Northern Africa",
                                    "Happiness Rank": "156",
                                    "Happiness Score": "3.006",
                                    "Standard Error": "0.05015",
                                    "Economy (GDP per Capita)": "0.6632",
                                    "Family": "0.47489",
                                    "Health (Life Expectancy)": "0.72193",
                                    "Freedom": "0.15684",
                                    "Trust (Government Corruption)": "0.18906",
                                    "Generosity": "0.47179",
                                    "Dystopia Residual": "0.32858"
                                },
                                {
                                    "Country": "Burundi",
                                    "Region": "Sub-Saharan Africa",
                                    "Happiness Rank": "157",
                                    "Happiness Score": "2.905",
                                    "Standard Error": "0.08658",
                                    "Economy (GDP per Capita)": "0.0153",
                                    "Family": "0.41587",
                                    "Health (Life Expectancy)": "0.22396",
                                    "Freedom": "0.1185",
                                    "Trust (Government Corruption)": "0.10062",
                                    "Generosity": "0.19727",
                                    "Dystopia Residual": "1.83302"
                                },
                                {
                                    "Country": "Togo",
                                    "Region": "Sub-Saharan Africa",
                                    "Happiness Rank": "158",
                                    "Happiness Score": "2.839",
                                    "Standard Error": "0.06727",
                                    "Economy (GDP per Capita)": "0.20868",
                                    "Family": "0.13995",
                                    "Health (Life Expectancy)": "0.28443",
                                    "Freedom": "0.36453",
                                    "Trust (Government Corruption)": "0.10731",
                                    "Generosity": "0.16681",
                                    "Dystopia Residual": "1.56726"
                                }
                            ]
                        },
                        "text/html": [
                            "<table>",
                            "<tr><th>Country</th><th>Region</th><th>Happiness Rank</th><th>Happiness Score</th><th>Standard Error</th><th>Economy (GDP per Capita)</th><th>Family</th><th>Health (Life Expectancy)</th><th>Freedom</th><th>Trust (Government Corruption)</th><th>Generosity</th><th>Dystopia Residual</th></tr>",
                            "<tr><td>Switzerland</td><td>Western Europe</td><td>1</td><td>7.587</td><td>0.03411</td><td>1.39651</td><td>1.34951</td><td>0.94143</td><td>0.66557</td><td>0.41978</td><td>0.29678</td><td>2.51738</td></tr>",
                            "<tr><td>Iceland</td><td>Western Europe</td><td>2</td><td>7.561</td><td>0.04884</td><td>1.30232</td><td>1.40223</td><td>0.94784</td><td>0.62877</td><td>0.14145</td><td>0.4363</td><td>2.70201</td></tr>",
                            "<tr><td>Denmark</td><td>Western Europe</td><td>3</td><td>7.527</td><td>0.03328</td><td>1.32548</td><td>1.36058</td><td>0.87464</td><td>0.64938</td><td>0.48357</td><td>0.34139</td><td>2.49204</td></tr>",
                            "<tr><td>Norway</td><td>Western Europe</td><td>4</td><td>7.522</td><td>0.0388</td><td>1.459</td><td>1.33095</td><td>0.88521</td><td>0.66973</td><td>0.36503</td><td>0.34699</td><td>2.46531</td></tr>",
                            "<tr><td>Canada</td><td>North America</td><td>5</td><td>7.427</td><td>0.03553</td><td>1.32629</td><td>1.32261</td><td>0.90563</td><td>0.63297</td><td>0.32957</td><td>0.45811</td><td>2.45176</td></tr>",
                            "<tr><td>Finland</td><td>Western Europe</td><td>6</td><td>7.406</td><td>0.0314</td><td>1.29025</td><td>1.31826</td><td>0.88911</td><td>0.64169</td><td>0.41372</td><td>0.23351</td><td>2.61955</td></tr>",
                            "<tr><td>Netherlands</td><td>Western Europe</td><td>7</td><td>7.378</td><td>0.02799</td><td>1.32944</td><td>1.28017</td><td>0.89284</td><td>0.61576</td><td>0.31814</td><td>0.4761</td><td>2.4657</td></tr>",
                            "<tr><td>Sweden</td><td>Western Europe</td><td>8</td><td>7.364</td><td>0.03157</td><td>1.33171</td><td>1.28907</td><td>0.91087</td><td>0.6598</td><td>0.43844</td><td>0.36262</td><td>2.37119</td></tr>",
                            "<tr><td>New Zealand</td><td>Australia and New Zealand</td><td>9</td><td>7.286</td><td>0.03371</td><td>1.25018</td><td>1.31967</td><td>0.90837</td><td>0.63938</td><td>0.42922</td><td>0.47501</td><td>2.26425</td></tr>",
                            "<tr><td>Australia</td><td>Australia and New Zealand</td><td>10</td><td>7.284</td><td>0.04083</td><td>1.33358</td><td>1.30923</td><td>0.93156</td><td>0.65124</td><td>0.35637</td><td>0.43562</td><td>2.26646</td></tr>",
                            "<tr><td>Israel</td><td>Middle East and Northern Africa</td><td>11</td><td>7.278</td><td>0.0347</td><td>1.22857</td><td>1.22393</td><td>0.91387</td><td>0.41319</td><td>0.07785</td><td>0.33172</td><td>3.08854</td></tr>",
                            "<tr><td>Costa Rica</td><td>Latin America and Caribbean</td><td>12</td><td>7.226</td><td>0.04454</td><td>0.95578</td><td>1.23788</td><td>0.86027</td><td>0.63376</td><td>0.10583</td><td>0.25497</td><td>3.17728</td></tr>",
                            "<tr><td>Austria</td><td>Western Europe</td><td>13</td><td>7.2</td><td>0.03751</td><td>1.33723</td><td>1.29704</td><td>0.89042</td><td>0.62433</td><td>0.18676</td><td>0.33088</td><td>2.5332</td></tr>",
                            "<tr><td>Mexico</td><td>Latin America and Caribbean</td><td>14</td><td>7.187</td><td>0.04176</td><td>1.02054</td><td>0.91451</td><td>0.81444</td><td>0.48181</td><td>0.21312</td><td>0.14074</td><td>3.60214</td></tr>",
                            "<tr><td>United States</td><td>North America</td><td>15</td><td>7.119</td><td>0.03839</td><td>1.39451</td><td>1.24711</td><td>0.86179</td><td>0.54604</td><td>0.1589</td><td>0.40105</td><td>2.51011</td></tr>",
                            "<tr><td>Brazil</td><td>Latin America and Caribbean</td><td>16</td><td>6.983</td><td>0.04076</td><td>0.98124</td><td>1.23287</td><td>0.69702</td><td>0.49049</td><td>0.17521</td><td>0.14574</td><td>3.26001</td></tr>",
                            "<tr><td>Luxembourg</td><td>Western Europe</td><td>17</td><td>6.946</td><td>0.03499</td><td>1.56391</td><td>1.21963</td><td>0.91894</td><td>0.61583</td><td>0.37798</td><td>0.28034</td><td>1.96961</td></tr>",
                            "<tr><td>Ireland</td><td>Western Europe</td><td>18</td><td>6.94</td><td>0.03676</td><td>1.33596</td><td>1.36948</td><td>0.89533</td><td>0.61777</td><td>0.28703</td><td>0.45901</td><td>1.9757</td></tr>",
                            "<tr><td>Belgium</td><td>Western Europe</td><td>19</td><td>6.937</td><td>0.03595</td><td>1.30782</td><td>1.28566</td><td>0.89667</td><td>0.5845</td><td>0.2254</td><td>0.2225</td><td>2.41484</td></tr>",
                            "<tr><td>United Arab Emirates</td><td>Middle East and Northern Africa</td><td>20</td><td>6.901</td><td>0.03729</td><td>1.42727</td><td>1.12575</td><td>0.80925</td><td>0.64157</td><td>0.38583</td><td>0.26428</td><td>2.24743</td></tr>",
                            "<tr><td>United Kingdom</td><td>Western Europe</td><td>21</td><td>6.867</td><td>0.01866</td><td>1.26637</td><td>1.28548</td><td>0.90943</td><td>0.59625</td><td>0.32067</td><td>0.51912</td><td>1.96994</td></tr>",
                            "<tr><td>Oman</td><td>Middle East and Northern Africa</td><td>22</td><td>6.853</td><td>0.05335</td><td>1.36011</td><td>1.08182</td><td>0.76276</td><td>0.63274</td><td>0.32524</td><td>0.21542</td><td>2.47489</td></tr>",
                            "<tr><td>Venezuela</td><td>Latin America and Caribbean</td><td>23</td><td>6.81</td><td>0.06476</td><td>1.04424</td><td>1.25596</td><td>0.72052</td><td>0.42908</td><td>0.11069</td><td>0.05841</td><td>3.19131</td></tr>",
                            "<tr><td>Singapore</td><td>Southeastern Asia</td><td>24</td><td>6.798</td><td>0.0378</td><td>1.52186</td><td>1.02</td><td>1.02525</td><td>0.54252</td><td>0.4921</td><td>0.31105</td><td>1.88501</td></tr>",
                            "<tr><td>Panama</td><td>Latin America and Caribbean</td><td>25</td><td>6.786</td><td>0.0491</td><td>1.06353</td><td>1.1985</td><td>0.79661</td><td>0.5421</td><td>0.0927</td><td>0.24434</td><td>2.84848</td></tr>",
                            "<tr><td>Germany</td><td>Western Europe</td><td>26</td><td>6.75</td><td>0.01848</td><td>1.32792</td><td>1.29937</td><td>0.89186</td><td>0.61477</td><td>0.21843</td><td>0.28214</td><td>2.11569</td></tr>",
                            "<tr><td>Chile</td><td>Latin America and Caribbean</td><td>27</td><td>6.67</td><td>0.058</td><td>1.10715</td><td>1.12447</td><td>0.85857</td><td>0.44132</td><td>0.12869</td><td>0.33363</td><td>2.67585</td></tr>",
                            "<tr><td>Qatar</td><td>Middle East and Northern Africa</td><td>28</td><td>6.611</td><td>0.06257</td><td>1.69042</td><td>1.0786</td><td>0.79733</td><td>0.6404</td><td>0.52208</td><td>0.32573</td><td>1.55674</td></tr>",
                            "<tr><td>France</td><td>Western Europe</td><td>29</td><td>6.575</td><td>0.03512</td><td>1.27778</td><td>1.26038</td><td>0.94579</td><td>0.55011</td><td>0.20646</td><td>0.12332</td><td>2.21126</td></tr>",
                            "<tr><td>Argentina</td><td>Latin America and Caribbean</td><td>30</td><td>6.574</td><td>0.04612</td><td>1.05351</td><td>1.24823</td><td>0.78723</td><td>0.44974</td><td>0.08484</td><td>0.11451</td><td>2.836</td></tr>",
                            "<tr><td>Czech Republic</td><td>Central and Eastern Europe</td><td>31</td><td>6.505</td><td>0.04168</td><td>1.17898</td><td>1.20643</td><td>0.84483</td><td>0.46364</td><td>0.02652</td><td>0.10686</td><td>2.67782</td></tr>",
                            "<tr><td>Uruguay</td><td>Latin America and Caribbean</td><td>32</td><td>6.485</td><td>0.04539</td><td>1.06166</td><td>1.2089</td><td>0.8116</td><td>0.60362</td><td>0.24558</td><td>0.2324</td><td>2.32142</td></tr>",
                            "<tr><td>Colombia</td><td>Latin America and Caribbean</td><td>33</td><td>6.477</td><td>0.05051</td><td>0.91861</td><td>1.24018</td><td>0.69077</td><td>0.53466</td><td>0.0512</td><td>0.18401</td><td>2.85737</td></tr>",
                            "<tr><td>Thailand</td><td>Southeastern Asia</td><td>34</td><td>6.455</td><td>0.03557</td><td>0.9669</td><td>1.26504</td><td>0.7385</td><td>0.55664</td><td>0.03187</td><td>0.5763</td><td>2.31945</td></tr>",
                            "<tr><td>Saudi Arabia</td><td>Middle East and Northern Africa</td><td>35</td><td>6.411</td><td>0.04633</td><td>1.39541</td><td>1.08393</td><td>0.72025</td><td>0.31048</td><td>0.32524</td><td>0.13706</td><td>2.43872</td></tr>",
                            "<tr><td>Spain</td><td>Western Europe</td><td>36</td><td>6.329</td><td>0.03468</td><td>1.23011</td><td>1.31379</td><td>0.95562</td><td>0.45951</td><td>0.06398</td><td>0.18227</td><td>2.12367</td></tr>",
                            "<tr><td>Malta</td><td>Western Europe</td><td>37</td><td>6.302</td><td>0.04206</td><td>1.2074</td><td>1.30203</td><td>0.88721</td><td>0.60365</td><td>0.13586</td><td>0.51752</td><td>1.6488</td></tr>",
                            "<tr><td>Taiwan</td><td>Eastern Asia</td><td>38</td><td>6.298</td><td>0.03868</td><td>1.29098</td><td>1.07617</td><td>0.8753</td><td>0.3974</td><td>0.08129</td><td>0.25376</td><td>2.32323</td></tr>",
                            "<tr><td>Kuwait</td><td>Middle East and Northern Africa</td><td>39</td><td>6.295</td><td>0.04456</td><td>1.55422</td><td>1.16594</td><td>0.72492</td><td>0.55499</td><td>0.25609</td><td>0.16228</td><td>1.87634</td></tr>",
                            "<tr><td>Suriname</td><td>Latin America and Caribbean</td><td>40</td><td>6.269</td><td>0.09811</td><td>0.99534</td><td>0.972</td><td>0.6082</td><td>0.59657</td><td>0.13633</td><td>0.16991</td><td>2.79094</td></tr>",
                            "<tr><td>Trinidad and Tobago</td><td>Latin America and Caribbean</td><td>41</td><td>6.168</td><td>0.10895</td><td>1.21183</td><td>1.18354</td><td>0.61483</td><td>0.55884</td><td>0.0114</td><td>0.31844</td><td>2.26882</td></tr>",
                            "<tr><td>El Salvador</td><td>Latin America and Caribbean</td><td>42</td><td>6.13</td><td>0.05618</td><td>0.76454</td><td>1.02507</td><td>0.67737</td><td>0.4035</td><td>0.11776</td><td>0.10692</td><td>3.035</td></tr>",
                            "<tr><td>Guatemala</td><td>Latin America and Caribbean</td><td>43</td><td>6.123</td><td>0.05224</td><td>0.74553</td><td>1.04356</td><td>0.64425</td><td>0.57733</td><td>0.09472</td><td>0.27489</td><td>2.74255</td></tr>",
                            "<tr><td>Uzbekistan</td><td>Central and Eastern Europe</td><td>44</td><td>6.003</td><td>0.04361</td><td>0.63244</td><td>1.34043</td><td>0.59772</td><td>0.65821</td><td>0.30826</td><td>0.22837</td><td>2.23741</td></tr>",
                            "<tr><td>Slovakia</td><td>Central and Eastern Europe</td><td>45</td><td>5.995</td><td>0.04267</td><td>1.16891</td><td>1.26999</td><td>0.78902</td><td>0.31751</td><td>0.03431</td><td>0.16893</td><td>2.24639</td></tr>",
                            "<tr><td>Japan</td><td>Eastern Asia</td><td>46</td><td>5.987</td><td>0.03581</td><td>1.27074</td><td>1.25712</td><td>0.99111</td><td>0.49615</td><td>0.1806</td><td>0.10705</td><td>1.68435</td></tr>",
                            "<tr><td>South Korea</td><td>Eastern Asia</td><td>47</td><td>5.984</td><td>0.04098</td><td>1.24461</td><td>0.95774</td><td>0.96538</td><td>0.33208</td><td>0.07857</td><td>0.18557</td><td>2.21978</td></tr>",
                            "<tr><td>Ecuador</td><td>Latin America and Caribbean</td><td>48</td><td>5.975</td><td>0.04528</td><td>0.86402</td><td>0.99903</td><td>0.79075</td><td>0.48574</td><td>0.1809</td><td>0.11541</td><td>2.53942</td></tr>",
                            "<tr><td>Bahrain</td><td>Middle East and Northern Africa</td><td>49</td><td>5.96</td><td>0.05412</td><td>1.32376</td><td>1.21624</td><td>0.74716</td><td>0.45492</td><td>0.306</td><td>0.17362</td><td>1.73797</td></tr>",
                            "<tr><td>Italy</td><td>Western Europe</td><td>50</td><td>5.948</td><td>0.03914</td><td>1.25114</td><td>1.19777</td><td>0.95446</td><td>0.26236</td><td>0.02901</td><td>0.22823</td><td>2.02518</td></tr>",
                            "<tr><td>Bolivia</td><td>Latin America and Caribbean</td><td>51</td><td>5.89</td><td>0.05642</td><td>0.68133</td><td>0.97841</td><td>0.5392</td><td>0.57414</td><td>0.088</td><td>0.20536</td><td>2.82334</td></tr>",
                            "<tr><td>Moldova</td><td>Central and Eastern Europe</td><td>52</td><td>5.889</td><td>0.03799</td><td>0.59448</td><td>1.01528</td><td>0.61826</td><td>0.32818</td><td>0.01615</td><td>0.20951</td><td>3.10712</td></tr>",
                            "<tr><td>Paraguay</td><td>Latin America and Caribbean</td><td>53</td><td>5.878</td><td>0.04563</td><td>0.75985</td><td>1.30477</td><td>0.66098</td><td>0.53899</td><td>0.08242</td><td>0.3424</td><td>2.18896</td></tr>",
                            "<tr><td>Kazakhstan</td><td>Central and Eastern Europe</td><td>54</td><td>5.855</td><td>0.04114</td><td>1.12254</td><td>1.12241</td><td>0.64368</td><td>0.51649</td><td>0.08454</td><td>0.11827</td><td>2.24729</td></tr>",
                            "<tr><td>Slovenia</td><td>Central and Eastern Europe</td><td>55</td><td>5.848</td><td>0.04251</td><td>1.18498</td><td>1.27385</td><td>0.87337</td><td>0.60855</td><td>0.03787</td><td>0.25328</td><td>1.61583</td></tr>",
                            "<tr><td>Lithuania</td><td>Central and Eastern Europe</td><td>56</td><td>5.833</td><td>0.03843</td><td>1.14723</td><td>1.25745</td><td>0.73128</td><td>0.21342</td><td>0.01031</td><td>0.02641</td><td>2.44649</td></tr>",
                            "<tr><td>Nicaragua</td><td>Latin America and Caribbean</td><td>57</td><td>5.828</td><td>0.05371</td><td>0.59325</td><td>1.14184</td><td>0.74314</td><td>0.55475</td><td>0.19317</td><td>0.27815</td><td>2.32407</td></tr>",
                            "<tr><td>Peru</td><td>Latin America and Caribbean</td><td>58</td><td>5.824</td><td>0.04615</td><td>0.90019</td><td>0.97459</td><td>0.73017</td><td>0.41496</td><td>0.05989</td><td>0.14982</td><td>2.5945</td></tr>",
                            "<tr><td>Belarus</td><td>Central and Eastern Europe</td><td>59</td><td>5.813</td><td>0.03938</td><td>1.03192</td><td>1.23289</td><td>0.73608</td><td>0.37938</td><td>0.1909</td><td>0.11046</td><td>2.1309</td></tr>",
                            "<tr><td>Poland</td><td>Central and Eastern Europe</td><td>60</td><td>5.791</td><td>0.04263</td><td>1.12555</td><td>1.27948</td><td>0.77903</td><td>0.53122</td><td>0.04212</td><td>0.16759</td><td>1.86565</td></tr>",
                            "<tr><td>Malaysia</td><td>Southeastern Asia</td><td>61</td><td>5.77</td><td>0.0433</td><td>1.12486</td><td>1.07023</td><td>0.72394</td><td>0.53024</td><td>0.10501</td><td>0.33075</td><td>1.88541</td></tr>",
                            "<tr><td>Croatia</td><td>Central and Eastern Europe</td><td>62</td><td>5.759</td><td>0.04394</td><td>1.08254</td><td>0.79624</td><td>0.78805</td><td>0.25883</td><td>0.0243</td><td>0.05444</td><td>2.75414</td></tr>",
                            "<tr><td>Libya</td><td>Middle East and Northern Africa</td><td>63</td><td>5.754</td><td>0.07832</td><td>1.13145</td><td>1.11862</td><td>0.7038</td><td>0.41668</td><td>0.11023</td><td>0.18295</td><td>2.09066</td></tr>",
                            "<tr><td>Russia</td><td>Central and Eastern Europe</td><td>64</td><td>5.716</td><td>0.03135</td><td>1.13764</td><td>1.23617</td><td>0.66926</td><td>0.36679</td><td>0.03005</td><td>0.00199</td><td>2.27394</td></tr>",
                            "<tr><td>Jamaica</td><td>Latin America and Caribbean</td><td>65</td><td>5.709</td><td>0.13693</td><td>0.81038</td><td>1.15102</td><td>0.68741</td><td>0.50442</td><td>0.02299</td><td>0.2123</td><td>2.32038</td></tr>",
                            "<tr><td>North Cyprus</td><td>Western Europe</td><td>66</td><td>5.695</td><td>0.05635</td><td>1.20806</td><td>1.07008</td><td>0.92356</td><td>0.49027</td><td>0.1428</td><td>0.26169</td><td>1.59888</td></tr>",
                            "<tr><td>Cyprus</td><td>Western Europe</td><td>67</td><td>5.689</td><td>0.0558</td><td>1.20813</td><td>0.89318</td><td>0.92356</td><td>0.40672</td><td>0.06146</td><td>0.30638</td><td>1.88931</td></tr>",
                            "<tr><td>Algeria</td><td>Middle East and Northern Africa</td><td>68</td><td>5.605</td><td>0.05099</td><td>0.93929</td><td>1.07772</td><td>0.61766</td><td>0.28579</td><td>0.17383</td><td>0.07822</td><td>2.43209</td></tr>",
                            "<tr><td>Kosovo</td><td>Central and Eastern Europe</td><td>69</td><td>5.589</td><td>0.05018</td><td>0.80148</td><td>0.81198</td><td>0.63132</td><td>0.24749</td><td>0.04741</td><td>0.2831</td><td>2.76579</td></tr>",
                            "<tr><td>Turkmenistan</td><td>Central and Eastern Europe</td><td>70</td><td>5.548</td><td>0.04175</td><td>0.95847</td><td>1.22668</td><td>0.53886</td><td>0.4761</td><td>0.30844</td><td>0.16979</td><td>1.86984</td></tr>",
                            "<tr><td>Mauritius</td><td>Sub-Saharan Africa</td><td>71</td><td>5.477</td><td>0.07197</td><td>1.00761</td><td>0.98521</td><td>0.7095</td><td>0.56066</td><td>0.07521</td><td>0.37744</td><td>1.76145</td></tr>",
                            "<tr><td>Hong Kong</td><td>Eastern Asia</td><td>72</td><td>5.474</td><td>0.05051</td><td>1.38604</td><td>1.05818</td><td>1.01328</td><td>0.59608</td><td>0.37124</td><td>0.39478</td><td>0.65429</td></tr>",
                            "<tr><td>Estonia</td><td>Central and Eastern Europe</td><td>73</td><td>5.429</td><td>0.04013</td><td>1.15174</td><td>1.22791</td><td>0.77361</td><td>0.44888</td><td>0.15184</td><td>0.0868</td><td>1.58782</td></tr>",
                            "<tr><td>Indonesia</td><td>Southeastern Asia</td><td>74</td><td>5.399</td><td>0.02596</td><td>0.82827</td><td>1.08708</td><td>0.63793</td><td>0.46611</td><td>0</td><td>0.51535</td><td>1.86399</td></tr>",
                            "<tr><td>Vietnam</td><td>Southeastern Asia</td><td>75</td><td>5.36</td><td>0.03107</td><td>0.63216</td><td>0.91226</td><td>0.74676</td><td>0.59444</td><td>0.10441</td><td>0.1686</td><td>2.20173</td></tr>",
                            "<tr><td>Turkey</td><td>Middle East and Northern Africa</td><td>76</td><td>5.332</td><td>0.03864</td><td>1.06098</td><td>0.94632</td><td>0.73172</td><td>0.22815</td><td>0.15746</td><td>0.12253</td><td>2.08528</td></tr>",
                            "<tr><td>Kyrgyzstan</td><td>Central and Eastern Europe</td><td>77</td><td>5.286</td><td>0.03823</td><td>0.47428</td><td>1.15115</td><td>0.65088</td><td>0.43477</td><td>0.04232</td><td>0.3003</td><td>2.2327</td></tr>",
                            "<tr><td>Nigeria</td><td>Sub-Saharan Africa</td><td>78</td><td>5.268</td><td>0.04192</td><td>0.65435</td><td>0.90432</td><td>0.16007</td><td>0.34334</td><td>0.0403</td><td>0.27233</td><td>2.89319</td></tr>",
                            "<tr><td>Bhutan</td><td>Southern Asia</td><td>79</td><td>5.253</td><td>0.03225</td><td>0.77042</td><td>1.10395</td><td>0.57407</td><td>0.53206</td><td>0.15445</td><td>0.47998</td><td>1.63794</td></tr>",
                            "<tr><td>Azerbaijan</td><td>Central and Eastern Europe</td><td>80</td><td>5.212</td><td>0.03363</td><td>1.02389</td><td>0.93793</td><td>0.64045</td><td>0.3703</td><td>0.16065</td><td>0.07799</td><td>2.00073</td></tr>",
                            "<tr><td>Pakistan</td><td>Southern Asia</td><td>81</td><td>5.194</td><td>0.03726</td><td>0.59543</td><td>0.41411</td><td>0.51466</td><td>0.12102</td><td>0.10464</td><td>0.33671</td><td>3.10709</td></tr>",
                            "<tr><td>Jordan</td><td>Middle East and Northern Africa</td><td>82</td><td>5.192</td><td>0.04524</td><td>0.90198</td><td>1.05392</td><td>0.69639</td><td>0.40661</td><td>0.14293</td><td>0.11053</td><td>1.87996</td></tr>",
                            "<tr><td>Montenegro</td><td>Central and Eastern Europe</td><td>82</td><td>5.192</td><td>0.05235</td><td>0.97438</td><td>0.90557</td><td>0.72521</td><td>0.1826</td><td>0.14296</td><td>0.1614</td><td>2.10017</td></tr>",
                            "<tr><td>China</td><td>Eastern Asia</td><td>84</td><td>5.14</td><td>0.02424</td><td>0.89012</td><td>0.94675</td><td>0.81658</td><td>0.51697</td><td>0.02781</td><td>0.08185</td><td>1.8604</td></tr>",
                            "<tr><td>Zambia</td><td>Sub-Saharan Africa</td><td>85</td><td>5.129</td><td>0.06988</td><td>0.47038</td><td>0.91612</td><td>0.29924</td><td>0.48827</td><td>0.12468</td><td>0.19591</td><td>2.6343</td></tr>",
                            "<tr><td>Romania</td><td>Central and Eastern Europe</td><td>86</td><td>5.124</td><td>0.06607</td><td>1.04345</td><td>0.88588</td><td>0.7689</td><td>0.35068</td><td>0.00649</td><td>0.13748</td><td>1.93129</td></tr>",
                            "<tr><td>Serbia</td><td>Central and Eastern Europe</td><td>87</td><td>5.123</td><td>0.04864</td><td>0.92053</td><td>1.00964</td><td>0.74836</td><td>0.20107</td><td>0.02617</td><td>0.19231</td><td>2.025</td></tr>",
                            "<tr><td>Portugal</td><td>Western Europe</td><td>88</td><td>5.102</td><td>0.04802</td><td>1.15991</td><td>1.13935</td><td>0.87519</td><td>0.51469</td><td>0.01078</td><td>0.13719</td><td>1.26462</td></tr>",
                            "<tr><td>Latvia</td><td>Central and Eastern Europe</td><td>89</td><td>5.098</td><td>0.0464</td><td>1.11312</td><td>1.09562</td><td>0.72437</td><td>0.29671</td><td>0.06332</td><td>0.18226</td><td>1.62215</td></tr>",
                            "<tr><td>Philippines</td><td>Southeastern Asia</td><td>90</td><td>5.073</td><td>0.04934</td><td>0.70532</td><td>1.03516</td><td>0.58114</td><td>0.62545</td><td>0.12279</td><td>0.24991</td><td>1.7536</td></tr>",
                            "<tr><td>Somaliland region</td><td>Sub-Saharan Africa</td><td>91</td><td>5.057</td><td>0.06161</td><td>0.18847</td><td>0.95152</td><td>0.43873</td><td>0.46582</td><td>0.39928</td><td>0.50318</td><td>2.11032</td></tr>",
                            "<tr><td>Morocco</td><td>Middle East and Northern Africa</td><td>92</td><td>5.013</td><td>0.0342</td><td>0.73479</td><td>0.64095</td><td>0.60954</td><td>0.41691</td><td>0.08546</td><td>0.07172</td><td>2.45373</td></tr>",
                            "<tr><td>Macedonia</td><td>Central and Eastern Europe</td><td>93</td><td>5.007</td><td>0.05376</td><td>0.91851</td><td>1.00232</td><td>0.73545</td><td>0.33457</td><td>0.05327</td><td>0.22359</td><td>1.73933</td></tr>",
                            "<tr><td>Mozambique</td><td>Sub-Saharan Africa</td><td>94</td><td>4.971</td><td>0.07896</td><td>0.08308</td><td>1.02626</td><td>0.09131</td><td>0.34037</td><td>0.15603</td><td>0.22269</td><td>3.05137</td></tr>",
                            "<tr><td>Albania</td><td>Central and Eastern Europe</td><td>95</td><td>4.959</td><td>0.05013</td><td>0.87867</td><td>0.80434</td><td>0.81325</td><td>0.35733</td><td>0.06413</td><td>0.14272</td><td>1.89894</td></tr>",
                            "<tr><td>Bosnia and Herzegovina</td><td>Central and Eastern Europe</td><td>96</td><td>4.949</td><td>0.06913</td><td>0.83223</td><td>0.91916</td><td>0.79081</td><td>0.09245</td><td>0.00227</td><td>0.24808</td><td>2.06367</td></tr>",
                            "<tr><td>Lesotho</td><td>Sub-Saharan Africa</td><td>97</td><td>4.898</td><td>0.09438</td><td>0.37545</td><td>1.04103</td><td>0.07612</td><td>0.31767</td><td>0.12504</td><td>0.16388</td><td>2.79832</td></tr>",
                            "<tr><td>Dominican Republic</td><td>Latin America and Caribbean</td><td>98</td><td>4.885</td><td>0.07446</td><td>0.89537</td><td>1.17202</td><td>0.66825</td><td>0.57672</td><td>0.14234</td><td>0.21684</td><td>1.21305</td></tr>",
                            "<tr><td>Laos</td><td>Southeastern Asia</td><td>99</td><td>4.876</td><td>0.06698</td><td>0.59066</td><td>0.73803</td><td>0.54909</td><td>0.59591</td><td>0.24249</td><td>0.42192</td><td>1.73799</td></tr>",
                            "<tr><td>Mongolia</td><td>Eastern Asia</td><td>100</td><td>4.874</td><td>0.03313</td><td>0.82819</td><td>1.3006</td><td>0.60268</td><td>0.43626</td><td>0.02666</td><td>0.3323</td><td>1.34759</td></tr>",
                            "<tr><td>Swaziland</td><td>Sub-Saharan Africa</td><td>101</td><td>4.867</td><td>0.08742</td><td>0.71206</td><td>1.07284</td><td>0.07566</td><td>0.30658</td><td>0.0306</td><td>0.18259</td><td>2.48676</td></tr>",
                            "<tr><td>Greece</td><td>Western Europe</td><td>102</td><td>4.857</td><td>0.05062</td><td>1.15406</td><td>0.92933</td><td>0.88213</td><td>0.07699</td><td>0.01397</td><td>0</td><td>1.80101</td></tr>",
                            "<tr><td>Lebanon</td><td>Middle East and Northern Africa</td><td>103</td><td>4.839</td><td>0.04337</td><td>1.02564</td><td>0.80001</td><td>0.83947</td><td>0.33916</td><td>0.04582</td><td>0.21854</td><td>1.57059</td></tr>",
                            "<tr><td>Hungary</td><td>Central and Eastern Europe</td><td>104</td><td>4.8</td><td>0.06107</td><td>1.12094</td><td>1.20215</td><td>0.75905</td><td>0.32112</td><td>0.02758</td><td>0.128</td><td>1.24074</td></tr>",
                            "<tr><td>Honduras</td><td>Latin America and Caribbean</td><td>105</td><td>4.788</td><td>0.05648</td><td>0.59532</td><td>0.95348</td><td>0.6951</td><td>0.40148</td><td>0.06825</td><td>0.23027</td><td>1.84408</td></tr>",
                            "<tr><td>Tajikistan</td><td>Central and Eastern Europe</td><td>106</td><td>4.786</td><td>0.03198</td><td>0.39047</td><td>0.85563</td><td>0.57379</td><td>0.47216</td><td>0.15072</td><td>0.22974</td><td>2.11399</td></tr>",
                            "<tr><td>Tunisia</td><td>Middle East and Northern Africa</td><td>107</td><td>4.739</td><td>0.03589</td><td>0.88113</td><td>0.60429</td><td>0.73793</td><td>0.26268</td><td>0.06358</td><td>0.06431</td><td>2.12466</td></tr>",
                            "<tr><td>Palestinian Territories</td><td>Middle East and Northern Africa</td><td>108</td><td>4.715</td><td>0.04394</td><td>0.59867</td><td>0.92558</td><td>0.66015</td><td>0.24499</td><td>0.12905</td><td>0.11251</td><td>2.04384</td></tr>",
                            "<tr><td>Bangladesh</td><td>Southern Asia</td><td>109</td><td>4.694</td><td>0.03077</td><td>0.39753</td><td>0.43106</td><td>0.60164</td><td>0.4082</td><td>0.12569</td><td>0.21222</td><td>2.51767</td></tr>",
                            "<tr><td>Iran</td><td>Middle East and Northern Africa</td><td>110</td><td>4.686</td><td>0.04449</td><td>1.0088</td><td>0.54447</td><td>0.69805</td><td>0.30033</td><td>0.05863</td><td>0.38086</td><td>1.6944</td></tr>",
                            "<tr><td>Ukraine</td><td>Central and Eastern Europe</td><td>111</td><td>4.681</td><td>0.04412</td><td>0.79907</td><td>1.20278</td><td>0.6739</td><td>0.25123</td><td>0.02961</td><td>0.15275</td><td>1.5714</td></tr>",
                            "<tr><td>Iraq</td><td>Middle East and Northern Africa</td><td>112</td><td>4.677</td><td>0.05232</td><td>0.98549</td><td>0.81889</td><td>0.60237</td><td>0</td><td>0.13788</td><td>0.17922</td><td>1.95335</td></tr>",
                            "<tr><td>South Africa</td><td>Sub-Saharan Africa</td><td>113</td><td>4.642</td><td>0.04585</td><td>0.92049</td><td>1.18468</td><td>0.27688</td><td>0.33207</td><td>0.08884</td><td>0.11973</td><td>1.71956</td></tr>",
                            "<tr><td>Ghana</td><td>Sub-Saharan Africa</td><td>114</td><td>4.633</td><td>0.04742</td><td>0.54558</td><td>0.67954</td><td>0.40132</td><td>0.42342</td><td>0.04355</td><td>0.23087</td><td>2.30919</td></tr>",
                            "<tr><td>Zimbabwe</td><td>Sub-Saharan Africa</td><td>115</td><td>4.61</td><td>0.0429</td><td>0.271</td><td>1.03276</td><td>0.33475</td><td>0.25861</td><td>0.08079</td><td>0.18987</td><td>2.44191</td></tr>",
                            "<tr><td>Liberia</td><td>Sub-Saharan Africa</td><td>116</td><td>4.571</td><td>0.11068</td><td>0.0712</td><td>0.78968</td><td>0.34201</td><td>0.28531</td><td>0.06232</td><td>0.24362</td><td>2.77729</td></tr>",
                            "<tr><td>India</td><td>Southern Asia</td><td>117</td><td>4.565</td><td>0.02043</td><td>0.64499</td><td>0.38174</td><td>0.51529</td><td>0.39786</td><td>0.08492</td><td>0.26475</td><td>2.27513</td></tr>",
                            "<tr><td>Sudan</td><td>Sub-Saharan Africa</td><td>118</td><td>4.55</td><td>0.0674</td><td>0.52107</td><td>1.01404</td><td>0.36878</td><td>0.10081</td><td>0.1466</td><td>0.19062</td><td>2.20857</td></tr>",
                            "<tr><td>Haiti</td><td>Latin America and Caribbean</td><td>119</td><td>4.518</td><td>0.07331</td><td>0.26673</td><td>0.74302</td><td>0.38847</td><td>0.24425</td><td>0.17175</td><td>0.46187</td><td>2.24173</td></tr>",
                            "<tr><td>Congo (Kinshasa)</td><td>Sub-Saharan Africa</td><td>120</td><td>4.517</td><td>0.0368</td><td>0</td><td>1.0012</td><td>0.09806</td><td>0.22605</td><td>0.07625</td><td>0.24834</td><td>2.86712</td></tr>",
                            "<tr><td>Nepal</td><td>Southern Asia</td><td>121</td><td>4.514</td><td>0.03607</td><td>0.35997</td><td>0.86449</td><td>0.56874</td><td>0.38282</td><td>0.05907</td><td>0.32296</td><td>1.95637</td></tr>",
                            "<tr><td>Ethiopia</td><td>Sub-Saharan Africa</td><td>122</td><td>4.512</td><td>0.0378</td><td>0.19073</td><td>0.60406</td><td>0.44055</td><td>0.4345</td><td>0.15048</td><td>0.24325</td><td>2.44876</td></tr>",
                            "<tr><td>Sierra Leone</td><td>Sub-Saharan Africa</td><td>123</td><td>4.507</td><td>0.07068</td><td>0.33024</td><td>0.95571</td><td>0</td><td>0.4084</td><td>0.08786</td><td>0.21488</td><td>2.51009</td></tr>",
                            "<tr><td>Mauritania</td><td>Sub-Saharan Africa</td><td>124</td><td>4.436</td><td>0.03947</td><td>0.45407</td><td>0.86908</td><td>0.35874</td><td>0.24232</td><td>0.17461</td><td>0.219</td><td>2.11773</td></tr>",
                            "<tr><td>Kenya</td><td>Sub-Saharan Africa</td><td>125</td><td>4.419</td><td>0.04734</td><td>0.36471</td><td>0.99876</td><td>0.41435</td><td>0.42215</td><td>0.05839</td><td>0.37542</td><td>1.78555</td></tr>",
                            "<tr><td>Djibouti</td><td>Sub-Saharan Africa</td><td>126</td><td>4.369</td><td>0.08096</td><td>0.44025</td><td>0.59207</td><td>0.36291</td><td>0.46074</td><td>0.28105</td><td>0.18093</td><td>2.05125</td></tr>",
                            "<tr><td>Armenia</td><td>Central and Eastern Europe</td><td>127</td><td>4.35</td><td>0.04763</td><td>0.76821</td><td>0.77711</td><td>0.7299</td><td>0.19847</td><td>0.039</td><td>0.07855</td><td>1.75873</td></tr>",
                            "<tr><td>Botswana</td><td>Sub-Saharan Africa</td><td>128</td><td>4.332</td><td>0.04934</td><td>0.99355</td><td>1.10464</td><td>0.04776</td><td>0.49495</td><td>0.12474</td><td>0.10461</td><td>1.46181</td></tr>",
                            "<tr><td>Myanmar</td><td>Southeastern Asia</td><td>129</td><td>4.307</td><td>0.04351</td><td>0.27108</td><td>0.70905</td><td>0.48246</td><td>0.44017</td><td>0.19034</td><td>0.79588</td><td>1.41805</td></tr>",
                            "<tr><td>Georgia</td><td>Central and Eastern Europe</td><td>130</td><td>4.297</td><td>0.04221</td><td>0.7419</td><td>0.38562</td><td>0.72926</td><td>0.40577</td><td>0.38331</td><td>0.05547</td><td>1.59541</td></tr>",
                            "<tr><td>Malawi</td><td>Sub-Saharan Africa</td><td>131</td><td>4.292</td><td>0.0613</td><td>0.01604</td><td>0.41134</td><td>0.22562</td><td>0.43054</td><td>0.06977</td><td>0.33128</td><td>2.80791</td></tr>",
                            "<tr><td>Sri Lanka</td><td>Southern Asia</td><td>132</td><td>4.271</td><td>0.03751</td><td>0.83524</td><td>1.01905</td><td>0.70806</td><td>0.53726</td><td>0.09179</td><td>0.40828</td><td>0.67108</td></tr>",
                            "<tr><td>Cameroon</td><td>Sub-Saharan Africa</td><td>133</td><td>4.252</td><td>0.04678</td><td>0.4225</td><td>0.88767</td><td>0.23402</td><td>0.49309</td><td>0.05786</td><td>0.20618</td><td>1.95071</td></tr>",
                            "<tr><td>Bulgaria</td><td>Central and Eastern Europe</td><td>134</td><td>4.218</td><td>0.04828</td><td>1.01216</td><td>1.10614</td><td>0.76649</td><td>0.30587</td><td>0.00872</td><td>0.11921</td><td>0.89991</td></tr>",
                            "<tr><td>Egypt</td><td>Middle East and Northern Africa</td><td>135</td><td>4.194</td><td>0.0326</td><td>0.8818</td><td>0.747</td><td>0.61712</td><td>0.17288</td><td>0.06324</td><td>0.11291</td><td>1.59927</td></tr>",
                            "<tr><td>Yemen</td><td>Middle East and Northern Africa</td><td>136</td><td>4.077</td><td>0.04367</td><td>0.54649</td><td>0.68093</td><td>0.40064</td><td>0.35571</td><td>0.07854</td><td>0.09131</td><td>1.92313</td></tr>",
                            "<tr><td>Angola</td><td>Sub-Saharan Africa</td><td>137</td><td>4.033</td><td>0.04758</td><td>0.75778</td><td>0.8604</td><td>0.16683</td><td>0.10384</td><td>0.07122</td><td>0.12344</td><td>1.94939</td></tr>",
                            "<tr><td>Mali</td><td>Sub-Saharan Africa</td><td>138</td><td>3.995</td><td>0.05602</td><td>0.26074</td><td>1.03526</td><td>0.20583</td><td>0.38857</td><td>0.12352</td><td>0.18798</td><td>1.79293</td></tr>",
                            "<tr><td>Congo (Brazzaville)</td><td>Sub-Saharan Africa</td><td>139</td><td>3.989</td><td>0.06682</td><td>0.67866</td><td>0.6629</td><td>0.31051</td><td>0.41466</td><td>0.11686</td><td>0.12388</td><td>1.68135</td></tr>",
                            "<tr><td>Comoros</td><td>Sub-Saharan Africa</td><td>140</td><td>3.956</td><td>0.04797</td><td>0.23906</td><td>0.79273</td><td>0.36315</td><td>0.22917</td><td>0.199</td><td>0.17441</td><td>1.95812</td></tr>",
                            "<tr><td>Uganda</td><td>Sub-Saharan Africa</td><td>141</td><td>3.931</td><td>0.04317</td><td>0.21102</td><td>1.13299</td><td>0.33861</td><td>0.45727</td><td>0.07267</td><td>0.29066</td><td>1.42766</td></tr>",
                            "<tr><td>Senegal</td><td>Sub-Saharan Africa</td><td>142</td><td>3.904</td><td>0.03608</td><td>0.36498</td><td>0.97619</td><td>0.4354</td><td>0.36772</td><td>0.10713</td><td>0.20843</td><td>1.44395</td></tr>",
                            "<tr><td>Gabon</td><td>Sub-Saharan Africa</td><td>143</td><td>3.896</td><td>0.04547</td><td>1.06024</td><td>0.90528</td><td>0.43372</td><td>0.31914</td><td>0.11091</td><td>0.06822</td><td>0.99895</td></tr>",
                            "<tr><td>Niger</td><td>Sub-Saharan Africa</td><td>144</td><td>3.845</td><td>0.03602</td><td>0.0694</td><td>0.77265</td><td>0.29707</td><td>0.47692</td><td>0.15639</td><td>0.19387</td><td>1.87877</td></tr>",
                            "<tr><td>Cambodia</td><td>Southeastern Asia</td><td>145</td><td>3.819</td><td>0.05069</td><td>0.46038</td><td>0.62736</td><td>0.61114</td><td>0.66246</td><td>0.07247</td><td>0.40359</td><td>0.98195</td></tr>",
                            "<tr><td>Tanzania</td><td>Sub-Saharan Africa</td><td>146</td><td>3.781</td><td>0.05061</td><td>0.2852</td><td>1.00268</td><td>0.38215</td><td>0.32878</td><td>0.05747</td><td>0.34377</td><td>1.38079</td></tr>",
                            "<tr><td>Madagascar</td><td>Sub-Saharan Africa</td><td>147</td><td>3.681</td><td>0.03633</td><td>0.20824</td><td>0.66801</td><td>0.46721</td><td>0.19184</td><td>0.08124</td><td>0.21333</td><td>1.851</td></tr>",
                            "<tr><td>Central African Republic</td><td>Sub-Saharan Africa</td><td>148</td><td>3.678</td><td>0.06112</td><td>0.0785</td><td>0</td><td>0.06699</td><td>0.48879</td><td>0.08289</td><td>0.23835</td><td>2.7223</td></tr>",
                            "<tr><td>Chad</td><td>Sub-Saharan Africa</td><td>149</td><td>3.667</td><td>0.0383</td><td>0.34193</td><td>0.76062</td><td>0.1501</td><td>0.23501</td><td>0.05269</td><td>0.18386</td><td>1.94296</td></tr>",
                            "<tr><td>Guinea</td><td>Sub-Saharan Africa</td><td>150</td><td>3.656</td><td>0.0359</td><td>0.17417</td><td>0.46475</td><td>0.24009</td><td>0.37725</td><td>0.12139</td><td>0.28657</td><td>1.99172</td></tr>",
                            "<tr><td>Ivory Coast</td><td>Sub-Saharan Africa</td><td>151</td><td>3.655</td><td>0.05141</td><td>0.46534</td><td>0.77115</td><td>0.15185</td><td>0.46866</td><td>0.17922</td><td>0.20165</td><td>1.41723</td></tr>",
                            "<tr><td>Burkina Faso</td><td>Sub-Saharan Africa</td><td>152</td><td>3.587</td><td>0.04324</td><td>0.25812</td><td>0.85188</td><td>0.27125</td><td>0.39493</td><td>0.12832</td><td>0.21747</td><td>1.46494</td></tr>",
                            "<tr><td>Afghanistan</td><td>Southern Asia</td><td>153</td><td>3.575</td><td>0.03084</td><td>0.31982</td><td>0.30285</td><td>0.30335</td><td>0.23414</td><td>0.09719</td><td>0.3651</td><td>1.9521</td></tr>",
                            "<tr><td>Rwanda</td><td>Sub-Saharan Africa</td><td>154</td><td>3.465</td><td>0.03464</td><td>0.22208</td><td>0.7737</td><td>0.42864</td><td>0.59201</td><td>0.55191</td><td>0.22628</td><td>0.67042</td></tr>",
                            "<tr><td>Benin</td><td>Sub-Saharan Africa</td><td>155</td><td>3.34</td><td>0.03656</td><td>0.28665</td><td>0.35386</td><td>0.3191</td><td>0.4845</td><td>0.0801</td><td>0.1826</td><td>1.63328</td></tr>",
                            "<tr><td>Syria</td><td>Middle East and Northern Africa</td><td>156</td><td>3.006</td><td>0.05015</td><td>0.6632</td><td>0.47489</td><td>0.72193</td><td>0.15684</td><td>0.18906</td><td>0.47179</td><td>0.32858</td></tr>",
                            "<tr><td>Burundi</td><td>Sub-Saharan Africa</td><td>157</td><td>2.905</td><td>0.08658</td><td>0.0153</td><td>0.41587</td><td>0.22396</td><td>0.1185</td><td>0.10062</td><td>0.19727</td><td>1.83302</td></tr>",
                            "<tr><td>Togo</td><td>Sub-Saharan Africa</td><td>158</td><td>2.839</td><td>0.06727</td><td>0.20868</td><td>0.13995</td><td>0.28443</td><td>0.36453</td><td>0.10731</td><td>0.16681</td><td>1.56726</td></tr>",
                            "</table>"
                        ]
                    }
                }
            ],
            "execution_count": 1
        },
        {
            "cell_type": "markdown",
            "source": [
                "- What are the top 10 countries for each metric?\n",
                "- What are the most generous countries with the best social support?\n",
                "- Does the perception of generosity depend on GDP per capita?\n",
                "- What are the average happiness scores by region?\n",
                "- What are the countries with the highest healthy life expectancy and GDP per capita? Is there any connection?\n",
                "\n",
                "This dataset will require you to use slightly more complex clauses like `GROUP BY`."
            ],
            "metadata": {
                "language": "sql",
                "azdata_cell_guid": "c7eb29fa-21a8-42cd-ba39-91d3e727e4f1"
            },
            "attachments": {}
        },
        {
            "cell_type": "code",
            "source": [
                "SELECT * FROM [Projects].[dbo].['2015']"
            ],
            "metadata": {
                "language": "sql",
                "azdata_cell_guid": "8abf73b5-e44d-417b-b050-31e6fb00597f"
            },
            "outputs": [
                {
                    "output_type": "display_data",
                    "data": {
                        "text/html": "(158 rows affected)"
                    },
                    "metadata": {}
                },
                {
                    "output_type": "display_data",
                    "data": {
                        "text/html": "Total execution time: 00:00:00.028"
                    },
                    "metadata": {}
                },
                {
                    "output_type": "execute_result",
                    "metadata": {},
                    "execution_count": 6,
                    "data": {
                        "application/vnd.dataresource+json": {
                            "schema": {
                                "fields": [
                                    {
                                        "name": "Country"
                                    },
                                    {
                                        "name": "Region"
                                    },
                                    {
                                        "name": "Happiness Rank"
                                    },
                                    {
                                        "name": "Happiness Score"
                                    },
                                    {
                                        "name": "Standard Error"
                                    },
                                    {
                                        "name": "Economy (GDP per Capita)"
                                    },
                                    {
                                        "name": "Family"
                                    },
                                    {
                                        "name": "Health (Life Expectancy)"
                                    },
                                    {
                                        "name": "Freedom"
                                    },
                                    {
                                        "name": "Trust (Government Corruption)"
                                    },
                                    {
                                        "name": "Generosity"
                                    },
                                    {
                                        "name": "Dystopia Residual"
                                    }
                                ]
                            },
                            "data": [
                                {
                                    "Country": "Switzerland",
                                    "Region": "Western Europe",
                                    "Happiness Rank": "1",
                                    "Happiness Score": "7.587",
                                    "Standard Error": "0.03411",
                                    "Economy (GDP per Capita)": "1.39651",
                                    "Family": "1.34951",
                                    "Health (Life Expectancy)": "0.94143",
                                    "Freedom": "0.66557",
                                    "Trust (Government Corruption)": "0.41978",
                                    "Generosity": "0.29678",
                                    "Dystopia Residual": "2.51738"
                                },
                                {
                                    "Country": "Iceland",
                                    "Region": "Western Europe",
                                    "Happiness Rank": "2",
                                    "Happiness Score": "7.561",
                                    "Standard Error": "0.04884",
                                    "Economy (GDP per Capita)": "1.30232",
                                    "Family": "1.40223",
                                    "Health (Life Expectancy)": "0.94784",
                                    "Freedom": "0.62877",
                                    "Trust (Government Corruption)": "0.14145",
                                    "Generosity": "0.4363",
                                    "Dystopia Residual": "2.70201"
                                },
                                {
                                    "Country": "Denmark",
                                    "Region": "Western Europe",
                                    "Happiness Rank": "3",
                                    "Happiness Score": "7.527",
                                    "Standard Error": "0.03328",
                                    "Economy (GDP per Capita)": "1.32548",
                                    "Family": "1.36058",
                                    "Health (Life Expectancy)": "0.87464",
                                    "Freedom": "0.64938",
                                    "Trust (Government Corruption)": "0.48357",
                                    "Generosity": "0.34139",
                                    "Dystopia Residual": "2.49204"
                                },
                                {
                                    "Country": "Norway",
                                    "Region": "Western Europe",
                                    "Happiness Rank": "4",
                                    "Happiness Score": "7.522",
                                    "Standard Error": "0.0388",
                                    "Economy (GDP per Capita)": "1.459",
                                    "Family": "1.33095",
                                    "Health (Life Expectancy)": "0.88521",
                                    "Freedom": "0.66973",
                                    "Trust (Government Corruption)": "0.36503",
                                    "Generosity": "0.34699",
                                    "Dystopia Residual": "2.46531"
                                },
                                {
                                    "Country": "Canada",
                                    "Region": "North America",
                                    "Happiness Rank": "5",
                                    "Happiness Score": "7.427",
                                    "Standard Error": "0.03553",
                                    "Economy (GDP per Capita)": "1.32629",
                                    "Family": "1.32261",
                                    "Health (Life Expectancy)": "0.90563",
                                    "Freedom": "0.63297",
                                    "Trust (Government Corruption)": "0.32957",
                                    "Generosity": "0.45811",
                                    "Dystopia Residual": "2.45176"
                                },
                                {
                                    "Country": "Finland",
                                    "Region": "Western Europe",
                                    "Happiness Rank": "6",
                                    "Happiness Score": "7.406",
                                    "Standard Error": "0.0314",
                                    "Economy (GDP per Capita)": "1.29025",
                                    "Family": "1.31826",
                                    "Health (Life Expectancy)": "0.88911",
                                    "Freedom": "0.64169",
                                    "Trust (Government Corruption)": "0.41372",
                                    "Generosity": "0.23351",
                                    "Dystopia Residual": "2.61955"
                                },
                                {
                                    "Country": "Netherlands",
                                    "Region": "Western Europe",
                                    "Happiness Rank": "7",
                                    "Happiness Score": "7.378",
                                    "Standard Error": "0.02799",
                                    "Economy (GDP per Capita)": "1.32944",
                                    "Family": "1.28017",
                                    "Health (Life Expectancy)": "0.89284",
                                    "Freedom": "0.61576",
                                    "Trust (Government Corruption)": "0.31814",
                                    "Generosity": "0.4761",
                                    "Dystopia Residual": "2.4657"
                                },
                                {
                                    "Country": "Sweden",
                                    "Region": "Western Europe",
                                    "Happiness Rank": "8",
                                    "Happiness Score": "7.364",
                                    "Standard Error": "0.03157",
                                    "Economy (GDP per Capita)": "1.33171",
                                    "Family": "1.28907",
                                    "Health (Life Expectancy)": "0.91087",
                                    "Freedom": "0.6598",
                                    "Trust (Government Corruption)": "0.43844",
                                    "Generosity": "0.36262",
                                    "Dystopia Residual": "2.37119"
                                },
                                {
                                    "Country": "New Zealand",
                                    "Region": "Australia and New Zealand",
                                    "Happiness Rank": "9",
                                    "Happiness Score": "7.286",
                                    "Standard Error": "0.03371",
                                    "Economy (GDP per Capita)": "1.25018",
                                    "Family": "1.31967",
                                    "Health (Life Expectancy)": "0.90837",
                                    "Freedom": "0.63938",
                                    "Trust (Government Corruption)": "0.42922",
                                    "Generosity": "0.47501",
                                    "Dystopia Residual": "2.26425"
                                },
                                {
                                    "Country": "Australia",
                                    "Region": "Australia and New Zealand",
                                    "Happiness Rank": "10",
                                    "Happiness Score": "7.284",
                                    "Standard Error": "0.04083",
                                    "Economy (GDP per Capita)": "1.33358",
                                    "Family": "1.30923",
                                    "Health (Life Expectancy)": "0.93156",
                                    "Freedom": "0.65124",
                                    "Trust (Government Corruption)": "0.35637",
                                    "Generosity": "0.43562",
                                    "Dystopia Residual": "2.26646"
                                },
                                {
                                    "Country": "Israel",
                                    "Region": "Middle East and Northern Africa",
                                    "Happiness Rank": "11",
                                    "Happiness Score": "7.278",
                                    "Standard Error": "0.0347",
                                    "Economy (GDP per Capita)": "1.22857",
                                    "Family": "1.22393",
                                    "Health (Life Expectancy)": "0.91387",
                                    "Freedom": "0.41319",
                                    "Trust (Government Corruption)": "0.07785",
                                    "Generosity": "0.33172",
                                    "Dystopia Residual": "3.08854"
                                },
                                {
                                    "Country": "Costa Rica",
                                    "Region": "Latin America and Caribbean",
                                    "Happiness Rank": "12",
                                    "Happiness Score": "7.226",
                                    "Standard Error": "0.04454",
                                    "Economy (GDP per Capita)": "0.95578",
                                    "Family": "1.23788",
                                    "Health (Life Expectancy)": "0.86027",
                                    "Freedom": "0.63376",
                                    "Trust (Government Corruption)": "0.10583",
                                    "Generosity": "0.25497",
                                    "Dystopia Residual": "3.17728"
                                },
                                {
                                    "Country": "Austria",
                                    "Region": "Western Europe",
                                    "Happiness Rank": "13",
                                    "Happiness Score": "7.2",
                                    "Standard Error": "0.03751",
                                    "Economy (GDP per Capita)": "1.33723",
                                    "Family": "1.29704",
                                    "Health (Life Expectancy)": "0.89042",
                                    "Freedom": "0.62433",
                                    "Trust (Government Corruption)": "0.18676",
                                    "Generosity": "0.33088",
                                    "Dystopia Residual": "2.5332"
                                },
                                {
                                    "Country": "Mexico",
                                    "Region": "Latin America and Caribbean",
                                    "Happiness Rank": "14",
                                    "Happiness Score": "7.187",
                                    "Standard Error": "0.04176",
                                    "Economy (GDP per Capita)": "1.02054",
                                    "Family": "0.91451",
                                    "Health (Life Expectancy)": "0.81444",
                                    "Freedom": "0.48181",
                                    "Trust (Government Corruption)": "0.21312",
                                    "Generosity": "0.14074",
                                    "Dystopia Residual": "3.60214"
                                },
                                {
                                    "Country": "United States",
                                    "Region": "North America",
                                    "Happiness Rank": "15",
                                    "Happiness Score": "7.119",
                                    "Standard Error": "0.03839",
                                    "Economy (GDP per Capita)": "1.39451",
                                    "Family": "1.24711",
                                    "Health (Life Expectancy)": "0.86179",
                                    "Freedom": "0.54604",
                                    "Trust (Government Corruption)": "0.1589",
                                    "Generosity": "0.40105",
                                    "Dystopia Residual": "2.51011"
                                },
                                {
                                    "Country": "Brazil",
                                    "Region": "Latin America and Caribbean",
                                    "Happiness Rank": "16",
                                    "Happiness Score": "6.983",
                                    "Standard Error": "0.04076",
                                    "Economy (GDP per Capita)": "0.98124",
                                    "Family": "1.23287",
                                    "Health (Life Expectancy)": "0.69702",
                                    "Freedom": "0.49049",
                                    "Trust (Government Corruption)": "0.17521",
                                    "Generosity": "0.14574",
                                    "Dystopia Residual": "3.26001"
                                },
                                {
                                    "Country": "Luxembourg",
                                    "Region": "Western Europe",
                                    "Happiness Rank": "17",
                                    "Happiness Score": "6.946",
                                    "Standard Error": "0.03499",
                                    "Economy (GDP per Capita)": "1.56391",
                                    "Family": "1.21963",
                                    "Health (Life Expectancy)": "0.91894",
                                    "Freedom": "0.61583",
                                    "Trust (Government Corruption)": "0.37798",
                                    "Generosity": "0.28034",
                                    "Dystopia Residual": "1.96961"
                                },
                                {
                                    "Country": "Ireland",
                                    "Region": "Western Europe",
                                    "Happiness Rank": "18",
                                    "Happiness Score": "6.94",
                                    "Standard Error": "0.03676",
                                    "Economy (GDP per Capita)": "1.33596",
                                    "Family": "1.36948",
                                    "Health (Life Expectancy)": "0.89533",
                                    "Freedom": "0.61777",
                                    "Trust (Government Corruption)": "0.28703",
                                    "Generosity": "0.45901",
                                    "Dystopia Residual": "1.9757"
                                },
                                {
                                    "Country": "Belgium",
                                    "Region": "Western Europe",
                                    "Happiness Rank": "19",
                                    "Happiness Score": "6.937",
                                    "Standard Error": "0.03595",
                                    "Economy (GDP per Capita)": "1.30782",
                                    "Family": "1.28566",
                                    "Health (Life Expectancy)": "0.89667",
                                    "Freedom": "0.5845",
                                    "Trust (Government Corruption)": "0.2254",
                                    "Generosity": "0.2225",
                                    "Dystopia Residual": "2.41484"
                                },
                                {
                                    "Country": "United Arab Emirates",
                                    "Region": "Middle East and Northern Africa",
                                    "Happiness Rank": "20",
                                    "Happiness Score": "6.901",
                                    "Standard Error": "0.03729",
                                    "Economy (GDP per Capita)": "1.42727",
                                    "Family": "1.12575",
                                    "Health (Life Expectancy)": "0.80925",
                                    "Freedom": "0.64157",
                                    "Trust (Government Corruption)": "0.38583",
                                    "Generosity": "0.26428",
                                    "Dystopia Residual": "2.24743"
                                },
                                {
                                    "Country": "United Kingdom",
                                    "Region": "Western Europe",
                                    "Happiness Rank": "21",
                                    "Happiness Score": "6.867",
                                    "Standard Error": "0.01866",
                                    "Economy (GDP per Capita)": "1.26637",
                                    "Family": "1.28548",
                                    "Health (Life Expectancy)": "0.90943",
                                    "Freedom": "0.59625",
                                    "Trust (Government Corruption)": "0.32067",
                                    "Generosity": "0.51912",
                                    "Dystopia Residual": "1.96994"
                                },
                                {
                                    "Country": "Oman",
                                    "Region": "Middle East and Northern Africa",
                                    "Happiness Rank": "22",
                                    "Happiness Score": "6.853",
                                    "Standard Error": "0.05335",
                                    "Economy (GDP per Capita)": "1.36011",
                                    "Family": "1.08182",
                                    "Health (Life Expectancy)": "0.76276",
                                    "Freedom": "0.63274",
                                    "Trust (Government Corruption)": "0.32524",
                                    "Generosity": "0.21542",
                                    "Dystopia Residual": "2.47489"
                                },
                                {
                                    "Country": "Venezuela",
                                    "Region": "Latin America and Caribbean",
                                    "Happiness Rank": "23",
                                    "Happiness Score": "6.81",
                                    "Standard Error": "0.06476",
                                    "Economy (GDP per Capita)": "1.04424",
                                    "Family": "1.25596",
                                    "Health (Life Expectancy)": "0.72052",
                                    "Freedom": "0.42908",
                                    "Trust (Government Corruption)": "0.11069",
                                    "Generosity": "0.05841",
                                    "Dystopia Residual": "3.19131"
                                },
                                {
                                    "Country": "Singapore",
                                    "Region": "Southeastern Asia",
                                    "Happiness Rank": "24",
                                    "Happiness Score": "6.798",
                                    "Standard Error": "0.0378",
                                    "Economy (GDP per Capita)": "1.52186",
                                    "Family": "1.02",
                                    "Health (Life Expectancy)": "1.02525",
                                    "Freedom": "0.54252",
                                    "Trust (Government Corruption)": "0.4921",
                                    "Generosity": "0.31105",
                                    "Dystopia Residual": "1.88501"
                                },
                                {
                                    "Country": "Panama",
                                    "Region": "Latin America and Caribbean",
                                    "Happiness Rank": "25",
                                    "Happiness Score": "6.786",
                                    "Standard Error": "0.0491",
                                    "Economy (GDP per Capita)": "1.06353",
                                    "Family": "1.1985",
                                    "Health (Life Expectancy)": "0.79661",
                                    "Freedom": "0.5421",
                                    "Trust (Government Corruption)": "0.0927",
                                    "Generosity": "0.24434",
                                    "Dystopia Residual": "2.84848"
                                },
                                {
                                    "Country": "Germany",
                                    "Region": "Western Europe",
                                    "Happiness Rank": "26",
                                    "Happiness Score": "6.75",
                                    "Standard Error": "0.01848",
                                    "Economy (GDP per Capita)": "1.32792",
                                    "Family": "1.29937",
                                    "Health (Life Expectancy)": "0.89186",
                                    "Freedom": "0.61477",
                                    "Trust (Government Corruption)": "0.21843",
                                    "Generosity": "0.28214",
                                    "Dystopia Residual": "2.11569"
                                },
                                {
                                    "Country": "Chile",
                                    "Region": "Latin America and Caribbean",
                                    "Happiness Rank": "27",
                                    "Happiness Score": "6.67",
                                    "Standard Error": "0.058",
                                    "Economy (GDP per Capita)": "1.10715",
                                    "Family": "1.12447",
                                    "Health (Life Expectancy)": "0.85857",
                                    "Freedom": "0.44132",
                                    "Trust (Government Corruption)": "0.12869",
                                    "Generosity": "0.33363",
                                    "Dystopia Residual": "2.67585"
                                },
                                {
                                    "Country": "Qatar",
                                    "Region": "Middle East and Northern Africa",
                                    "Happiness Rank": "28",
                                    "Happiness Score": "6.611",
                                    "Standard Error": "0.06257",
                                    "Economy (GDP per Capita)": "1.69042",
                                    "Family": "1.0786",
                                    "Health (Life Expectancy)": "0.79733",
                                    "Freedom": "0.6404",
                                    "Trust (Government Corruption)": "0.52208",
                                    "Generosity": "0.32573",
                                    "Dystopia Residual": "1.55674"
                                },
                                {
                                    "Country": "France",
                                    "Region": "Western Europe",
                                    "Happiness Rank": "29",
                                    "Happiness Score": "6.575",
                                    "Standard Error": "0.03512",
                                    "Economy (GDP per Capita)": "1.27778",
                                    "Family": "1.26038",
                                    "Health (Life Expectancy)": "0.94579",
                                    "Freedom": "0.55011",
                                    "Trust (Government Corruption)": "0.20646",
                                    "Generosity": "0.12332",
                                    "Dystopia Residual": "2.21126"
                                },
                                {
                                    "Country": "Argentina",
                                    "Region": "Latin America and Caribbean",
                                    "Happiness Rank": "30",
                                    "Happiness Score": "6.574",
                                    "Standard Error": "0.04612",
                                    "Economy (GDP per Capita)": "1.05351",
                                    "Family": "1.24823",
                                    "Health (Life Expectancy)": "0.78723",
                                    "Freedom": "0.44974",
                                    "Trust (Government Corruption)": "0.08484",
                                    "Generosity": "0.11451",
                                    "Dystopia Residual": "2.836"
                                },
                                {
                                    "Country": "Czech Republic",
                                    "Region": "Central and Eastern Europe",
                                    "Happiness Rank": "31",
                                    "Happiness Score": "6.505",
                                    "Standard Error": "0.04168",
                                    "Economy (GDP per Capita)": "1.17898",
                                    "Family": "1.20643",
                                    "Health (Life Expectancy)": "0.84483",
                                    "Freedom": "0.46364",
                                    "Trust (Government Corruption)": "0.02652",
                                    "Generosity": "0.10686",
                                    "Dystopia Residual": "2.67782"
                                },
                                {
                                    "Country": "Uruguay",
                                    "Region": "Latin America and Caribbean",
                                    "Happiness Rank": "32",
                                    "Happiness Score": "6.485",
                                    "Standard Error": "0.04539",
                                    "Economy (GDP per Capita)": "1.06166",
                                    "Family": "1.2089",
                                    "Health (Life Expectancy)": "0.8116",
                                    "Freedom": "0.60362",
                                    "Trust (Government Corruption)": "0.24558",
                                    "Generosity": "0.2324",
                                    "Dystopia Residual": "2.32142"
                                },
                                {
                                    "Country": "Colombia",
                                    "Region": "Latin America and Caribbean",
                                    "Happiness Rank": "33",
                                    "Happiness Score": "6.477",
                                    "Standard Error": "0.05051",
                                    "Economy (GDP per Capita)": "0.91861",
                                    "Family": "1.24018",
                                    "Health (Life Expectancy)": "0.69077",
                                    "Freedom": "0.53466",
                                    "Trust (Government Corruption)": "0.0512",
                                    "Generosity": "0.18401",
                                    "Dystopia Residual": "2.85737"
                                },
                                {
                                    "Country": "Thailand",
                                    "Region": "Southeastern Asia",
                                    "Happiness Rank": "34",
                                    "Happiness Score": "6.455",
                                    "Standard Error": "0.03557",
                                    "Economy (GDP per Capita)": "0.9669",
                                    "Family": "1.26504",
                                    "Health (Life Expectancy)": "0.7385",
                                    "Freedom": "0.55664",
                                    "Trust (Government Corruption)": "0.03187",
                                    "Generosity": "0.5763",
                                    "Dystopia Residual": "2.31945"
                                },
                                {
                                    "Country": "Saudi Arabia",
                                    "Region": "Middle East and Northern Africa",
                                    "Happiness Rank": "35",
                                    "Happiness Score": "6.411",
                                    "Standard Error": "0.04633",
                                    "Economy (GDP per Capita)": "1.39541",
                                    "Family": "1.08393",
                                    "Health (Life Expectancy)": "0.72025",
                                    "Freedom": "0.31048",
                                    "Trust (Government Corruption)": "0.32524",
                                    "Generosity": "0.13706",
                                    "Dystopia Residual": "2.43872"
                                },
                                {
                                    "Country": "Spain",
                                    "Region": "Western Europe",
                                    "Happiness Rank": "36",
                                    "Happiness Score": "6.329",
                                    "Standard Error": "0.03468",
                                    "Economy (GDP per Capita)": "1.23011",
                                    "Family": "1.31379",
                                    "Health (Life Expectancy)": "0.95562",
                                    "Freedom": "0.45951",
                                    "Trust (Government Corruption)": "0.06398",
                                    "Generosity": "0.18227",
                                    "Dystopia Residual": "2.12367"
                                },
                                {
                                    "Country": "Malta",
                                    "Region": "Western Europe",
                                    "Happiness Rank": "37",
                                    "Happiness Score": "6.302",
                                    "Standard Error": "0.04206",
                                    "Economy (GDP per Capita)": "1.2074",
                                    "Family": "1.30203",
                                    "Health (Life Expectancy)": "0.88721",
                                    "Freedom": "0.60365",
                                    "Trust (Government Corruption)": "0.13586",
                                    "Generosity": "0.51752",
                                    "Dystopia Residual": "1.6488"
                                },
                                {
                                    "Country": "Taiwan",
                                    "Region": "Eastern Asia",
                                    "Happiness Rank": "38",
                                    "Happiness Score": "6.298",
                                    "Standard Error": "0.03868",
                                    "Economy (GDP per Capita)": "1.29098",
                                    "Family": "1.07617",
                                    "Health (Life Expectancy)": "0.8753",
                                    "Freedom": "0.3974",
                                    "Trust (Government Corruption)": "0.08129",
                                    "Generosity": "0.25376",
                                    "Dystopia Residual": "2.32323"
                                },
                                {
                                    "Country": "Kuwait",
                                    "Region": "Middle East and Northern Africa",
                                    "Happiness Rank": "39",
                                    "Happiness Score": "6.295",
                                    "Standard Error": "0.04456",
                                    "Economy (GDP per Capita)": "1.55422",
                                    "Family": "1.16594",
                                    "Health (Life Expectancy)": "0.72492",
                                    "Freedom": "0.55499",
                                    "Trust (Government Corruption)": "0.25609",
                                    "Generosity": "0.16228",
                                    "Dystopia Residual": "1.87634"
                                },
                                {
                                    "Country": "Suriname",
                                    "Region": "Latin America and Caribbean",
                                    "Happiness Rank": "40",
                                    "Happiness Score": "6.269",
                                    "Standard Error": "0.09811",
                                    "Economy (GDP per Capita)": "0.99534",
                                    "Family": "0.972",
                                    "Health (Life Expectancy)": "0.6082",
                                    "Freedom": "0.59657",
                                    "Trust (Government Corruption)": "0.13633",
                                    "Generosity": "0.16991",
                                    "Dystopia Residual": "2.79094"
                                },
                                {
                                    "Country": "Trinidad and Tobago",
                                    "Region": "Latin America and Caribbean",
                                    "Happiness Rank": "41",
                                    "Happiness Score": "6.168",
                                    "Standard Error": "0.10895",
                                    "Economy (GDP per Capita)": "1.21183",
                                    "Family": "1.18354",
                                    "Health (Life Expectancy)": "0.61483",
                                    "Freedom": "0.55884",
                                    "Trust (Government Corruption)": "0.0114",
                                    "Generosity": "0.31844",
                                    "Dystopia Residual": "2.26882"
                                },
                                {
                                    "Country": "El Salvador",
                                    "Region": "Latin America and Caribbean",
                                    "Happiness Rank": "42",
                                    "Happiness Score": "6.13",
                                    "Standard Error": "0.05618",
                                    "Economy (GDP per Capita)": "0.76454",
                                    "Family": "1.02507",
                                    "Health (Life Expectancy)": "0.67737",
                                    "Freedom": "0.4035",
                                    "Trust (Government Corruption)": "0.11776",
                                    "Generosity": "0.10692",
                                    "Dystopia Residual": "3.035"
                                },
                                {
                                    "Country": "Guatemala",
                                    "Region": "Latin America and Caribbean",
                                    "Happiness Rank": "43",
                                    "Happiness Score": "6.123",
                                    "Standard Error": "0.05224",
                                    "Economy (GDP per Capita)": "0.74553",
                                    "Family": "1.04356",
                                    "Health (Life Expectancy)": "0.64425",
                                    "Freedom": "0.57733",
                                    "Trust (Government Corruption)": "0.09472",
                                    "Generosity": "0.27489",
                                    "Dystopia Residual": "2.74255"
                                },
                                {
                                    "Country": "Uzbekistan",
                                    "Region": "Central and Eastern Europe",
                                    "Happiness Rank": "44",
                                    "Happiness Score": "6.003",
                                    "Standard Error": "0.04361",
                                    "Economy (GDP per Capita)": "0.63244",
                                    "Family": "1.34043",
                                    "Health (Life Expectancy)": "0.59772",
                                    "Freedom": "0.65821",
                                    "Trust (Government Corruption)": "0.30826",
                                    "Generosity": "0.22837",
                                    "Dystopia Residual": "2.23741"
                                },
                                {
                                    "Country": "Slovakia",
                                    "Region": "Central and Eastern Europe",
                                    "Happiness Rank": "45",
                                    "Happiness Score": "5.995",
                                    "Standard Error": "0.04267",
                                    "Economy (GDP per Capita)": "1.16891",
                                    "Family": "1.26999",
                                    "Health (Life Expectancy)": "0.78902",
                                    "Freedom": "0.31751",
                                    "Trust (Government Corruption)": "0.03431",
                                    "Generosity": "0.16893",
                                    "Dystopia Residual": "2.24639"
                                },
                                {
                                    "Country": "Japan",
                                    "Region": "Eastern Asia",
                                    "Happiness Rank": "46",
                                    "Happiness Score": "5.987",
                                    "Standard Error": "0.03581",
                                    "Economy (GDP per Capita)": "1.27074",
                                    "Family": "1.25712",
                                    "Health (Life Expectancy)": "0.99111",
                                    "Freedom": "0.49615",
                                    "Trust (Government Corruption)": "0.1806",
                                    "Generosity": "0.10705",
                                    "Dystopia Residual": "1.68435"
                                },
                                {
                                    "Country": "South Korea",
                                    "Region": "Eastern Asia",
                                    "Happiness Rank": "47",
                                    "Happiness Score": "5.984",
                                    "Standard Error": "0.04098",
                                    "Economy (GDP per Capita)": "1.24461",
                                    "Family": "0.95774",
                                    "Health (Life Expectancy)": "0.96538",
                                    "Freedom": "0.33208",
                                    "Trust (Government Corruption)": "0.07857",
                                    "Generosity": "0.18557",
                                    "Dystopia Residual": "2.21978"
                                },
                                {
                                    "Country": "Ecuador",
                                    "Region": "Latin America and Caribbean",
                                    "Happiness Rank": "48",
                                    "Happiness Score": "5.975",
                                    "Standard Error": "0.04528",
                                    "Economy (GDP per Capita)": "0.86402",
                                    "Family": "0.99903",
                                    "Health (Life Expectancy)": "0.79075",
                                    "Freedom": "0.48574",
                                    "Trust (Government Corruption)": "0.1809",
                                    "Generosity": "0.11541",
                                    "Dystopia Residual": "2.53942"
                                },
                                {
                                    "Country": "Bahrain",
                                    "Region": "Middle East and Northern Africa",
                                    "Happiness Rank": "49",
                                    "Happiness Score": "5.96",
                                    "Standard Error": "0.05412",
                                    "Economy (GDP per Capita)": "1.32376",
                                    "Family": "1.21624",
                                    "Health (Life Expectancy)": "0.74716",
                                    "Freedom": "0.45492",
                                    "Trust (Government Corruption)": "0.306",
                                    "Generosity": "0.17362",
                                    "Dystopia Residual": "1.73797"
                                },
                                {
                                    "Country": "Italy",
                                    "Region": "Western Europe",
                                    "Happiness Rank": "50",
                                    "Happiness Score": "5.948",
                                    "Standard Error": "0.03914",
                                    "Economy (GDP per Capita)": "1.25114",
                                    "Family": "1.19777",
                                    "Health (Life Expectancy)": "0.95446",
                                    "Freedom": "0.26236",
                                    "Trust (Government Corruption)": "0.02901",
                                    "Generosity": "0.22823",
                                    "Dystopia Residual": "2.02518"
                                },
                                {
                                    "Country": "Bolivia",
                                    "Region": "Latin America and Caribbean",
                                    "Happiness Rank": "51",
                                    "Happiness Score": "5.89",
                                    "Standard Error": "0.05642",
                                    "Economy (GDP per Capita)": "0.68133",
                                    "Family": "0.97841",
                                    "Health (Life Expectancy)": "0.5392",
                                    "Freedom": "0.57414",
                                    "Trust (Government Corruption)": "0.088",
                                    "Generosity": "0.20536",
                                    "Dystopia Residual": "2.82334"
                                },
                                {
                                    "Country": "Moldova",
                                    "Region": "Central and Eastern Europe",
                                    "Happiness Rank": "52",
                                    "Happiness Score": "5.889",
                                    "Standard Error": "0.03799",
                                    "Economy (GDP per Capita)": "0.59448",
                                    "Family": "1.01528",
                                    "Health (Life Expectancy)": "0.61826",
                                    "Freedom": "0.32818",
                                    "Trust (Government Corruption)": "0.01615",
                                    "Generosity": "0.20951",
                                    "Dystopia Residual": "3.10712"
                                },
                                {
                                    "Country": "Paraguay",
                                    "Region": "Latin America and Caribbean",
                                    "Happiness Rank": "53",
                                    "Happiness Score": "5.878",
                                    "Standard Error": "0.04563",
                                    "Economy (GDP per Capita)": "0.75985",
                                    "Family": "1.30477",
                                    "Health (Life Expectancy)": "0.66098",
                                    "Freedom": "0.53899",
                                    "Trust (Government Corruption)": "0.08242",
                                    "Generosity": "0.3424",
                                    "Dystopia Residual": "2.18896"
                                },
                                {
                                    "Country": "Kazakhstan",
                                    "Region": "Central and Eastern Europe",
                                    "Happiness Rank": "54",
                                    "Happiness Score": "5.855",
                                    "Standard Error": "0.04114",
                                    "Economy (GDP per Capita)": "1.12254",
                                    "Family": "1.12241",
                                    "Health (Life Expectancy)": "0.64368",
                                    "Freedom": "0.51649",
                                    "Trust (Government Corruption)": "0.08454",
                                    "Generosity": "0.11827",
                                    "Dystopia Residual": "2.24729"
                                },
                                {
                                    "Country": "Slovenia",
                                    "Region": "Central and Eastern Europe",
                                    "Happiness Rank": "55",
                                    "Happiness Score": "5.848",
                                    "Standard Error": "0.04251",
                                    "Economy (GDP per Capita)": "1.18498",
                                    "Family": "1.27385",
                                    "Health (Life Expectancy)": "0.87337",
                                    "Freedom": "0.60855",
                                    "Trust (Government Corruption)": "0.03787",
                                    "Generosity": "0.25328",
                                    "Dystopia Residual": "1.61583"
                                },
                                {
                                    "Country": "Lithuania",
                                    "Region": "Central and Eastern Europe",
                                    "Happiness Rank": "56",
                                    "Happiness Score": "5.833",
                                    "Standard Error": "0.03843",
                                    "Economy (GDP per Capita)": "1.14723",
                                    "Family": "1.25745",
                                    "Health (Life Expectancy)": "0.73128",
                                    "Freedom": "0.21342",
                                    "Trust (Government Corruption)": "0.01031",
                                    "Generosity": "0.02641",
                                    "Dystopia Residual": "2.44649"
                                },
                                {
                                    "Country": "Nicaragua",
                                    "Region": "Latin America and Caribbean",
                                    "Happiness Rank": "57",
                                    "Happiness Score": "5.828",
                                    "Standard Error": "0.05371",
                                    "Economy (GDP per Capita)": "0.59325",
                                    "Family": "1.14184",
                                    "Health (Life Expectancy)": "0.74314",
                                    "Freedom": "0.55475",
                                    "Trust (Government Corruption)": "0.19317",
                                    "Generosity": "0.27815",
                                    "Dystopia Residual": "2.32407"
                                },
                                {
                                    "Country": "Peru",
                                    "Region": "Latin America and Caribbean",
                                    "Happiness Rank": "58",
                                    "Happiness Score": "5.824",
                                    "Standard Error": "0.04615",
                                    "Economy (GDP per Capita)": "0.90019",
                                    "Family": "0.97459",
                                    "Health (Life Expectancy)": "0.73017",
                                    "Freedom": "0.41496",
                                    "Trust (Government Corruption)": "0.05989",
                                    "Generosity": "0.14982",
                                    "Dystopia Residual": "2.5945"
                                },
                                {
                                    "Country": "Belarus",
                                    "Region": "Central and Eastern Europe",
                                    "Happiness Rank": "59",
                                    "Happiness Score": "5.813",
                                    "Standard Error": "0.03938",
                                    "Economy (GDP per Capita)": "1.03192",
                                    "Family": "1.23289",
                                    "Health (Life Expectancy)": "0.73608",
                                    "Freedom": "0.37938",
                                    "Trust (Government Corruption)": "0.1909",
                                    "Generosity": "0.11046",
                                    "Dystopia Residual": "2.1309"
                                },
                                {
                                    "Country": "Poland",
                                    "Region": "Central and Eastern Europe",
                                    "Happiness Rank": "60",
                                    "Happiness Score": "5.791",
                                    "Standard Error": "0.04263",
                                    "Economy (GDP per Capita)": "1.12555",
                                    "Family": "1.27948",
                                    "Health (Life Expectancy)": "0.77903",
                                    "Freedom": "0.53122",
                                    "Trust (Government Corruption)": "0.04212",
                                    "Generosity": "0.16759",
                                    "Dystopia Residual": "1.86565"
                                },
                                {
                                    "Country": "Malaysia",
                                    "Region": "Southeastern Asia",
                                    "Happiness Rank": "61",
                                    "Happiness Score": "5.77",
                                    "Standard Error": "0.0433",
                                    "Economy (GDP per Capita)": "1.12486",
                                    "Family": "1.07023",
                                    "Health (Life Expectancy)": "0.72394",
                                    "Freedom": "0.53024",
                                    "Trust (Government Corruption)": "0.10501",
                                    "Generosity": "0.33075",
                                    "Dystopia Residual": "1.88541"
                                },
                                {
                                    "Country": "Croatia",
                                    "Region": "Central and Eastern Europe",
                                    "Happiness Rank": "62",
                                    "Happiness Score": "5.759",
                                    "Standard Error": "0.04394",
                                    "Economy (GDP per Capita)": "1.08254",
                                    "Family": "0.79624",
                                    "Health (Life Expectancy)": "0.78805",
                                    "Freedom": "0.25883",
                                    "Trust (Government Corruption)": "0.0243",
                                    "Generosity": "0.05444",
                                    "Dystopia Residual": "2.75414"
                                },
                                {
                                    "Country": "Libya",
                                    "Region": "Middle East and Northern Africa",
                                    "Happiness Rank": "63",
                                    "Happiness Score": "5.754",
                                    "Standard Error": "0.07832",
                                    "Economy (GDP per Capita)": "1.13145",
                                    "Family": "1.11862",
                                    "Health (Life Expectancy)": "0.7038",
                                    "Freedom": "0.41668",
                                    "Trust (Government Corruption)": "0.11023",
                                    "Generosity": "0.18295",
                                    "Dystopia Residual": "2.09066"
                                },
                                {
                                    "Country": "Russia",
                                    "Region": "Central and Eastern Europe",
                                    "Happiness Rank": "64",
                                    "Happiness Score": "5.716",
                                    "Standard Error": "0.03135",
                                    "Economy (GDP per Capita)": "1.13764",
                                    "Family": "1.23617",
                                    "Health (Life Expectancy)": "0.66926",
                                    "Freedom": "0.36679",
                                    "Trust (Government Corruption)": "0.03005",
                                    "Generosity": "0.00199",
                                    "Dystopia Residual": "2.27394"
                                },
                                {
                                    "Country": "Jamaica",
                                    "Region": "Latin America and Caribbean",
                                    "Happiness Rank": "65",
                                    "Happiness Score": "5.709",
                                    "Standard Error": "0.13693",
                                    "Economy (GDP per Capita)": "0.81038",
                                    "Family": "1.15102",
                                    "Health (Life Expectancy)": "0.68741",
                                    "Freedom": "0.50442",
                                    "Trust (Government Corruption)": "0.02299",
                                    "Generosity": "0.2123",
                                    "Dystopia Residual": "2.32038"
                                },
                                {
                                    "Country": "North Cyprus",
                                    "Region": "Western Europe",
                                    "Happiness Rank": "66",
                                    "Happiness Score": "5.695",
                                    "Standard Error": "0.05635",
                                    "Economy (GDP per Capita)": "1.20806",
                                    "Family": "1.07008",
                                    "Health (Life Expectancy)": "0.92356",
                                    "Freedom": "0.49027",
                                    "Trust (Government Corruption)": "0.1428",
                                    "Generosity": "0.26169",
                                    "Dystopia Residual": "1.59888"
                                },
                                {
                                    "Country": "Cyprus",
                                    "Region": "Western Europe",
                                    "Happiness Rank": "67",
                                    "Happiness Score": "5.689",
                                    "Standard Error": "0.0558",
                                    "Economy (GDP per Capita)": "1.20813",
                                    "Family": "0.89318",
                                    "Health (Life Expectancy)": "0.92356",
                                    "Freedom": "0.40672",
                                    "Trust (Government Corruption)": "0.06146",
                                    "Generosity": "0.30638",
                                    "Dystopia Residual": "1.88931"
                                },
                                {
                                    "Country": "Algeria",
                                    "Region": "Middle East and Northern Africa",
                                    "Happiness Rank": "68",
                                    "Happiness Score": "5.605",
                                    "Standard Error": "0.05099",
                                    "Economy (GDP per Capita)": "0.93929",
                                    "Family": "1.07772",
                                    "Health (Life Expectancy)": "0.61766",
                                    "Freedom": "0.28579",
                                    "Trust (Government Corruption)": "0.17383",
                                    "Generosity": "0.07822",
                                    "Dystopia Residual": "2.43209"
                                },
                                {
                                    "Country": "Kosovo",
                                    "Region": "Central and Eastern Europe",
                                    "Happiness Rank": "69",
                                    "Happiness Score": "5.589",
                                    "Standard Error": "0.05018",
                                    "Economy (GDP per Capita)": "0.80148",
                                    "Family": "0.81198",
                                    "Health (Life Expectancy)": "0.63132",
                                    "Freedom": "0.24749",
                                    "Trust (Government Corruption)": "0.04741",
                                    "Generosity": "0.2831",
                                    "Dystopia Residual": "2.76579"
                                },
                                {
                                    "Country": "Turkmenistan",
                                    "Region": "Central and Eastern Europe",
                                    "Happiness Rank": "70",
                                    "Happiness Score": "5.548",
                                    "Standard Error": "0.04175",
                                    "Economy (GDP per Capita)": "0.95847",
                                    "Family": "1.22668",
                                    "Health (Life Expectancy)": "0.53886",
                                    "Freedom": "0.4761",
                                    "Trust (Government Corruption)": "0.30844",
                                    "Generosity": "0.16979",
                                    "Dystopia Residual": "1.86984"
                                },
                                {
                                    "Country": "Mauritius",
                                    "Region": "Sub-Saharan Africa",
                                    "Happiness Rank": "71",
                                    "Happiness Score": "5.477",
                                    "Standard Error": "0.07197",
                                    "Economy (GDP per Capita)": "1.00761",
                                    "Family": "0.98521",
                                    "Health (Life Expectancy)": "0.7095",
                                    "Freedom": "0.56066",
                                    "Trust (Government Corruption)": "0.07521",
                                    "Generosity": "0.37744",
                                    "Dystopia Residual": "1.76145"
                                },
                                {
                                    "Country": "Hong Kong",
                                    "Region": "Eastern Asia",
                                    "Happiness Rank": "72",
                                    "Happiness Score": "5.474",
                                    "Standard Error": "0.05051",
                                    "Economy (GDP per Capita)": "1.38604",
                                    "Family": "1.05818",
                                    "Health (Life Expectancy)": "1.01328",
                                    "Freedom": "0.59608",
                                    "Trust (Government Corruption)": "0.37124",
                                    "Generosity": "0.39478",
                                    "Dystopia Residual": "0.65429"
                                },
                                {
                                    "Country": "Estonia",
                                    "Region": "Central and Eastern Europe",
                                    "Happiness Rank": "73",
                                    "Happiness Score": "5.429",
                                    "Standard Error": "0.04013",
                                    "Economy (GDP per Capita)": "1.15174",
                                    "Family": "1.22791",
                                    "Health (Life Expectancy)": "0.77361",
                                    "Freedom": "0.44888",
                                    "Trust (Government Corruption)": "0.15184",
                                    "Generosity": "0.0868",
                                    "Dystopia Residual": "1.58782"
                                },
                                {
                                    "Country": "Indonesia",
                                    "Region": "Southeastern Asia",
                                    "Happiness Rank": "74",
                                    "Happiness Score": "5.399",
                                    "Standard Error": "0.02596",
                                    "Economy (GDP per Capita)": "0.82827",
                                    "Family": "1.08708",
                                    "Health (Life Expectancy)": "0.63793",
                                    "Freedom": "0.46611",
                                    "Trust (Government Corruption)": "0",
                                    "Generosity": "0.51535",
                                    "Dystopia Residual": "1.86399"
                                },
                                {
                                    "Country": "Vietnam",
                                    "Region": "Southeastern Asia",
                                    "Happiness Rank": "75",
                                    "Happiness Score": "5.36",
                                    "Standard Error": "0.03107",
                                    "Economy (GDP per Capita)": "0.63216",
                                    "Family": "0.91226",
                                    "Health (Life Expectancy)": "0.74676",
                                    "Freedom": "0.59444",
                                    "Trust (Government Corruption)": "0.10441",
                                    "Generosity": "0.1686",
                                    "Dystopia Residual": "2.20173"
                                },
                                {
                                    "Country": "Turkey",
                                    "Region": "Middle East and Northern Africa",
                                    "Happiness Rank": "76",
                                    "Happiness Score": "5.332",
                                    "Standard Error": "0.03864",
                                    "Economy (GDP per Capita)": "1.06098",
                                    "Family": "0.94632",
                                    "Health (Life Expectancy)": "0.73172",
                                    "Freedom": "0.22815",
                                    "Trust (Government Corruption)": "0.15746",
                                    "Generosity": "0.12253",
                                    "Dystopia Residual": "2.08528"
                                },
                                {
                                    "Country": "Kyrgyzstan",
                                    "Region": "Central and Eastern Europe",
                                    "Happiness Rank": "77",
                                    "Happiness Score": "5.286",
                                    "Standard Error": "0.03823",
                                    "Economy (GDP per Capita)": "0.47428",
                                    "Family": "1.15115",
                                    "Health (Life Expectancy)": "0.65088",
                                    "Freedom": "0.43477",
                                    "Trust (Government Corruption)": "0.04232",
                                    "Generosity": "0.3003",
                                    "Dystopia Residual": "2.2327"
                                },
                                {
                                    "Country": "Nigeria",
                                    "Region": "Sub-Saharan Africa",
                                    "Happiness Rank": "78",
                                    "Happiness Score": "5.268",
                                    "Standard Error": "0.04192",
                                    "Economy (GDP per Capita)": "0.65435",
                                    "Family": "0.90432",
                                    "Health (Life Expectancy)": "0.16007",
                                    "Freedom": "0.34334",
                                    "Trust (Government Corruption)": "0.0403",
                                    "Generosity": "0.27233",
                                    "Dystopia Residual": "2.89319"
                                },
                                {
                                    "Country": "Bhutan",
                                    "Region": "Southern Asia",
                                    "Happiness Rank": "79",
                                    "Happiness Score": "5.253",
                                    "Standard Error": "0.03225",
                                    "Economy (GDP per Capita)": "0.77042",
                                    "Family": "1.10395",
                                    "Health (Life Expectancy)": "0.57407",
                                    "Freedom": "0.53206",
                                    "Trust (Government Corruption)": "0.15445",
                                    "Generosity": "0.47998",
                                    "Dystopia Residual": "1.63794"
                                },
                                {
                                    "Country": "Azerbaijan",
                                    "Region": "Central and Eastern Europe",
                                    "Happiness Rank": "80",
                                    "Happiness Score": "5.212",
                                    "Standard Error": "0.03363",
                                    "Economy (GDP per Capita)": "1.02389",
                                    "Family": "0.93793",
                                    "Health (Life Expectancy)": "0.64045",
                                    "Freedom": "0.3703",
                                    "Trust (Government Corruption)": "0.16065",
                                    "Generosity": "0.07799",
                                    "Dystopia Residual": "2.00073"
                                },
                                {
                                    "Country": "Pakistan",
                                    "Region": "Southern Asia",
                                    "Happiness Rank": "81",
                                    "Happiness Score": "5.194",
                                    "Standard Error": "0.03726",
                                    "Economy (GDP per Capita)": "0.59543",
                                    "Family": "0.41411",
                                    "Health (Life Expectancy)": "0.51466",
                                    "Freedom": "0.12102",
                                    "Trust (Government Corruption)": "0.10464",
                                    "Generosity": "0.33671",
                                    "Dystopia Residual": "3.10709"
                                },
                                {
                                    "Country": "Jordan",
                                    "Region": "Middle East and Northern Africa",
                                    "Happiness Rank": "82",
                                    "Happiness Score": "5.192",
                                    "Standard Error": "0.04524",
                                    "Economy (GDP per Capita)": "0.90198",
                                    "Family": "1.05392",
                                    "Health (Life Expectancy)": "0.69639",
                                    "Freedom": "0.40661",
                                    "Trust (Government Corruption)": "0.14293",
                                    "Generosity": "0.11053",
                                    "Dystopia Residual": "1.87996"
                                },
                                {
                                    "Country": "Montenegro",
                                    "Region": "Central and Eastern Europe",
                                    "Happiness Rank": "82",
                                    "Happiness Score": "5.192",
                                    "Standard Error": "0.05235",
                                    "Economy (GDP per Capita)": "0.97438",
                                    "Family": "0.90557",
                                    "Health (Life Expectancy)": "0.72521",
                                    "Freedom": "0.1826",
                                    "Trust (Government Corruption)": "0.14296",
                                    "Generosity": "0.1614",
                                    "Dystopia Residual": "2.10017"
                                },
                                {
                                    "Country": "China",
                                    "Region": "Eastern Asia",
                                    "Happiness Rank": "84",
                                    "Happiness Score": "5.14",
                                    "Standard Error": "0.02424",
                                    "Economy (GDP per Capita)": "0.89012",
                                    "Family": "0.94675",
                                    "Health (Life Expectancy)": "0.81658",
                                    "Freedom": "0.51697",
                                    "Trust (Government Corruption)": "0.02781",
                                    "Generosity": "0.08185",
                                    "Dystopia Residual": "1.8604"
                                },
                                {
                                    "Country": "Zambia",
                                    "Region": "Sub-Saharan Africa",
                                    "Happiness Rank": "85",
                                    "Happiness Score": "5.129",
                                    "Standard Error": "0.06988",
                                    "Economy (GDP per Capita)": "0.47038",
                                    "Family": "0.91612",
                                    "Health (Life Expectancy)": "0.29924",
                                    "Freedom": "0.48827",
                                    "Trust (Government Corruption)": "0.12468",
                                    "Generosity": "0.19591",
                                    "Dystopia Residual": "2.6343"
                                },
                                {
                                    "Country": "Romania",
                                    "Region": "Central and Eastern Europe",
                                    "Happiness Rank": "86",
                                    "Happiness Score": "5.124",
                                    "Standard Error": "0.06607",
                                    "Economy (GDP per Capita)": "1.04345",
                                    "Family": "0.88588",
                                    "Health (Life Expectancy)": "0.7689",
                                    "Freedom": "0.35068",
                                    "Trust (Government Corruption)": "0.00649",
                                    "Generosity": "0.13748",
                                    "Dystopia Residual": "1.93129"
                                },
                                {
                                    "Country": "Serbia",
                                    "Region": "Central and Eastern Europe",
                                    "Happiness Rank": "87",
                                    "Happiness Score": "5.123",
                                    "Standard Error": "0.04864",
                                    "Economy (GDP per Capita)": "0.92053",
                                    "Family": "1.00964",
                                    "Health (Life Expectancy)": "0.74836",
                                    "Freedom": "0.20107",
                                    "Trust (Government Corruption)": "0.02617",
                                    "Generosity": "0.19231",
                                    "Dystopia Residual": "2.025"
                                },
                                {
                                    "Country": "Portugal",
                                    "Region": "Western Europe",
                                    "Happiness Rank": "88",
                                    "Happiness Score": "5.102",
                                    "Standard Error": "0.04802",
                                    "Economy (GDP per Capita)": "1.15991",
                                    "Family": "1.13935",
                                    "Health (Life Expectancy)": "0.87519",
                                    "Freedom": "0.51469",
                                    "Trust (Government Corruption)": "0.01078",
                                    "Generosity": "0.13719",
                                    "Dystopia Residual": "1.26462"
                                },
                                {
                                    "Country": "Latvia",
                                    "Region": "Central and Eastern Europe",
                                    "Happiness Rank": "89",
                                    "Happiness Score": "5.098",
                                    "Standard Error": "0.0464",
                                    "Economy (GDP per Capita)": "1.11312",
                                    "Family": "1.09562",
                                    "Health (Life Expectancy)": "0.72437",
                                    "Freedom": "0.29671",
                                    "Trust (Government Corruption)": "0.06332",
                                    "Generosity": "0.18226",
                                    "Dystopia Residual": "1.62215"
                                },
                                {
                                    "Country": "Philippines",
                                    "Region": "Southeastern Asia",
                                    "Happiness Rank": "90",
                                    "Happiness Score": "5.073",
                                    "Standard Error": "0.04934",
                                    "Economy (GDP per Capita)": "0.70532",
                                    "Family": "1.03516",
                                    "Health (Life Expectancy)": "0.58114",
                                    "Freedom": "0.62545",
                                    "Trust (Government Corruption)": "0.12279",
                                    "Generosity": "0.24991",
                                    "Dystopia Residual": "1.7536"
                                },
                                {
                                    "Country": "Somaliland region",
                                    "Region": "Sub-Saharan Africa",
                                    "Happiness Rank": "91",
                                    "Happiness Score": "5.057",
                                    "Standard Error": "0.06161",
                                    "Economy (GDP per Capita)": "0.18847",
                                    "Family": "0.95152",
                                    "Health (Life Expectancy)": "0.43873",
                                    "Freedom": "0.46582",
                                    "Trust (Government Corruption)": "0.39928",
                                    "Generosity": "0.50318",
                                    "Dystopia Residual": "2.11032"
                                },
                                {
                                    "Country": "Morocco",
                                    "Region": "Middle East and Northern Africa",
                                    "Happiness Rank": "92",
                                    "Happiness Score": "5.013",
                                    "Standard Error": "0.0342",
                                    "Economy (GDP per Capita)": "0.73479",
                                    "Family": "0.64095",
                                    "Health (Life Expectancy)": "0.60954",
                                    "Freedom": "0.41691",
                                    "Trust (Government Corruption)": "0.08546",
                                    "Generosity": "0.07172",
                                    "Dystopia Residual": "2.45373"
                                },
                                {
                                    "Country": "Macedonia",
                                    "Region": "Central and Eastern Europe",
                                    "Happiness Rank": "93",
                                    "Happiness Score": "5.007",
                                    "Standard Error": "0.05376",
                                    "Economy (GDP per Capita)": "0.91851",
                                    "Family": "1.00232",
                                    "Health (Life Expectancy)": "0.73545",
                                    "Freedom": "0.33457",
                                    "Trust (Government Corruption)": "0.05327",
                                    "Generosity": "0.22359",
                                    "Dystopia Residual": "1.73933"
                                },
                                {
                                    "Country": "Mozambique",
                                    "Region": "Sub-Saharan Africa",
                                    "Happiness Rank": "94",
                                    "Happiness Score": "4.971",
                                    "Standard Error": "0.07896",
                                    "Economy (GDP per Capita)": "0.08308",
                                    "Family": "1.02626",
                                    "Health (Life Expectancy)": "0.09131",
                                    "Freedom": "0.34037",
                                    "Trust (Government Corruption)": "0.15603",
                                    "Generosity": "0.22269",
                                    "Dystopia Residual": "3.05137"
                                },
                                {
                                    "Country": "Albania",
                                    "Region": "Central and Eastern Europe",
                                    "Happiness Rank": "95",
                                    "Happiness Score": "4.959",
                                    "Standard Error": "0.05013",
                                    "Economy (GDP per Capita)": "0.87867",
                                    "Family": "0.80434",
                                    "Health (Life Expectancy)": "0.81325",
                                    "Freedom": "0.35733",
                                    "Trust (Government Corruption)": "0.06413",
                                    "Generosity": "0.14272",
                                    "Dystopia Residual": "1.89894"
                                },
                                {
                                    "Country": "Bosnia and Herzegovina",
                                    "Region": "Central and Eastern Europe",
                                    "Happiness Rank": "96",
                                    "Happiness Score": "4.949",
                                    "Standard Error": "0.06913",
                                    "Economy (GDP per Capita)": "0.83223",
                                    "Family": "0.91916",
                                    "Health (Life Expectancy)": "0.79081",
                                    "Freedom": "0.09245",
                                    "Trust (Government Corruption)": "0.00227",
                                    "Generosity": "0.24808",
                                    "Dystopia Residual": "2.06367"
                                },
                                {
                                    "Country": "Lesotho",
                                    "Region": "Sub-Saharan Africa",
                                    "Happiness Rank": "97",
                                    "Happiness Score": "4.898",
                                    "Standard Error": "0.09438",
                                    "Economy (GDP per Capita)": "0.37545",
                                    "Family": "1.04103",
                                    "Health (Life Expectancy)": "0.07612",
                                    "Freedom": "0.31767",
                                    "Trust (Government Corruption)": "0.12504",
                                    "Generosity": "0.16388",
                                    "Dystopia Residual": "2.79832"
                                },
                                {
                                    "Country": "Dominican Republic",
                                    "Region": "Latin America and Caribbean",
                                    "Happiness Rank": "98",
                                    "Happiness Score": "4.885",
                                    "Standard Error": "0.07446",
                                    "Economy (GDP per Capita)": "0.89537",
                                    "Family": "1.17202",
                                    "Health (Life Expectancy)": "0.66825",
                                    "Freedom": "0.57672",
                                    "Trust (Government Corruption)": "0.14234",
                                    "Generosity": "0.21684",
                                    "Dystopia Residual": "1.21305"
                                },
                                {
                                    "Country": "Laos",
                                    "Region": "Southeastern Asia",
                                    "Happiness Rank": "99",
                                    "Happiness Score": "4.876",
                                    "Standard Error": "0.06698",
                                    "Economy (GDP per Capita)": "0.59066",
                                    "Family": "0.73803",
                                    "Health (Life Expectancy)": "0.54909",
                                    "Freedom": "0.59591",
                                    "Trust (Government Corruption)": "0.24249",
                                    "Generosity": "0.42192",
                                    "Dystopia Residual": "1.73799"
                                },
                                {
                                    "Country": "Mongolia",
                                    "Region": "Eastern Asia",
                                    "Happiness Rank": "100",
                                    "Happiness Score": "4.874",
                                    "Standard Error": "0.03313",
                                    "Economy (GDP per Capita)": "0.82819",
                                    "Family": "1.3006",
                                    "Health (Life Expectancy)": "0.60268",
                                    "Freedom": "0.43626",
                                    "Trust (Government Corruption)": "0.02666",
                                    "Generosity": "0.3323",
                                    "Dystopia Residual": "1.34759"
                                },
                                {
                                    "Country": "Swaziland",
                                    "Region": "Sub-Saharan Africa",
                                    "Happiness Rank": "101",
                                    "Happiness Score": "4.867",
                                    "Standard Error": "0.08742",
                                    "Economy (GDP per Capita)": "0.71206",
                                    "Family": "1.07284",
                                    "Health (Life Expectancy)": "0.07566",
                                    "Freedom": "0.30658",
                                    "Trust (Government Corruption)": "0.0306",
                                    "Generosity": "0.18259",
                                    "Dystopia Residual": "2.48676"
                                },
                                {
                                    "Country": "Greece",
                                    "Region": "Western Europe",
                                    "Happiness Rank": "102",
                                    "Happiness Score": "4.857",
                                    "Standard Error": "0.05062",
                                    "Economy (GDP per Capita)": "1.15406",
                                    "Family": "0.92933",
                                    "Health (Life Expectancy)": "0.88213",
                                    "Freedom": "0.07699",
                                    "Trust (Government Corruption)": "0.01397",
                                    "Generosity": "0",
                                    "Dystopia Residual": "1.80101"
                                },
                                {
                                    "Country": "Lebanon",
                                    "Region": "Middle East and Northern Africa",
                                    "Happiness Rank": "103",
                                    "Happiness Score": "4.839",
                                    "Standard Error": "0.04337",
                                    "Economy (GDP per Capita)": "1.02564",
                                    "Family": "0.80001",
                                    "Health (Life Expectancy)": "0.83947",
                                    "Freedom": "0.33916",
                                    "Trust (Government Corruption)": "0.04582",
                                    "Generosity": "0.21854",
                                    "Dystopia Residual": "1.57059"
                                },
                                {
                                    "Country": "Hungary",
                                    "Region": "Central and Eastern Europe",
                                    "Happiness Rank": "104",
                                    "Happiness Score": "4.8",
                                    "Standard Error": "0.06107",
                                    "Economy (GDP per Capita)": "1.12094",
                                    "Family": "1.20215",
                                    "Health (Life Expectancy)": "0.75905",
                                    "Freedom": "0.32112",
                                    "Trust (Government Corruption)": "0.02758",
                                    "Generosity": "0.128",
                                    "Dystopia Residual": "1.24074"
                                },
                                {
                                    "Country": "Honduras",
                                    "Region": "Latin America and Caribbean",
                                    "Happiness Rank": "105",
                                    "Happiness Score": "4.788",
                                    "Standard Error": "0.05648",
                                    "Economy (GDP per Capita)": "0.59532",
                                    "Family": "0.95348",
                                    "Health (Life Expectancy)": "0.6951",
                                    "Freedom": "0.40148",
                                    "Trust (Government Corruption)": "0.06825",
                                    "Generosity": "0.23027",
                                    "Dystopia Residual": "1.84408"
                                },
                                {
                                    "Country": "Tajikistan",
                                    "Region": "Central and Eastern Europe",
                                    "Happiness Rank": "106",
                                    "Happiness Score": "4.786",
                                    "Standard Error": "0.03198",
                                    "Economy (GDP per Capita)": "0.39047",
                                    "Family": "0.85563",
                                    "Health (Life Expectancy)": "0.57379",
                                    "Freedom": "0.47216",
                                    "Trust (Government Corruption)": "0.15072",
                                    "Generosity": "0.22974",
                                    "Dystopia Residual": "2.11399"
                                },
                                {
                                    "Country": "Tunisia",
                                    "Region": "Middle East and Northern Africa",
                                    "Happiness Rank": "107",
                                    "Happiness Score": "4.739",
                                    "Standard Error": "0.03589",
                                    "Economy (GDP per Capita)": "0.88113",
                                    "Family": "0.60429",
                                    "Health (Life Expectancy)": "0.73793",
                                    "Freedom": "0.26268",
                                    "Trust (Government Corruption)": "0.06358",
                                    "Generosity": "0.06431",
                                    "Dystopia Residual": "2.12466"
                                },
                                {
                                    "Country": "Palestinian Territories",
                                    "Region": "Middle East and Northern Africa",
                                    "Happiness Rank": "108",
                                    "Happiness Score": "4.715",
                                    "Standard Error": "0.04394",
                                    "Economy (GDP per Capita)": "0.59867",
                                    "Family": "0.92558",
                                    "Health (Life Expectancy)": "0.66015",
                                    "Freedom": "0.24499",
                                    "Trust (Government Corruption)": "0.12905",
                                    "Generosity": "0.11251",
                                    "Dystopia Residual": "2.04384"
                                },
                                {
                                    "Country": "Bangladesh",
                                    "Region": "Southern Asia",
                                    "Happiness Rank": "109",
                                    "Happiness Score": "4.694",
                                    "Standard Error": "0.03077",
                                    "Economy (GDP per Capita)": "0.39753",
                                    "Family": "0.43106",
                                    "Health (Life Expectancy)": "0.60164",
                                    "Freedom": "0.4082",
                                    "Trust (Government Corruption)": "0.12569",
                                    "Generosity": "0.21222",
                                    "Dystopia Residual": "2.51767"
                                },
                                {
                                    "Country": "Iran",
                                    "Region": "Middle East and Northern Africa",
                                    "Happiness Rank": "110",
                                    "Happiness Score": "4.686",
                                    "Standard Error": "0.04449",
                                    "Economy (GDP per Capita)": "1.0088",
                                    "Family": "0.54447",
                                    "Health (Life Expectancy)": "0.69805",
                                    "Freedom": "0.30033",
                                    "Trust (Government Corruption)": "0.05863",
                                    "Generosity": "0.38086",
                                    "Dystopia Residual": "1.6944"
                                },
                                {
                                    "Country": "Ukraine",
                                    "Region": "Central and Eastern Europe",
                                    "Happiness Rank": "111",
                                    "Happiness Score": "4.681",
                                    "Standard Error": "0.04412",
                                    "Economy (GDP per Capita)": "0.79907",
                                    "Family": "1.20278",
                                    "Health (Life Expectancy)": "0.6739",
                                    "Freedom": "0.25123",
                                    "Trust (Government Corruption)": "0.02961",
                                    "Generosity": "0.15275",
                                    "Dystopia Residual": "1.5714"
                                },
                                {
                                    "Country": "Iraq",
                                    "Region": "Middle East and Northern Africa",
                                    "Happiness Rank": "112",
                                    "Happiness Score": "4.677",
                                    "Standard Error": "0.05232",
                                    "Economy (GDP per Capita)": "0.98549",
                                    "Family": "0.81889",
                                    "Health (Life Expectancy)": "0.60237",
                                    "Freedom": "0",
                                    "Trust (Government Corruption)": "0.13788",
                                    "Generosity": "0.17922",
                                    "Dystopia Residual": "1.95335"
                                },
                                {
                                    "Country": "South Africa",
                                    "Region": "Sub-Saharan Africa",
                                    "Happiness Rank": "113",
                                    "Happiness Score": "4.642",
                                    "Standard Error": "0.04585",
                                    "Economy (GDP per Capita)": "0.92049",
                                    "Family": "1.18468",
                                    "Health (Life Expectancy)": "0.27688",
                                    "Freedom": "0.33207",
                                    "Trust (Government Corruption)": "0.08884",
                                    "Generosity": "0.11973",
                                    "Dystopia Residual": "1.71956"
                                },
                                {
                                    "Country": "Ghana",
                                    "Region": "Sub-Saharan Africa",
                                    "Happiness Rank": "114",
                                    "Happiness Score": "4.633",
                                    "Standard Error": "0.04742",
                                    "Economy (GDP per Capita)": "0.54558",
                                    "Family": "0.67954",
                                    "Health (Life Expectancy)": "0.40132",
                                    "Freedom": "0.42342",
                                    "Trust (Government Corruption)": "0.04355",
                                    "Generosity": "0.23087",
                                    "Dystopia Residual": "2.30919"
                                },
                                {
                                    "Country": "Zimbabwe",
                                    "Region": "Sub-Saharan Africa",
                                    "Happiness Rank": "115",
                                    "Happiness Score": "4.61",
                                    "Standard Error": "0.0429",
                                    "Economy (GDP per Capita)": "0.271",
                                    "Family": "1.03276",
                                    "Health (Life Expectancy)": "0.33475",
                                    "Freedom": "0.25861",
                                    "Trust (Government Corruption)": "0.08079",
                                    "Generosity": "0.18987",
                                    "Dystopia Residual": "2.44191"
                                },
                                {
                                    "Country": "Liberia",
                                    "Region": "Sub-Saharan Africa",
                                    "Happiness Rank": "116",
                                    "Happiness Score": "4.571",
                                    "Standard Error": "0.11068",
                                    "Economy (GDP per Capita)": "0.0712",
                                    "Family": "0.78968",
                                    "Health (Life Expectancy)": "0.34201",
                                    "Freedom": "0.28531",
                                    "Trust (Government Corruption)": "0.06232",
                                    "Generosity": "0.24362",
                                    "Dystopia Residual": "2.77729"
                                },
                                {
                                    "Country": "India",
                                    "Region": "Southern Asia",
                                    "Happiness Rank": "117",
                                    "Happiness Score": "4.565",
                                    "Standard Error": "0.02043",
                                    "Economy (GDP per Capita)": "0.64499",
                                    "Family": "0.38174",
                                    "Health (Life Expectancy)": "0.51529",
                                    "Freedom": "0.39786",
                                    "Trust (Government Corruption)": "0.08492",
                                    "Generosity": "0.26475",
                                    "Dystopia Residual": "2.27513"
                                },
                                {
                                    "Country": "Sudan",
                                    "Region": "Sub-Saharan Africa",
                                    "Happiness Rank": "118",
                                    "Happiness Score": "4.55",
                                    "Standard Error": "0.0674",
                                    "Economy (GDP per Capita)": "0.52107",
                                    "Family": "1.01404",
                                    "Health (Life Expectancy)": "0.36878",
                                    "Freedom": "0.10081",
                                    "Trust (Government Corruption)": "0.1466",
                                    "Generosity": "0.19062",
                                    "Dystopia Residual": "2.20857"
                                },
                                {
                                    "Country": "Haiti",
                                    "Region": "Latin America and Caribbean",
                                    "Happiness Rank": "119",
                                    "Happiness Score": "4.518",
                                    "Standard Error": "0.07331",
                                    "Economy (GDP per Capita)": "0.26673",
                                    "Family": "0.74302",
                                    "Health (Life Expectancy)": "0.38847",
                                    "Freedom": "0.24425",
                                    "Trust (Government Corruption)": "0.17175",
                                    "Generosity": "0.46187",
                                    "Dystopia Residual": "2.24173"
                                },
                                {
                                    "Country": "Congo (Kinshasa)",
                                    "Region": "Sub-Saharan Africa",
                                    "Happiness Rank": "120",
                                    "Happiness Score": "4.517",
                                    "Standard Error": "0.0368",
                                    "Economy (GDP per Capita)": "0",
                                    "Family": "1.0012",
                                    "Health (Life Expectancy)": "0.09806",
                                    "Freedom": "0.22605",
                                    "Trust (Government Corruption)": "0.07625",
                                    "Generosity": "0.24834",
                                    "Dystopia Residual": "2.86712"
                                },
                                {
                                    "Country": "Nepal",
                                    "Region": "Southern Asia",
                                    "Happiness Rank": "121",
                                    "Happiness Score": "4.514",
                                    "Standard Error": "0.03607",
                                    "Economy (GDP per Capita)": "0.35997",
                                    "Family": "0.86449",
                                    "Health (Life Expectancy)": "0.56874",
                                    "Freedom": "0.38282",
                                    "Trust (Government Corruption)": "0.05907",
                                    "Generosity": "0.32296",
                                    "Dystopia Residual": "1.95637"
                                },
                                {
                                    "Country": "Ethiopia",
                                    "Region": "Sub-Saharan Africa",
                                    "Happiness Rank": "122",
                                    "Happiness Score": "4.512",
                                    "Standard Error": "0.0378",
                                    "Economy (GDP per Capita)": "0.19073",
                                    "Family": "0.60406",
                                    "Health (Life Expectancy)": "0.44055",
                                    "Freedom": "0.4345",
                                    "Trust (Government Corruption)": "0.15048",
                                    "Generosity": "0.24325",
                                    "Dystopia Residual": "2.44876"
                                },
                                {
                                    "Country": "Sierra Leone",
                                    "Region": "Sub-Saharan Africa",
                                    "Happiness Rank": "123",
                                    "Happiness Score": "4.507",
                                    "Standard Error": "0.07068",
                                    "Economy (GDP per Capita)": "0.33024",
                                    "Family": "0.95571",
                                    "Health (Life Expectancy)": "0",
                                    "Freedom": "0.4084",
                                    "Trust (Government Corruption)": "0.08786",
                                    "Generosity": "0.21488",
                                    "Dystopia Residual": "2.51009"
                                },
                                {
                                    "Country": "Mauritania",
                                    "Region": "Sub-Saharan Africa",
                                    "Happiness Rank": "124",
                                    "Happiness Score": "4.436",
                                    "Standard Error": "0.03947",
                                    "Economy (GDP per Capita)": "0.45407",
                                    "Family": "0.86908",
                                    "Health (Life Expectancy)": "0.35874",
                                    "Freedom": "0.24232",
                                    "Trust (Government Corruption)": "0.17461",
                                    "Generosity": "0.219",
                                    "Dystopia Residual": "2.11773"
                                },
                                {
                                    "Country": "Kenya",
                                    "Region": "Sub-Saharan Africa",
                                    "Happiness Rank": "125",
                                    "Happiness Score": "4.419",
                                    "Standard Error": "0.04734",
                                    "Economy (GDP per Capita)": "0.36471",
                                    "Family": "0.99876",
                                    "Health (Life Expectancy)": "0.41435",
                                    "Freedom": "0.42215",
                                    "Trust (Government Corruption)": "0.05839",
                                    "Generosity": "0.37542",
                                    "Dystopia Residual": "1.78555"
                                },
                                {
                                    "Country": "Djibouti",
                                    "Region": "Sub-Saharan Africa",
                                    "Happiness Rank": "126",
                                    "Happiness Score": "4.369",
                                    "Standard Error": "0.08096",
                                    "Economy (GDP per Capita)": "0.44025",
                                    "Family": "0.59207",
                                    "Health (Life Expectancy)": "0.36291",
                                    "Freedom": "0.46074",
                                    "Trust (Government Corruption)": "0.28105",
                                    "Generosity": "0.18093",
                                    "Dystopia Residual": "2.05125"
                                },
                                {
                                    "Country": "Armenia",
                                    "Region": "Central and Eastern Europe",
                                    "Happiness Rank": "127",
                                    "Happiness Score": "4.35",
                                    "Standard Error": "0.04763",
                                    "Economy (GDP per Capita)": "0.76821",
                                    "Family": "0.77711",
                                    "Health (Life Expectancy)": "0.7299",
                                    "Freedom": "0.19847",
                                    "Trust (Government Corruption)": "0.039",
                                    "Generosity": "0.07855",
                                    "Dystopia Residual": "1.75873"
                                },
                                {
                                    "Country": "Botswana",
                                    "Region": "Sub-Saharan Africa",
                                    "Happiness Rank": "128",
                                    "Happiness Score": "4.332",
                                    "Standard Error": "0.04934",
                                    "Economy (GDP per Capita)": "0.99355",
                                    "Family": "1.10464",
                                    "Health (Life Expectancy)": "0.04776",
                                    "Freedom": "0.49495",
                                    "Trust (Government Corruption)": "0.12474",
                                    "Generosity": "0.10461",
                                    "Dystopia Residual": "1.46181"
                                },
                                {
                                    "Country": "Myanmar",
                                    "Region": "Southeastern Asia",
                                    "Happiness Rank": "129",
                                    "Happiness Score": "4.307",
                                    "Standard Error": "0.04351",
                                    "Economy (GDP per Capita)": "0.27108",
                                    "Family": "0.70905",
                                    "Health (Life Expectancy)": "0.48246",
                                    "Freedom": "0.44017",
                                    "Trust (Government Corruption)": "0.19034",
                                    "Generosity": "0.79588",
                                    "Dystopia Residual": "1.41805"
                                },
                                {
                                    "Country": "Georgia",
                                    "Region": "Central and Eastern Europe",
                                    "Happiness Rank": "130",
                                    "Happiness Score": "4.297",
                                    "Standard Error": "0.04221",
                                    "Economy (GDP per Capita)": "0.7419",
                                    "Family": "0.38562",
                                    "Health (Life Expectancy)": "0.72926",
                                    "Freedom": "0.40577",
                                    "Trust (Government Corruption)": "0.38331",
                                    "Generosity": "0.05547",
                                    "Dystopia Residual": "1.59541"
                                },
                                {
                                    "Country": "Malawi",
                                    "Region": "Sub-Saharan Africa",
                                    "Happiness Rank": "131",
                                    "Happiness Score": "4.292",
                                    "Standard Error": "0.0613",
                                    "Economy (GDP per Capita)": "0.01604",
                                    "Family": "0.41134",
                                    "Health (Life Expectancy)": "0.22562",
                                    "Freedom": "0.43054",
                                    "Trust (Government Corruption)": "0.06977",
                                    "Generosity": "0.33128",
                                    "Dystopia Residual": "2.80791"
                                },
                                {
                                    "Country": "Sri Lanka",
                                    "Region": "Southern Asia",
                                    "Happiness Rank": "132",
                                    "Happiness Score": "4.271",
                                    "Standard Error": "0.03751",
                                    "Economy (GDP per Capita)": "0.83524",
                                    "Family": "1.01905",
                                    "Health (Life Expectancy)": "0.70806",
                                    "Freedom": "0.53726",
                                    "Trust (Government Corruption)": "0.09179",
                                    "Generosity": "0.40828",
                                    "Dystopia Residual": "0.67108"
                                },
                                {
                                    "Country": "Cameroon",
                                    "Region": "Sub-Saharan Africa",
                                    "Happiness Rank": "133",
                                    "Happiness Score": "4.252",
                                    "Standard Error": "0.04678",
                                    "Economy (GDP per Capita)": "0.4225",
                                    "Family": "0.88767",
                                    "Health (Life Expectancy)": "0.23402",
                                    "Freedom": "0.49309",
                                    "Trust (Government Corruption)": "0.05786",
                                    "Generosity": "0.20618",
                                    "Dystopia Residual": "1.95071"
                                },
                                {
                                    "Country": "Bulgaria",
                                    "Region": "Central and Eastern Europe",
                                    "Happiness Rank": "134",
                                    "Happiness Score": "4.218",
                                    "Standard Error": "0.04828",
                                    "Economy (GDP per Capita)": "1.01216",
                                    "Family": "1.10614",
                                    "Health (Life Expectancy)": "0.76649",
                                    "Freedom": "0.30587",
                                    "Trust (Government Corruption)": "0.00872",
                                    "Generosity": "0.11921",
                                    "Dystopia Residual": "0.89991"
                                },
                                {
                                    "Country": "Egypt",
                                    "Region": "Middle East and Northern Africa",
                                    "Happiness Rank": "135",
                                    "Happiness Score": "4.194",
                                    "Standard Error": "0.0326",
                                    "Economy (GDP per Capita)": "0.8818",
                                    "Family": "0.747",
                                    "Health (Life Expectancy)": "0.61712",
                                    "Freedom": "0.17288",
                                    "Trust (Government Corruption)": "0.06324",
                                    "Generosity": "0.11291",
                                    "Dystopia Residual": "1.59927"
                                },
                                {
                                    "Country": "Yemen",
                                    "Region": "Middle East and Northern Africa",
                                    "Happiness Rank": "136",
                                    "Happiness Score": "4.077",
                                    "Standard Error": "0.04367",
                                    "Economy (GDP per Capita)": "0.54649",
                                    "Family": "0.68093",
                                    "Health (Life Expectancy)": "0.40064",
                                    "Freedom": "0.35571",
                                    "Trust (Government Corruption)": "0.07854",
                                    "Generosity": "0.09131",
                                    "Dystopia Residual": "1.92313"
                                },
                                {
                                    "Country": "Angola",
                                    "Region": "Sub-Saharan Africa",
                                    "Happiness Rank": "137",
                                    "Happiness Score": "4.033",
                                    "Standard Error": "0.04758",
                                    "Economy (GDP per Capita)": "0.75778",
                                    "Family": "0.8604",
                                    "Health (Life Expectancy)": "0.16683",
                                    "Freedom": "0.10384",
                                    "Trust (Government Corruption)": "0.07122",
                                    "Generosity": "0.12344",
                                    "Dystopia Residual": "1.94939"
                                },
                                {
                                    "Country": "Mali",
                                    "Region": "Sub-Saharan Africa",
                                    "Happiness Rank": "138",
                                    "Happiness Score": "3.995",
                                    "Standard Error": "0.05602",
                                    "Economy (GDP per Capita)": "0.26074",
                                    "Family": "1.03526",
                                    "Health (Life Expectancy)": "0.20583",
                                    "Freedom": "0.38857",
                                    "Trust (Government Corruption)": "0.12352",
                                    "Generosity": "0.18798",
                                    "Dystopia Residual": "1.79293"
                                },
                                {
                                    "Country": "Congo (Brazzaville)",
                                    "Region": "Sub-Saharan Africa",
                                    "Happiness Rank": "139",
                                    "Happiness Score": "3.989",
                                    "Standard Error": "0.06682",
                                    "Economy (GDP per Capita)": "0.67866",
                                    "Family": "0.6629",
                                    "Health (Life Expectancy)": "0.31051",
                                    "Freedom": "0.41466",
                                    "Trust (Government Corruption)": "0.11686",
                                    "Generosity": "0.12388",
                                    "Dystopia Residual": "1.68135"
                                },
                                {
                                    "Country": "Comoros",
                                    "Region": "Sub-Saharan Africa",
                                    "Happiness Rank": "140",
                                    "Happiness Score": "3.956",
                                    "Standard Error": "0.04797",
                                    "Economy (GDP per Capita)": "0.23906",
                                    "Family": "0.79273",
                                    "Health (Life Expectancy)": "0.36315",
                                    "Freedom": "0.22917",
                                    "Trust (Government Corruption)": "0.199",
                                    "Generosity": "0.17441",
                                    "Dystopia Residual": "1.95812"
                                },
                                {
                                    "Country": "Uganda",
                                    "Region": "Sub-Saharan Africa",
                                    "Happiness Rank": "141",
                                    "Happiness Score": "3.931",
                                    "Standard Error": "0.04317",
                                    "Economy (GDP per Capita)": "0.21102",
                                    "Family": "1.13299",
                                    "Health (Life Expectancy)": "0.33861",
                                    "Freedom": "0.45727",
                                    "Trust (Government Corruption)": "0.07267",
                                    "Generosity": "0.29066",
                                    "Dystopia Residual": "1.42766"
                                },
                                {
                                    "Country": "Senegal",
                                    "Region": "Sub-Saharan Africa",
                                    "Happiness Rank": "142",
                                    "Happiness Score": "3.904",
                                    "Standard Error": "0.03608",
                                    "Economy (GDP per Capita)": "0.36498",
                                    "Family": "0.97619",
                                    "Health (Life Expectancy)": "0.4354",
                                    "Freedom": "0.36772",
                                    "Trust (Government Corruption)": "0.10713",
                                    "Generosity": "0.20843",
                                    "Dystopia Residual": "1.44395"
                                },
                                {
                                    "Country": "Gabon",
                                    "Region": "Sub-Saharan Africa",
                                    "Happiness Rank": "143",
                                    "Happiness Score": "3.896",
                                    "Standard Error": "0.04547",
                                    "Economy (GDP per Capita)": "1.06024",
                                    "Family": "0.90528",
                                    "Health (Life Expectancy)": "0.43372",
                                    "Freedom": "0.31914",
                                    "Trust (Government Corruption)": "0.11091",
                                    "Generosity": "0.06822",
                                    "Dystopia Residual": "0.99895"
                                },
                                {
                                    "Country": "Niger",
                                    "Region": "Sub-Saharan Africa",
                                    "Happiness Rank": "144",
                                    "Happiness Score": "3.845",
                                    "Standard Error": "0.03602",
                                    "Economy (GDP per Capita)": "0.0694",
                                    "Family": "0.77265",
                                    "Health (Life Expectancy)": "0.29707",
                                    "Freedom": "0.47692",
                                    "Trust (Government Corruption)": "0.15639",
                                    "Generosity": "0.19387",
                                    "Dystopia Residual": "1.87877"
                                },
                                {
                                    "Country": "Cambodia",
                                    "Region": "Southeastern Asia",
                                    "Happiness Rank": "145",
                                    "Happiness Score": "3.819",
                                    "Standard Error": "0.05069",
                                    "Economy (GDP per Capita)": "0.46038",
                                    "Family": "0.62736",
                                    "Health (Life Expectancy)": "0.61114",
                                    "Freedom": "0.66246",
                                    "Trust (Government Corruption)": "0.07247",
                                    "Generosity": "0.40359",
                                    "Dystopia Residual": "0.98195"
                                },
                                {
                                    "Country": "Tanzania",
                                    "Region": "Sub-Saharan Africa",
                                    "Happiness Rank": "146",
                                    "Happiness Score": "3.781",
                                    "Standard Error": "0.05061",
                                    "Economy (GDP per Capita)": "0.2852",
                                    "Family": "1.00268",
                                    "Health (Life Expectancy)": "0.38215",
                                    "Freedom": "0.32878",
                                    "Trust (Government Corruption)": "0.05747",
                                    "Generosity": "0.34377",
                                    "Dystopia Residual": "1.38079"
                                },
                                {
                                    "Country": "Madagascar",
                                    "Region": "Sub-Saharan Africa",
                                    "Happiness Rank": "147",
                                    "Happiness Score": "3.681",
                                    "Standard Error": "0.03633",
                                    "Economy (GDP per Capita)": "0.20824",
                                    "Family": "0.66801",
                                    "Health (Life Expectancy)": "0.46721",
                                    "Freedom": "0.19184",
                                    "Trust (Government Corruption)": "0.08124",
                                    "Generosity": "0.21333",
                                    "Dystopia Residual": "1.851"
                                },
                                {
                                    "Country": "Central African Republic",
                                    "Region": "Sub-Saharan Africa",
                                    "Happiness Rank": "148",
                                    "Happiness Score": "3.678",
                                    "Standard Error": "0.06112",
                                    "Economy (GDP per Capita)": "0.0785",
                                    "Family": "0",
                                    "Health (Life Expectancy)": "0.06699",
                                    "Freedom": "0.48879",
                                    "Trust (Government Corruption)": "0.08289",
                                    "Generosity": "0.23835",
                                    "Dystopia Residual": "2.7223"
                                },
                                {
                                    "Country": "Chad",
                                    "Region": "Sub-Saharan Africa",
                                    "Happiness Rank": "149",
                                    "Happiness Score": "3.667",
                                    "Standard Error": "0.0383",
                                    "Economy (GDP per Capita)": "0.34193",
                                    "Family": "0.76062",
                                    "Health (Life Expectancy)": "0.1501",
                                    "Freedom": "0.23501",
                                    "Trust (Government Corruption)": "0.05269",
                                    "Generosity": "0.18386",
                                    "Dystopia Residual": "1.94296"
                                },
                                {
                                    "Country": "Guinea",
                                    "Region": "Sub-Saharan Africa",
                                    "Happiness Rank": "150",
                                    "Happiness Score": "3.656",
                                    "Standard Error": "0.0359",
                                    "Economy (GDP per Capita)": "0.17417",
                                    "Family": "0.46475",
                                    "Health (Life Expectancy)": "0.24009",
                                    "Freedom": "0.37725",
                                    "Trust (Government Corruption)": "0.12139",
                                    "Generosity": "0.28657",
                                    "Dystopia Residual": "1.99172"
                                },
                                {
                                    "Country": "Ivory Coast",
                                    "Region": "Sub-Saharan Africa",
                                    "Happiness Rank": "151",
                                    "Happiness Score": "3.655",
                                    "Standard Error": "0.05141",
                                    "Economy (GDP per Capita)": "0.46534",
                                    "Family": "0.77115",
                                    "Health (Life Expectancy)": "0.15185",
                                    "Freedom": "0.46866",
                                    "Trust (Government Corruption)": "0.17922",
                                    "Generosity": "0.20165",
                                    "Dystopia Residual": "1.41723"
                                },
                                {
                                    "Country": "Burkina Faso",
                                    "Region": "Sub-Saharan Africa",
                                    "Happiness Rank": "152",
                                    "Happiness Score": "3.587",
                                    "Standard Error": "0.04324",
                                    "Economy (GDP per Capita)": "0.25812",
                                    "Family": "0.85188",
                                    "Health (Life Expectancy)": "0.27125",
                                    "Freedom": "0.39493",
                                    "Trust (Government Corruption)": "0.12832",
                                    "Generosity": "0.21747",
                                    "Dystopia Residual": "1.46494"
                                },
                                {
                                    "Country": "Afghanistan",
                                    "Region": "Southern Asia",
                                    "Happiness Rank": "153",
                                    "Happiness Score": "3.575",
                                    "Standard Error": "0.03084",
                                    "Economy (GDP per Capita)": "0.31982",
                                    "Family": "0.30285",
                                    "Health (Life Expectancy)": "0.30335",
                                    "Freedom": "0.23414",
                                    "Trust (Government Corruption)": "0.09719",
                                    "Generosity": "0.3651",
                                    "Dystopia Residual": "1.9521"
                                },
                                {
                                    "Country": "Rwanda",
                                    "Region": "Sub-Saharan Africa",
                                    "Happiness Rank": "154",
                                    "Happiness Score": "3.465",
                                    "Standard Error": "0.03464",
                                    "Economy (GDP per Capita)": "0.22208",
                                    "Family": "0.7737",
                                    "Health (Life Expectancy)": "0.42864",
                                    "Freedom": "0.59201",
                                    "Trust (Government Corruption)": "0.55191",
                                    "Generosity": "0.22628",
                                    "Dystopia Residual": "0.67042"
                                },
                                {
                                    "Country": "Benin",
                                    "Region": "Sub-Saharan Africa",
                                    "Happiness Rank": "155",
                                    "Happiness Score": "3.34",
                                    "Standard Error": "0.03656",
                                    "Economy (GDP per Capita)": "0.28665",
                                    "Family": "0.35386",
                                    "Health (Life Expectancy)": "0.3191",
                                    "Freedom": "0.4845",
                                    "Trust (Government Corruption)": "0.0801",
                                    "Generosity": "0.1826",
                                    "Dystopia Residual": "1.63328"
                                },
                                {
                                    "Country": "Syria",
                                    "Region": "Middle East and Northern Africa",
                                    "Happiness Rank": "156",
                                    "Happiness Score": "3.006",
                                    "Standard Error": "0.05015",
                                    "Economy (GDP per Capita)": "0.6632",
                                    "Family": "0.47489",
                                    "Health (Life Expectancy)": "0.72193",
                                    "Freedom": "0.15684",
                                    "Trust (Government Corruption)": "0.18906",
                                    "Generosity": "0.47179",
                                    "Dystopia Residual": "0.32858"
                                },
                                {
                                    "Country": "Burundi",
                                    "Region": "Sub-Saharan Africa",
                                    "Happiness Rank": "157",
                                    "Happiness Score": "2.905",
                                    "Standard Error": "0.08658",
                                    "Economy (GDP per Capita)": "0.0153",
                                    "Family": "0.41587",
                                    "Health (Life Expectancy)": "0.22396",
                                    "Freedom": "0.1185",
                                    "Trust (Government Corruption)": "0.10062",
                                    "Generosity": "0.19727",
                                    "Dystopia Residual": "1.83302"
                                },
                                {
                                    "Country": "Togo",
                                    "Region": "Sub-Saharan Africa",
                                    "Happiness Rank": "158",
                                    "Happiness Score": "2.839",
                                    "Standard Error": "0.06727",
                                    "Economy (GDP per Capita)": "0.20868",
                                    "Family": "0.13995",
                                    "Health (Life Expectancy)": "0.28443",
                                    "Freedom": "0.36453",
                                    "Trust (Government Corruption)": "0.10731",
                                    "Generosity": "0.16681",
                                    "Dystopia Residual": "1.56726"
                                }
                            ]
                        },
                        "text/html": [
                            "<table>",
                            "<tr><th>Country</th><th>Region</th><th>Happiness Rank</th><th>Happiness Score</th><th>Standard Error</th><th>Economy (GDP per Capita)</th><th>Family</th><th>Health (Life Expectancy)</th><th>Freedom</th><th>Trust (Government Corruption)</th><th>Generosity</th><th>Dystopia Residual</th></tr>",
                            "<tr><td>Switzerland</td><td>Western Europe</td><td>1</td><td>7.587</td><td>0.03411</td><td>1.39651</td><td>1.34951</td><td>0.94143</td><td>0.66557</td><td>0.41978</td><td>0.29678</td><td>2.51738</td></tr>",
                            "<tr><td>Iceland</td><td>Western Europe</td><td>2</td><td>7.561</td><td>0.04884</td><td>1.30232</td><td>1.40223</td><td>0.94784</td><td>0.62877</td><td>0.14145</td><td>0.4363</td><td>2.70201</td></tr>",
                            "<tr><td>Denmark</td><td>Western Europe</td><td>3</td><td>7.527</td><td>0.03328</td><td>1.32548</td><td>1.36058</td><td>0.87464</td><td>0.64938</td><td>0.48357</td><td>0.34139</td><td>2.49204</td></tr>",
                            "<tr><td>Norway</td><td>Western Europe</td><td>4</td><td>7.522</td><td>0.0388</td><td>1.459</td><td>1.33095</td><td>0.88521</td><td>0.66973</td><td>0.36503</td><td>0.34699</td><td>2.46531</td></tr>",
                            "<tr><td>Canada</td><td>North America</td><td>5</td><td>7.427</td><td>0.03553</td><td>1.32629</td><td>1.32261</td><td>0.90563</td><td>0.63297</td><td>0.32957</td><td>0.45811</td><td>2.45176</td></tr>",
                            "<tr><td>Finland</td><td>Western Europe</td><td>6</td><td>7.406</td><td>0.0314</td><td>1.29025</td><td>1.31826</td><td>0.88911</td><td>0.64169</td><td>0.41372</td><td>0.23351</td><td>2.61955</td></tr>",
                            "<tr><td>Netherlands</td><td>Western Europe</td><td>7</td><td>7.378</td><td>0.02799</td><td>1.32944</td><td>1.28017</td><td>0.89284</td><td>0.61576</td><td>0.31814</td><td>0.4761</td><td>2.4657</td></tr>",
                            "<tr><td>Sweden</td><td>Western Europe</td><td>8</td><td>7.364</td><td>0.03157</td><td>1.33171</td><td>1.28907</td><td>0.91087</td><td>0.6598</td><td>0.43844</td><td>0.36262</td><td>2.37119</td></tr>",
                            "<tr><td>New Zealand</td><td>Australia and New Zealand</td><td>9</td><td>7.286</td><td>0.03371</td><td>1.25018</td><td>1.31967</td><td>0.90837</td><td>0.63938</td><td>0.42922</td><td>0.47501</td><td>2.26425</td></tr>",
                            "<tr><td>Australia</td><td>Australia and New Zealand</td><td>10</td><td>7.284</td><td>0.04083</td><td>1.33358</td><td>1.30923</td><td>0.93156</td><td>0.65124</td><td>0.35637</td><td>0.43562</td><td>2.26646</td></tr>",
                            "<tr><td>Israel</td><td>Middle East and Northern Africa</td><td>11</td><td>7.278</td><td>0.0347</td><td>1.22857</td><td>1.22393</td><td>0.91387</td><td>0.41319</td><td>0.07785</td><td>0.33172</td><td>3.08854</td></tr>",
                            "<tr><td>Costa Rica</td><td>Latin America and Caribbean</td><td>12</td><td>7.226</td><td>0.04454</td><td>0.95578</td><td>1.23788</td><td>0.86027</td><td>0.63376</td><td>0.10583</td><td>0.25497</td><td>3.17728</td></tr>",
                            "<tr><td>Austria</td><td>Western Europe</td><td>13</td><td>7.2</td><td>0.03751</td><td>1.33723</td><td>1.29704</td><td>0.89042</td><td>0.62433</td><td>0.18676</td><td>0.33088</td><td>2.5332</td></tr>",
                            "<tr><td>Mexico</td><td>Latin America and Caribbean</td><td>14</td><td>7.187</td><td>0.04176</td><td>1.02054</td><td>0.91451</td><td>0.81444</td><td>0.48181</td><td>0.21312</td><td>0.14074</td><td>3.60214</td></tr>",
                            "<tr><td>United States</td><td>North America</td><td>15</td><td>7.119</td><td>0.03839</td><td>1.39451</td><td>1.24711</td><td>0.86179</td><td>0.54604</td><td>0.1589</td><td>0.40105</td><td>2.51011</td></tr>",
                            "<tr><td>Brazil</td><td>Latin America and Caribbean</td><td>16</td><td>6.983</td><td>0.04076</td><td>0.98124</td><td>1.23287</td><td>0.69702</td><td>0.49049</td><td>0.17521</td><td>0.14574</td><td>3.26001</td></tr>",
                            "<tr><td>Luxembourg</td><td>Western Europe</td><td>17</td><td>6.946</td><td>0.03499</td><td>1.56391</td><td>1.21963</td><td>0.91894</td><td>0.61583</td><td>0.37798</td><td>0.28034</td><td>1.96961</td></tr>",
                            "<tr><td>Ireland</td><td>Western Europe</td><td>18</td><td>6.94</td><td>0.03676</td><td>1.33596</td><td>1.36948</td><td>0.89533</td><td>0.61777</td><td>0.28703</td><td>0.45901</td><td>1.9757</td></tr>",
                            "<tr><td>Belgium</td><td>Western Europe</td><td>19</td><td>6.937</td><td>0.03595</td><td>1.30782</td><td>1.28566</td><td>0.89667</td><td>0.5845</td><td>0.2254</td><td>0.2225</td><td>2.41484</td></tr>",
                            "<tr><td>United Arab Emirates</td><td>Middle East and Northern Africa</td><td>20</td><td>6.901</td><td>0.03729</td><td>1.42727</td><td>1.12575</td><td>0.80925</td><td>0.64157</td><td>0.38583</td><td>0.26428</td><td>2.24743</td></tr>",
                            "<tr><td>United Kingdom</td><td>Western Europe</td><td>21</td><td>6.867</td><td>0.01866</td><td>1.26637</td><td>1.28548</td><td>0.90943</td><td>0.59625</td><td>0.32067</td><td>0.51912</td><td>1.96994</td></tr>",
                            "<tr><td>Oman</td><td>Middle East and Northern Africa</td><td>22</td><td>6.853</td><td>0.05335</td><td>1.36011</td><td>1.08182</td><td>0.76276</td><td>0.63274</td><td>0.32524</td><td>0.21542</td><td>2.47489</td></tr>",
                            "<tr><td>Venezuela</td><td>Latin America and Caribbean</td><td>23</td><td>6.81</td><td>0.06476</td><td>1.04424</td><td>1.25596</td><td>0.72052</td><td>0.42908</td><td>0.11069</td><td>0.05841</td><td>3.19131</td></tr>",
                            "<tr><td>Singapore</td><td>Southeastern Asia</td><td>24</td><td>6.798</td><td>0.0378</td><td>1.52186</td><td>1.02</td><td>1.02525</td><td>0.54252</td><td>0.4921</td><td>0.31105</td><td>1.88501</td></tr>",
                            "<tr><td>Panama</td><td>Latin America and Caribbean</td><td>25</td><td>6.786</td><td>0.0491</td><td>1.06353</td><td>1.1985</td><td>0.79661</td><td>0.5421</td><td>0.0927</td><td>0.24434</td><td>2.84848</td></tr>",
                            "<tr><td>Germany</td><td>Western Europe</td><td>26</td><td>6.75</td><td>0.01848</td><td>1.32792</td><td>1.29937</td><td>0.89186</td><td>0.61477</td><td>0.21843</td><td>0.28214</td><td>2.11569</td></tr>",
                            "<tr><td>Chile</td><td>Latin America and Caribbean</td><td>27</td><td>6.67</td><td>0.058</td><td>1.10715</td><td>1.12447</td><td>0.85857</td><td>0.44132</td><td>0.12869</td><td>0.33363</td><td>2.67585</td></tr>",
                            "<tr><td>Qatar</td><td>Middle East and Northern Africa</td><td>28</td><td>6.611</td><td>0.06257</td><td>1.69042</td><td>1.0786</td><td>0.79733</td><td>0.6404</td><td>0.52208</td><td>0.32573</td><td>1.55674</td></tr>",
                            "<tr><td>France</td><td>Western Europe</td><td>29</td><td>6.575</td><td>0.03512</td><td>1.27778</td><td>1.26038</td><td>0.94579</td><td>0.55011</td><td>0.20646</td><td>0.12332</td><td>2.21126</td></tr>",
                            "<tr><td>Argentina</td><td>Latin America and Caribbean</td><td>30</td><td>6.574</td><td>0.04612</td><td>1.05351</td><td>1.24823</td><td>0.78723</td><td>0.44974</td><td>0.08484</td><td>0.11451</td><td>2.836</td></tr>",
                            "<tr><td>Czech Republic</td><td>Central and Eastern Europe</td><td>31</td><td>6.505</td><td>0.04168</td><td>1.17898</td><td>1.20643</td><td>0.84483</td><td>0.46364</td><td>0.02652</td><td>0.10686</td><td>2.67782</td></tr>",
                            "<tr><td>Uruguay</td><td>Latin America and Caribbean</td><td>32</td><td>6.485</td><td>0.04539</td><td>1.06166</td><td>1.2089</td><td>0.8116</td><td>0.60362</td><td>0.24558</td><td>0.2324</td><td>2.32142</td></tr>",
                            "<tr><td>Colombia</td><td>Latin America and Caribbean</td><td>33</td><td>6.477</td><td>0.05051</td><td>0.91861</td><td>1.24018</td><td>0.69077</td><td>0.53466</td><td>0.0512</td><td>0.18401</td><td>2.85737</td></tr>",
                            "<tr><td>Thailand</td><td>Southeastern Asia</td><td>34</td><td>6.455</td><td>0.03557</td><td>0.9669</td><td>1.26504</td><td>0.7385</td><td>0.55664</td><td>0.03187</td><td>0.5763</td><td>2.31945</td></tr>",
                            "<tr><td>Saudi Arabia</td><td>Middle East and Northern Africa</td><td>35</td><td>6.411</td><td>0.04633</td><td>1.39541</td><td>1.08393</td><td>0.72025</td><td>0.31048</td><td>0.32524</td><td>0.13706</td><td>2.43872</td></tr>",
                            "<tr><td>Spain</td><td>Western Europe</td><td>36</td><td>6.329</td><td>0.03468</td><td>1.23011</td><td>1.31379</td><td>0.95562</td><td>0.45951</td><td>0.06398</td><td>0.18227</td><td>2.12367</td></tr>",
                            "<tr><td>Malta</td><td>Western Europe</td><td>37</td><td>6.302</td><td>0.04206</td><td>1.2074</td><td>1.30203</td><td>0.88721</td><td>0.60365</td><td>0.13586</td><td>0.51752</td><td>1.6488</td></tr>",
                            "<tr><td>Taiwan</td><td>Eastern Asia</td><td>38</td><td>6.298</td><td>0.03868</td><td>1.29098</td><td>1.07617</td><td>0.8753</td><td>0.3974</td><td>0.08129</td><td>0.25376</td><td>2.32323</td></tr>",
                            "<tr><td>Kuwait</td><td>Middle East and Northern Africa</td><td>39</td><td>6.295</td><td>0.04456</td><td>1.55422</td><td>1.16594</td><td>0.72492</td><td>0.55499</td><td>0.25609</td><td>0.16228</td><td>1.87634</td></tr>",
                            "<tr><td>Suriname</td><td>Latin America and Caribbean</td><td>40</td><td>6.269</td><td>0.09811</td><td>0.99534</td><td>0.972</td><td>0.6082</td><td>0.59657</td><td>0.13633</td><td>0.16991</td><td>2.79094</td></tr>",
                            "<tr><td>Trinidad and Tobago</td><td>Latin America and Caribbean</td><td>41</td><td>6.168</td><td>0.10895</td><td>1.21183</td><td>1.18354</td><td>0.61483</td><td>0.55884</td><td>0.0114</td><td>0.31844</td><td>2.26882</td></tr>",
                            "<tr><td>El Salvador</td><td>Latin America and Caribbean</td><td>42</td><td>6.13</td><td>0.05618</td><td>0.76454</td><td>1.02507</td><td>0.67737</td><td>0.4035</td><td>0.11776</td><td>0.10692</td><td>3.035</td></tr>",
                            "<tr><td>Guatemala</td><td>Latin America and Caribbean</td><td>43</td><td>6.123</td><td>0.05224</td><td>0.74553</td><td>1.04356</td><td>0.64425</td><td>0.57733</td><td>0.09472</td><td>0.27489</td><td>2.74255</td></tr>",
                            "<tr><td>Uzbekistan</td><td>Central and Eastern Europe</td><td>44</td><td>6.003</td><td>0.04361</td><td>0.63244</td><td>1.34043</td><td>0.59772</td><td>0.65821</td><td>0.30826</td><td>0.22837</td><td>2.23741</td></tr>",
                            "<tr><td>Slovakia</td><td>Central and Eastern Europe</td><td>45</td><td>5.995</td><td>0.04267</td><td>1.16891</td><td>1.26999</td><td>0.78902</td><td>0.31751</td><td>0.03431</td><td>0.16893</td><td>2.24639</td></tr>",
                            "<tr><td>Japan</td><td>Eastern Asia</td><td>46</td><td>5.987</td><td>0.03581</td><td>1.27074</td><td>1.25712</td><td>0.99111</td><td>0.49615</td><td>0.1806</td><td>0.10705</td><td>1.68435</td></tr>",
                            "<tr><td>South Korea</td><td>Eastern Asia</td><td>47</td><td>5.984</td><td>0.04098</td><td>1.24461</td><td>0.95774</td><td>0.96538</td><td>0.33208</td><td>0.07857</td><td>0.18557</td><td>2.21978</td></tr>",
                            "<tr><td>Ecuador</td><td>Latin America and Caribbean</td><td>48</td><td>5.975</td><td>0.04528</td><td>0.86402</td><td>0.99903</td><td>0.79075</td><td>0.48574</td><td>0.1809</td><td>0.11541</td><td>2.53942</td></tr>",
                            "<tr><td>Bahrain</td><td>Middle East and Northern Africa</td><td>49</td><td>5.96</td><td>0.05412</td><td>1.32376</td><td>1.21624</td><td>0.74716</td><td>0.45492</td><td>0.306</td><td>0.17362</td><td>1.73797</td></tr>",
                            "<tr><td>Italy</td><td>Western Europe</td><td>50</td><td>5.948</td><td>0.03914</td><td>1.25114</td><td>1.19777</td><td>0.95446</td><td>0.26236</td><td>0.02901</td><td>0.22823</td><td>2.02518</td></tr>",
                            "<tr><td>Bolivia</td><td>Latin America and Caribbean</td><td>51</td><td>5.89</td><td>0.05642</td><td>0.68133</td><td>0.97841</td><td>0.5392</td><td>0.57414</td><td>0.088</td><td>0.20536</td><td>2.82334</td></tr>",
                            "<tr><td>Moldova</td><td>Central and Eastern Europe</td><td>52</td><td>5.889</td><td>0.03799</td><td>0.59448</td><td>1.01528</td><td>0.61826</td><td>0.32818</td><td>0.01615</td><td>0.20951</td><td>3.10712</td></tr>",
                            "<tr><td>Paraguay</td><td>Latin America and Caribbean</td><td>53</td><td>5.878</td><td>0.04563</td><td>0.75985</td><td>1.30477</td><td>0.66098</td><td>0.53899</td><td>0.08242</td><td>0.3424</td><td>2.18896</td></tr>",
                            "<tr><td>Kazakhstan</td><td>Central and Eastern Europe</td><td>54</td><td>5.855</td><td>0.04114</td><td>1.12254</td><td>1.12241</td><td>0.64368</td><td>0.51649</td><td>0.08454</td><td>0.11827</td><td>2.24729</td></tr>",
                            "<tr><td>Slovenia</td><td>Central and Eastern Europe</td><td>55</td><td>5.848</td><td>0.04251</td><td>1.18498</td><td>1.27385</td><td>0.87337</td><td>0.60855</td><td>0.03787</td><td>0.25328</td><td>1.61583</td></tr>",
                            "<tr><td>Lithuania</td><td>Central and Eastern Europe</td><td>56</td><td>5.833</td><td>0.03843</td><td>1.14723</td><td>1.25745</td><td>0.73128</td><td>0.21342</td><td>0.01031</td><td>0.02641</td><td>2.44649</td></tr>",
                            "<tr><td>Nicaragua</td><td>Latin America and Caribbean</td><td>57</td><td>5.828</td><td>0.05371</td><td>0.59325</td><td>1.14184</td><td>0.74314</td><td>0.55475</td><td>0.19317</td><td>0.27815</td><td>2.32407</td></tr>",
                            "<tr><td>Peru</td><td>Latin America and Caribbean</td><td>58</td><td>5.824</td><td>0.04615</td><td>0.90019</td><td>0.97459</td><td>0.73017</td><td>0.41496</td><td>0.05989</td><td>0.14982</td><td>2.5945</td></tr>",
                            "<tr><td>Belarus</td><td>Central and Eastern Europe</td><td>59</td><td>5.813</td><td>0.03938</td><td>1.03192</td><td>1.23289</td><td>0.73608</td><td>0.37938</td><td>0.1909</td><td>0.11046</td><td>2.1309</td></tr>",
                            "<tr><td>Poland</td><td>Central and Eastern Europe</td><td>60</td><td>5.791</td><td>0.04263</td><td>1.12555</td><td>1.27948</td><td>0.77903</td><td>0.53122</td><td>0.04212</td><td>0.16759</td><td>1.86565</td></tr>",
                            "<tr><td>Malaysia</td><td>Southeastern Asia</td><td>61</td><td>5.77</td><td>0.0433</td><td>1.12486</td><td>1.07023</td><td>0.72394</td><td>0.53024</td><td>0.10501</td><td>0.33075</td><td>1.88541</td></tr>",
                            "<tr><td>Croatia</td><td>Central and Eastern Europe</td><td>62</td><td>5.759</td><td>0.04394</td><td>1.08254</td><td>0.79624</td><td>0.78805</td><td>0.25883</td><td>0.0243</td><td>0.05444</td><td>2.75414</td></tr>",
                            "<tr><td>Libya</td><td>Middle East and Northern Africa</td><td>63</td><td>5.754</td><td>0.07832</td><td>1.13145</td><td>1.11862</td><td>0.7038</td><td>0.41668</td><td>0.11023</td><td>0.18295</td><td>2.09066</td></tr>",
                            "<tr><td>Russia</td><td>Central and Eastern Europe</td><td>64</td><td>5.716</td><td>0.03135</td><td>1.13764</td><td>1.23617</td><td>0.66926</td><td>0.36679</td><td>0.03005</td><td>0.00199</td><td>2.27394</td></tr>",
                            "<tr><td>Jamaica</td><td>Latin America and Caribbean</td><td>65</td><td>5.709</td><td>0.13693</td><td>0.81038</td><td>1.15102</td><td>0.68741</td><td>0.50442</td><td>0.02299</td><td>0.2123</td><td>2.32038</td></tr>",
                            "<tr><td>North Cyprus</td><td>Western Europe</td><td>66</td><td>5.695</td><td>0.05635</td><td>1.20806</td><td>1.07008</td><td>0.92356</td><td>0.49027</td><td>0.1428</td><td>0.26169</td><td>1.59888</td></tr>",
                            "<tr><td>Cyprus</td><td>Western Europe</td><td>67</td><td>5.689</td><td>0.0558</td><td>1.20813</td><td>0.89318</td><td>0.92356</td><td>0.40672</td><td>0.06146</td><td>0.30638</td><td>1.88931</td></tr>",
                            "<tr><td>Algeria</td><td>Middle East and Northern Africa</td><td>68</td><td>5.605</td><td>0.05099</td><td>0.93929</td><td>1.07772</td><td>0.61766</td><td>0.28579</td><td>0.17383</td><td>0.07822</td><td>2.43209</td></tr>",
                            "<tr><td>Kosovo</td><td>Central and Eastern Europe</td><td>69</td><td>5.589</td><td>0.05018</td><td>0.80148</td><td>0.81198</td><td>0.63132</td><td>0.24749</td><td>0.04741</td><td>0.2831</td><td>2.76579</td></tr>",
                            "<tr><td>Turkmenistan</td><td>Central and Eastern Europe</td><td>70</td><td>5.548</td><td>0.04175</td><td>0.95847</td><td>1.22668</td><td>0.53886</td><td>0.4761</td><td>0.30844</td><td>0.16979</td><td>1.86984</td></tr>",
                            "<tr><td>Mauritius</td><td>Sub-Saharan Africa</td><td>71</td><td>5.477</td><td>0.07197</td><td>1.00761</td><td>0.98521</td><td>0.7095</td><td>0.56066</td><td>0.07521</td><td>0.37744</td><td>1.76145</td></tr>",
                            "<tr><td>Hong Kong</td><td>Eastern Asia</td><td>72</td><td>5.474</td><td>0.05051</td><td>1.38604</td><td>1.05818</td><td>1.01328</td><td>0.59608</td><td>0.37124</td><td>0.39478</td><td>0.65429</td></tr>",
                            "<tr><td>Estonia</td><td>Central and Eastern Europe</td><td>73</td><td>5.429</td><td>0.04013</td><td>1.15174</td><td>1.22791</td><td>0.77361</td><td>0.44888</td><td>0.15184</td><td>0.0868</td><td>1.58782</td></tr>",
                            "<tr><td>Indonesia</td><td>Southeastern Asia</td><td>74</td><td>5.399</td><td>0.02596</td><td>0.82827</td><td>1.08708</td><td>0.63793</td><td>0.46611</td><td>0</td><td>0.51535</td><td>1.86399</td></tr>",
                            "<tr><td>Vietnam</td><td>Southeastern Asia</td><td>75</td><td>5.36</td><td>0.03107</td><td>0.63216</td><td>0.91226</td><td>0.74676</td><td>0.59444</td><td>0.10441</td><td>0.1686</td><td>2.20173</td></tr>",
                            "<tr><td>Turkey</td><td>Middle East and Northern Africa</td><td>76</td><td>5.332</td><td>0.03864</td><td>1.06098</td><td>0.94632</td><td>0.73172</td><td>0.22815</td><td>0.15746</td><td>0.12253</td><td>2.08528</td></tr>",
                            "<tr><td>Kyrgyzstan</td><td>Central and Eastern Europe</td><td>77</td><td>5.286</td><td>0.03823</td><td>0.47428</td><td>1.15115</td><td>0.65088</td><td>0.43477</td><td>0.04232</td><td>0.3003</td><td>2.2327</td></tr>",
                            "<tr><td>Nigeria</td><td>Sub-Saharan Africa</td><td>78</td><td>5.268</td><td>0.04192</td><td>0.65435</td><td>0.90432</td><td>0.16007</td><td>0.34334</td><td>0.0403</td><td>0.27233</td><td>2.89319</td></tr>",
                            "<tr><td>Bhutan</td><td>Southern Asia</td><td>79</td><td>5.253</td><td>0.03225</td><td>0.77042</td><td>1.10395</td><td>0.57407</td><td>0.53206</td><td>0.15445</td><td>0.47998</td><td>1.63794</td></tr>",
                            "<tr><td>Azerbaijan</td><td>Central and Eastern Europe</td><td>80</td><td>5.212</td><td>0.03363</td><td>1.02389</td><td>0.93793</td><td>0.64045</td><td>0.3703</td><td>0.16065</td><td>0.07799</td><td>2.00073</td></tr>",
                            "<tr><td>Pakistan</td><td>Southern Asia</td><td>81</td><td>5.194</td><td>0.03726</td><td>0.59543</td><td>0.41411</td><td>0.51466</td><td>0.12102</td><td>0.10464</td><td>0.33671</td><td>3.10709</td></tr>",
                            "<tr><td>Jordan</td><td>Middle East and Northern Africa</td><td>82</td><td>5.192</td><td>0.04524</td><td>0.90198</td><td>1.05392</td><td>0.69639</td><td>0.40661</td><td>0.14293</td><td>0.11053</td><td>1.87996</td></tr>",
                            "<tr><td>Montenegro</td><td>Central and Eastern Europe</td><td>82</td><td>5.192</td><td>0.05235</td><td>0.97438</td><td>0.90557</td><td>0.72521</td><td>0.1826</td><td>0.14296</td><td>0.1614</td><td>2.10017</td></tr>",
                            "<tr><td>China</td><td>Eastern Asia</td><td>84</td><td>5.14</td><td>0.02424</td><td>0.89012</td><td>0.94675</td><td>0.81658</td><td>0.51697</td><td>0.02781</td><td>0.08185</td><td>1.8604</td></tr>",
                            "<tr><td>Zambia</td><td>Sub-Saharan Africa</td><td>85</td><td>5.129</td><td>0.06988</td><td>0.47038</td><td>0.91612</td><td>0.29924</td><td>0.48827</td><td>0.12468</td><td>0.19591</td><td>2.6343</td></tr>",
                            "<tr><td>Romania</td><td>Central and Eastern Europe</td><td>86</td><td>5.124</td><td>0.06607</td><td>1.04345</td><td>0.88588</td><td>0.7689</td><td>0.35068</td><td>0.00649</td><td>0.13748</td><td>1.93129</td></tr>",
                            "<tr><td>Serbia</td><td>Central and Eastern Europe</td><td>87</td><td>5.123</td><td>0.04864</td><td>0.92053</td><td>1.00964</td><td>0.74836</td><td>0.20107</td><td>0.02617</td><td>0.19231</td><td>2.025</td></tr>",
                            "<tr><td>Portugal</td><td>Western Europe</td><td>88</td><td>5.102</td><td>0.04802</td><td>1.15991</td><td>1.13935</td><td>0.87519</td><td>0.51469</td><td>0.01078</td><td>0.13719</td><td>1.26462</td></tr>",
                            "<tr><td>Latvia</td><td>Central and Eastern Europe</td><td>89</td><td>5.098</td><td>0.0464</td><td>1.11312</td><td>1.09562</td><td>0.72437</td><td>0.29671</td><td>0.06332</td><td>0.18226</td><td>1.62215</td></tr>",
                            "<tr><td>Philippines</td><td>Southeastern Asia</td><td>90</td><td>5.073</td><td>0.04934</td><td>0.70532</td><td>1.03516</td><td>0.58114</td><td>0.62545</td><td>0.12279</td><td>0.24991</td><td>1.7536</td></tr>",
                            "<tr><td>Somaliland region</td><td>Sub-Saharan Africa</td><td>91</td><td>5.057</td><td>0.06161</td><td>0.18847</td><td>0.95152</td><td>0.43873</td><td>0.46582</td><td>0.39928</td><td>0.50318</td><td>2.11032</td></tr>",
                            "<tr><td>Morocco</td><td>Middle East and Northern Africa</td><td>92</td><td>5.013</td><td>0.0342</td><td>0.73479</td><td>0.64095</td><td>0.60954</td><td>0.41691</td><td>0.08546</td><td>0.07172</td><td>2.45373</td></tr>",
                            "<tr><td>Macedonia</td><td>Central and Eastern Europe</td><td>93</td><td>5.007</td><td>0.05376</td><td>0.91851</td><td>1.00232</td><td>0.73545</td><td>0.33457</td><td>0.05327</td><td>0.22359</td><td>1.73933</td></tr>",
                            "<tr><td>Mozambique</td><td>Sub-Saharan Africa</td><td>94</td><td>4.971</td><td>0.07896</td><td>0.08308</td><td>1.02626</td><td>0.09131</td><td>0.34037</td><td>0.15603</td><td>0.22269</td><td>3.05137</td></tr>",
                            "<tr><td>Albania</td><td>Central and Eastern Europe</td><td>95</td><td>4.959</td><td>0.05013</td><td>0.87867</td><td>0.80434</td><td>0.81325</td><td>0.35733</td><td>0.06413</td><td>0.14272</td><td>1.89894</td></tr>",
                            "<tr><td>Bosnia and Herzegovina</td><td>Central and Eastern Europe</td><td>96</td><td>4.949</td><td>0.06913</td><td>0.83223</td><td>0.91916</td><td>0.79081</td><td>0.09245</td><td>0.00227</td><td>0.24808</td><td>2.06367</td></tr>",
                            "<tr><td>Lesotho</td><td>Sub-Saharan Africa</td><td>97</td><td>4.898</td><td>0.09438</td><td>0.37545</td><td>1.04103</td><td>0.07612</td><td>0.31767</td><td>0.12504</td><td>0.16388</td><td>2.79832</td></tr>",
                            "<tr><td>Dominican Republic</td><td>Latin America and Caribbean</td><td>98</td><td>4.885</td><td>0.07446</td><td>0.89537</td><td>1.17202</td><td>0.66825</td><td>0.57672</td><td>0.14234</td><td>0.21684</td><td>1.21305</td></tr>",
                            "<tr><td>Laos</td><td>Southeastern Asia</td><td>99</td><td>4.876</td><td>0.06698</td><td>0.59066</td><td>0.73803</td><td>0.54909</td><td>0.59591</td><td>0.24249</td><td>0.42192</td><td>1.73799</td></tr>",
                            "<tr><td>Mongolia</td><td>Eastern Asia</td><td>100</td><td>4.874</td><td>0.03313</td><td>0.82819</td><td>1.3006</td><td>0.60268</td><td>0.43626</td><td>0.02666</td><td>0.3323</td><td>1.34759</td></tr>",
                            "<tr><td>Swaziland</td><td>Sub-Saharan Africa</td><td>101</td><td>4.867</td><td>0.08742</td><td>0.71206</td><td>1.07284</td><td>0.07566</td><td>0.30658</td><td>0.0306</td><td>0.18259</td><td>2.48676</td></tr>",
                            "<tr><td>Greece</td><td>Western Europe</td><td>102</td><td>4.857</td><td>0.05062</td><td>1.15406</td><td>0.92933</td><td>0.88213</td><td>0.07699</td><td>0.01397</td><td>0</td><td>1.80101</td></tr>",
                            "<tr><td>Lebanon</td><td>Middle East and Northern Africa</td><td>103</td><td>4.839</td><td>0.04337</td><td>1.02564</td><td>0.80001</td><td>0.83947</td><td>0.33916</td><td>0.04582</td><td>0.21854</td><td>1.57059</td></tr>",
                            "<tr><td>Hungary</td><td>Central and Eastern Europe</td><td>104</td><td>4.8</td><td>0.06107</td><td>1.12094</td><td>1.20215</td><td>0.75905</td><td>0.32112</td><td>0.02758</td><td>0.128</td><td>1.24074</td></tr>",
                            "<tr><td>Honduras</td><td>Latin America and Caribbean</td><td>105</td><td>4.788</td><td>0.05648</td><td>0.59532</td><td>0.95348</td><td>0.6951</td><td>0.40148</td><td>0.06825</td><td>0.23027</td><td>1.84408</td></tr>",
                            "<tr><td>Tajikistan</td><td>Central and Eastern Europe</td><td>106</td><td>4.786</td><td>0.03198</td><td>0.39047</td><td>0.85563</td><td>0.57379</td><td>0.47216</td><td>0.15072</td><td>0.22974</td><td>2.11399</td></tr>",
                            "<tr><td>Tunisia</td><td>Middle East and Northern Africa</td><td>107</td><td>4.739</td><td>0.03589</td><td>0.88113</td><td>0.60429</td><td>0.73793</td><td>0.26268</td><td>0.06358</td><td>0.06431</td><td>2.12466</td></tr>",
                            "<tr><td>Palestinian Territories</td><td>Middle East and Northern Africa</td><td>108</td><td>4.715</td><td>0.04394</td><td>0.59867</td><td>0.92558</td><td>0.66015</td><td>0.24499</td><td>0.12905</td><td>0.11251</td><td>2.04384</td></tr>",
                            "<tr><td>Bangladesh</td><td>Southern Asia</td><td>109</td><td>4.694</td><td>0.03077</td><td>0.39753</td><td>0.43106</td><td>0.60164</td><td>0.4082</td><td>0.12569</td><td>0.21222</td><td>2.51767</td></tr>",
                            "<tr><td>Iran</td><td>Middle East and Northern Africa</td><td>110</td><td>4.686</td><td>0.04449</td><td>1.0088</td><td>0.54447</td><td>0.69805</td><td>0.30033</td><td>0.05863</td><td>0.38086</td><td>1.6944</td></tr>",
                            "<tr><td>Ukraine</td><td>Central and Eastern Europe</td><td>111</td><td>4.681</td><td>0.04412</td><td>0.79907</td><td>1.20278</td><td>0.6739</td><td>0.25123</td><td>0.02961</td><td>0.15275</td><td>1.5714</td></tr>",
                            "<tr><td>Iraq</td><td>Middle East and Northern Africa</td><td>112</td><td>4.677</td><td>0.05232</td><td>0.98549</td><td>0.81889</td><td>0.60237</td><td>0</td><td>0.13788</td><td>0.17922</td><td>1.95335</td></tr>",
                            "<tr><td>South Africa</td><td>Sub-Saharan Africa</td><td>113</td><td>4.642</td><td>0.04585</td><td>0.92049</td><td>1.18468</td><td>0.27688</td><td>0.33207</td><td>0.08884</td><td>0.11973</td><td>1.71956</td></tr>",
                            "<tr><td>Ghana</td><td>Sub-Saharan Africa</td><td>114</td><td>4.633</td><td>0.04742</td><td>0.54558</td><td>0.67954</td><td>0.40132</td><td>0.42342</td><td>0.04355</td><td>0.23087</td><td>2.30919</td></tr>",
                            "<tr><td>Zimbabwe</td><td>Sub-Saharan Africa</td><td>115</td><td>4.61</td><td>0.0429</td><td>0.271</td><td>1.03276</td><td>0.33475</td><td>0.25861</td><td>0.08079</td><td>0.18987</td><td>2.44191</td></tr>",
                            "<tr><td>Liberia</td><td>Sub-Saharan Africa</td><td>116</td><td>4.571</td><td>0.11068</td><td>0.0712</td><td>0.78968</td><td>0.34201</td><td>0.28531</td><td>0.06232</td><td>0.24362</td><td>2.77729</td></tr>",
                            "<tr><td>India</td><td>Southern Asia</td><td>117</td><td>4.565</td><td>0.02043</td><td>0.64499</td><td>0.38174</td><td>0.51529</td><td>0.39786</td><td>0.08492</td><td>0.26475</td><td>2.27513</td></tr>",
                            "<tr><td>Sudan</td><td>Sub-Saharan Africa</td><td>118</td><td>4.55</td><td>0.0674</td><td>0.52107</td><td>1.01404</td><td>0.36878</td><td>0.10081</td><td>0.1466</td><td>0.19062</td><td>2.20857</td></tr>",
                            "<tr><td>Haiti</td><td>Latin America and Caribbean</td><td>119</td><td>4.518</td><td>0.07331</td><td>0.26673</td><td>0.74302</td><td>0.38847</td><td>0.24425</td><td>0.17175</td><td>0.46187</td><td>2.24173</td></tr>",
                            "<tr><td>Congo (Kinshasa)</td><td>Sub-Saharan Africa</td><td>120</td><td>4.517</td><td>0.0368</td><td>0</td><td>1.0012</td><td>0.09806</td><td>0.22605</td><td>0.07625</td><td>0.24834</td><td>2.86712</td></tr>",
                            "<tr><td>Nepal</td><td>Southern Asia</td><td>121</td><td>4.514</td><td>0.03607</td><td>0.35997</td><td>0.86449</td><td>0.56874</td><td>0.38282</td><td>0.05907</td><td>0.32296</td><td>1.95637</td></tr>",
                            "<tr><td>Ethiopia</td><td>Sub-Saharan Africa</td><td>122</td><td>4.512</td><td>0.0378</td><td>0.19073</td><td>0.60406</td><td>0.44055</td><td>0.4345</td><td>0.15048</td><td>0.24325</td><td>2.44876</td></tr>",
                            "<tr><td>Sierra Leone</td><td>Sub-Saharan Africa</td><td>123</td><td>4.507</td><td>0.07068</td><td>0.33024</td><td>0.95571</td><td>0</td><td>0.4084</td><td>0.08786</td><td>0.21488</td><td>2.51009</td></tr>",
                            "<tr><td>Mauritania</td><td>Sub-Saharan Africa</td><td>124</td><td>4.436</td><td>0.03947</td><td>0.45407</td><td>0.86908</td><td>0.35874</td><td>0.24232</td><td>0.17461</td><td>0.219</td><td>2.11773</td></tr>",
                            "<tr><td>Kenya</td><td>Sub-Saharan Africa</td><td>125</td><td>4.419</td><td>0.04734</td><td>0.36471</td><td>0.99876</td><td>0.41435</td><td>0.42215</td><td>0.05839</td><td>0.37542</td><td>1.78555</td></tr>",
                            "<tr><td>Djibouti</td><td>Sub-Saharan Africa</td><td>126</td><td>4.369</td><td>0.08096</td><td>0.44025</td><td>0.59207</td><td>0.36291</td><td>0.46074</td><td>0.28105</td><td>0.18093</td><td>2.05125</td></tr>",
                            "<tr><td>Armenia</td><td>Central and Eastern Europe</td><td>127</td><td>4.35</td><td>0.04763</td><td>0.76821</td><td>0.77711</td><td>0.7299</td><td>0.19847</td><td>0.039</td><td>0.07855</td><td>1.75873</td></tr>",
                            "<tr><td>Botswana</td><td>Sub-Saharan Africa</td><td>128</td><td>4.332</td><td>0.04934</td><td>0.99355</td><td>1.10464</td><td>0.04776</td><td>0.49495</td><td>0.12474</td><td>0.10461</td><td>1.46181</td></tr>",
                            "<tr><td>Myanmar</td><td>Southeastern Asia</td><td>129</td><td>4.307</td><td>0.04351</td><td>0.27108</td><td>0.70905</td><td>0.48246</td><td>0.44017</td><td>0.19034</td><td>0.79588</td><td>1.41805</td></tr>",
                            "<tr><td>Georgia</td><td>Central and Eastern Europe</td><td>130</td><td>4.297</td><td>0.04221</td><td>0.7419</td><td>0.38562</td><td>0.72926</td><td>0.40577</td><td>0.38331</td><td>0.05547</td><td>1.59541</td></tr>",
                            "<tr><td>Malawi</td><td>Sub-Saharan Africa</td><td>131</td><td>4.292</td><td>0.0613</td><td>0.01604</td><td>0.41134</td><td>0.22562</td><td>0.43054</td><td>0.06977</td><td>0.33128</td><td>2.80791</td></tr>",
                            "<tr><td>Sri Lanka</td><td>Southern Asia</td><td>132</td><td>4.271</td><td>0.03751</td><td>0.83524</td><td>1.01905</td><td>0.70806</td><td>0.53726</td><td>0.09179</td><td>0.40828</td><td>0.67108</td></tr>",
                            "<tr><td>Cameroon</td><td>Sub-Saharan Africa</td><td>133</td><td>4.252</td><td>0.04678</td><td>0.4225</td><td>0.88767</td><td>0.23402</td><td>0.49309</td><td>0.05786</td><td>0.20618</td><td>1.95071</td></tr>",
                            "<tr><td>Bulgaria</td><td>Central and Eastern Europe</td><td>134</td><td>4.218</td><td>0.04828</td><td>1.01216</td><td>1.10614</td><td>0.76649</td><td>0.30587</td><td>0.00872</td><td>0.11921</td><td>0.89991</td></tr>",
                            "<tr><td>Egypt</td><td>Middle East and Northern Africa</td><td>135</td><td>4.194</td><td>0.0326</td><td>0.8818</td><td>0.747</td><td>0.61712</td><td>0.17288</td><td>0.06324</td><td>0.11291</td><td>1.59927</td></tr>",
                            "<tr><td>Yemen</td><td>Middle East and Northern Africa</td><td>136</td><td>4.077</td><td>0.04367</td><td>0.54649</td><td>0.68093</td><td>0.40064</td><td>0.35571</td><td>0.07854</td><td>0.09131</td><td>1.92313</td></tr>",
                            "<tr><td>Angola</td><td>Sub-Saharan Africa</td><td>137</td><td>4.033</td><td>0.04758</td><td>0.75778</td><td>0.8604</td><td>0.16683</td><td>0.10384</td><td>0.07122</td><td>0.12344</td><td>1.94939</td></tr>",
                            "<tr><td>Mali</td><td>Sub-Saharan Africa</td><td>138</td><td>3.995</td><td>0.05602</td><td>0.26074</td><td>1.03526</td><td>0.20583</td><td>0.38857</td><td>0.12352</td><td>0.18798</td><td>1.79293</td></tr>",
                            "<tr><td>Congo (Brazzaville)</td><td>Sub-Saharan Africa</td><td>139</td><td>3.989</td><td>0.06682</td><td>0.67866</td><td>0.6629</td><td>0.31051</td><td>0.41466</td><td>0.11686</td><td>0.12388</td><td>1.68135</td></tr>",
                            "<tr><td>Comoros</td><td>Sub-Saharan Africa</td><td>140</td><td>3.956</td><td>0.04797</td><td>0.23906</td><td>0.79273</td><td>0.36315</td><td>0.22917</td><td>0.199</td><td>0.17441</td><td>1.95812</td></tr>",
                            "<tr><td>Uganda</td><td>Sub-Saharan Africa</td><td>141</td><td>3.931</td><td>0.04317</td><td>0.21102</td><td>1.13299</td><td>0.33861</td><td>0.45727</td><td>0.07267</td><td>0.29066</td><td>1.42766</td></tr>",
                            "<tr><td>Senegal</td><td>Sub-Saharan Africa</td><td>142</td><td>3.904</td><td>0.03608</td><td>0.36498</td><td>0.97619</td><td>0.4354</td><td>0.36772</td><td>0.10713</td><td>0.20843</td><td>1.44395</td></tr>",
                            "<tr><td>Gabon</td><td>Sub-Saharan Africa</td><td>143</td><td>3.896</td><td>0.04547</td><td>1.06024</td><td>0.90528</td><td>0.43372</td><td>0.31914</td><td>0.11091</td><td>0.06822</td><td>0.99895</td></tr>",
                            "<tr><td>Niger</td><td>Sub-Saharan Africa</td><td>144</td><td>3.845</td><td>0.03602</td><td>0.0694</td><td>0.77265</td><td>0.29707</td><td>0.47692</td><td>0.15639</td><td>0.19387</td><td>1.87877</td></tr>",
                            "<tr><td>Cambodia</td><td>Southeastern Asia</td><td>145</td><td>3.819</td><td>0.05069</td><td>0.46038</td><td>0.62736</td><td>0.61114</td><td>0.66246</td><td>0.07247</td><td>0.40359</td><td>0.98195</td></tr>",
                            "<tr><td>Tanzania</td><td>Sub-Saharan Africa</td><td>146</td><td>3.781</td><td>0.05061</td><td>0.2852</td><td>1.00268</td><td>0.38215</td><td>0.32878</td><td>0.05747</td><td>0.34377</td><td>1.38079</td></tr>",
                            "<tr><td>Madagascar</td><td>Sub-Saharan Africa</td><td>147</td><td>3.681</td><td>0.03633</td><td>0.20824</td><td>0.66801</td><td>0.46721</td><td>0.19184</td><td>0.08124</td><td>0.21333</td><td>1.851</td></tr>",
                            "<tr><td>Central African Republic</td><td>Sub-Saharan Africa</td><td>148</td><td>3.678</td><td>0.06112</td><td>0.0785</td><td>0</td><td>0.06699</td><td>0.48879</td><td>0.08289</td><td>0.23835</td><td>2.7223</td></tr>",
                            "<tr><td>Chad</td><td>Sub-Saharan Africa</td><td>149</td><td>3.667</td><td>0.0383</td><td>0.34193</td><td>0.76062</td><td>0.1501</td><td>0.23501</td><td>0.05269</td><td>0.18386</td><td>1.94296</td></tr>",
                            "<tr><td>Guinea</td><td>Sub-Saharan Africa</td><td>150</td><td>3.656</td><td>0.0359</td><td>0.17417</td><td>0.46475</td><td>0.24009</td><td>0.37725</td><td>0.12139</td><td>0.28657</td><td>1.99172</td></tr>",
                            "<tr><td>Ivory Coast</td><td>Sub-Saharan Africa</td><td>151</td><td>3.655</td><td>0.05141</td><td>0.46534</td><td>0.77115</td><td>0.15185</td><td>0.46866</td><td>0.17922</td><td>0.20165</td><td>1.41723</td></tr>",
                            "<tr><td>Burkina Faso</td><td>Sub-Saharan Africa</td><td>152</td><td>3.587</td><td>0.04324</td><td>0.25812</td><td>0.85188</td><td>0.27125</td><td>0.39493</td><td>0.12832</td><td>0.21747</td><td>1.46494</td></tr>",
                            "<tr><td>Afghanistan</td><td>Southern Asia</td><td>153</td><td>3.575</td><td>0.03084</td><td>0.31982</td><td>0.30285</td><td>0.30335</td><td>0.23414</td><td>0.09719</td><td>0.3651</td><td>1.9521</td></tr>",
                            "<tr><td>Rwanda</td><td>Sub-Saharan Africa</td><td>154</td><td>3.465</td><td>0.03464</td><td>0.22208</td><td>0.7737</td><td>0.42864</td><td>0.59201</td><td>0.55191</td><td>0.22628</td><td>0.67042</td></tr>",
                            "<tr><td>Benin</td><td>Sub-Saharan Africa</td><td>155</td><td>3.34</td><td>0.03656</td><td>0.28665</td><td>0.35386</td><td>0.3191</td><td>0.4845</td><td>0.0801</td><td>0.1826</td><td>1.63328</td></tr>",
                            "<tr><td>Syria</td><td>Middle East and Northern Africa</td><td>156</td><td>3.006</td><td>0.05015</td><td>0.6632</td><td>0.47489</td><td>0.72193</td><td>0.15684</td><td>0.18906</td><td>0.47179</td><td>0.32858</td></tr>",
                            "<tr><td>Burundi</td><td>Sub-Saharan Africa</td><td>157</td><td>2.905</td><td>0.08658</td><td>0.0153</td><td>0.41587</td><td>0.22396</td><td>0.1185</td><td>0.10062</td><td>0.19727</td><td>1.83302</td></tr>",
                            "<tr><td>Togo</td><td>Sub-Saharan Africa</td><td>158</td><td>2.839</td><td>0.06727</td><td>0.20868</td><td>0.13995</td><td>0.28443</td><td>0.36453</td><td>0.10731</td><td>0.16681</td><td>1.56726</td></tr>",
                            "</table>"
                        ]
                    }
                }
            ],
            "execution_count": 6
        },
        {
            "cell_type": "code",
            "source": [
                "SELECT TOP 10 Country, Region, [Happiness Rank], [Happiness Score]\r\n",
                "FROM [Projects].[dbo].['2015']"
            ],
            "metadata": {
                "language": "sql",
                "azdata_cell_guid": "86e36bc9-fd09-4ed4-bb40-ba6fb90aa3d9"
            },
            "outputs": [
                {
                    "output_type": "display_data",
                    "data": {
                        "text/html": "(10 rows affected)"
                    },
                    "metadata": {}
                },
                {
                    "output_type": "display_data",
                    "data": {
                        "text/html": "Total execution time: 00:00:00.008"
                    },
                    "metadata": {}
                },
                {
                    "output_type": "execute_result",
                    "metadata": {},
                    "execution_count": 13,
                    "data": {
                        "application/vnd.dataresource+json": {
                            "schema": {
                                "fields": [
                                    {
                                        "name": "Country"
                                    },
                                    {
                                        "name": "Region"
                                    },
                                    {
                                        "name": "Happiness Rank"
                                    },
                                    {
                                        "name": "Happiness Score"
                                    }
                                ]
                            },
                            "data": [
                                {
                                    "Country": "Switzerland",
                                    "Region": "Western Europe",
                                    "Happiness Rank": "1",
                                    "Happiness Score": "7.587"
                                },
                                {
                                    "Country": "Iceland",
                                    "Region": "Western Europe",
                                    "Happiness Rank": "2",
                                    "Happiness Score": "7.561"
                                },
                                {
                                    "Country": "Denmark",
                                    "Region": "Western Europe",
                                    "Happiness Rank": "3",
                                    "Happiness Score": "7.527"
                                },
                                {
                                    "Country": "Norway",
                                    "Region": "Western Europe",
                                    "Happiness Rank": "4",
                                    "Happiness Score": "7.522"
                                },
                                {
                                    "Country": "Canada",
                                    "Region": "North America",
                                    "Happiness Rank": "5",
                                    "Happiness Score": "7.427"
                                },
                                {
                                    "Country": "Finland",
                                    "Region": "Western Europe",
                                    "Happiness Rank": "6",
                                    "Happiness Score": "7.406"
                                },
                                {
                                    "Country": "Netherlands",
                                    "Region": "Western Europe",
                                    "Happiness Rank": "7",
                                    "Happiness Score": "7.378"
                                },
                                {
                                    "Country": "Sweden",
                                    "Region": "Western Europe",
                                    "Happiness Rank": "8",
                                    "Happiness Score": "7.364"
                                },
                                {
                                    "Country": "New Zealand",
                                    "Region": "Australia and New Zealand",
                                    "Happiness Rank": "9",
                                    "Happiness Score": "7.286"
                                },
                                {
                                    "Country": "Australia",
                                    "Region": "Australia and New Zealand",
                                    "Happiness Rank": "10",
                                    "Happiness Score": "7.284"
                                }
                            ]
                        },
                        "text/html": [
                            "<table>",
                            "<tr><th>Country</th><th>Region</th><th>Happiness Rank</th><th>Happiness Score</th></tr>",
                            "<tr><td>Switzerland</td><td>Western Europe</td><td>1</td><td>7.587</td></tr>",
                            "<tr><td>Iceland</td><td>Western Europe</td><td>2</td><td>7.561</td></tr>",
                            "<tr><td>Denmark</td><td>Western Europe</td><td>3</td><td>7.527</td></tr>",
                            "<tr><td>Norway</td><td>Western Europe</td><td>4</td><td>7.522</td></tr>",
                            "<tr><td>Canada</td><td>North America</td><td>5</td><td>7.427</td></tr>",
                            "<tr><td>Finland</td><td>Western Europe</td><td>6</td><td>7.406</td></tr>",
                            "<tr><td>Netherlands</td><td>Western Europe</td><td>7</td><td>7.378</td></tr>",
                            "<tr><td>Sweden</td><td>Western Europe</td><td>8</td><td>7.364</td></tr>",
                            "<tr><td>New Zealand</td><td>Australia and New Zealand</td><td>9</td><td>7.286</td></tr>",
                            "<tr><td>Australia</td><td>Australia and New Zealand</td><td>10</td><td>7.284</td></tr>",
                            "</table>"
                        ]
                    }
                }
            ],
            "execution_count": 13
        },
        {
            "cell_type": "code",
            "source": [
                "SELECT *\r\n",
                "FROM [Projects].[dbo].['2015']\r\n",
                "WHERE [Happiness Score] > 7.0;"
            ],
            "metadata": {
                "language": "sql",
                "azdata_cell_guid": "3edc8afc-47fe-4aa3-b328-797c7668409e"
            },
            "outputs": [
                {
                    "output_type": "display_data",
                    "data": {
                        "text/html": "(15 rows affected)"
                    },
                    "metadata": {}
                },
                {
                    "output_type": "display_data",
                    "data": {
                        "text/html": "Total execution time: 00:00:00.050"
                    },
                    "metadata": {}
                },
                {
                    "output_type": "execute_result",
                    "metadata": {},
                    "execution_count": 11,
                    "data": {
                        "application/vnd.dataresource+json": {
                            "schema": {
                                "fields": [
                                    {
                                        "name": "Country"
                                    },
                                    {
                                        "name": "Region"
                                    },
                                    {
                                        "name": "Happiness Rank"
                                    },
                                    {
                                        "name": "Happiness Score"
                                    },
                                    {
                                        "name": "Standard Error"
                                    },
                                    {
                                        "name": "Economy (GDP per Capita)"
                                    },
                                    {
                                        "name": "Family"
                                    },
                                    {
                                        "name": "Health (Life Expectancy)"
                                    },
                                    {
                                        "name": "Freedom"
                                    },
                                    {
                                        "name": "Trust (Government Corruption)"
                                    },
                                    {
                                        "name": "Generosity"
                                    },
                                    {
                                        "name": "Dystopia Residual"
                                    }
                                ]
                            },
                            "data": [
                                {
                                    "Country": "Switzerland",
                                    "Region": "Western Europe",
                                    "Happiness Rank": "1",
                                    "Happiness Score": "7.587",
                                    "Standard Error": "0.03411",
                                    "Economy (GDP per Capita)": "1.39651",
                                    "Family": "1.34951",
                                    "Health (Life Expectancy)": "0.94143",
                                    "Freedom": "0.66557",
                                    "Trust (Government Corruption)": "0.41978",
                                    "Generosity": "0.29678",
                                    "Dystopia Residual": "2.51738"
                                },
                                {
                                    "Country": "Iceland",
                                    "Region": "Western Europe",
                                    "Happiness Rank": "2",
                                    "Happiness Score": "7.561",
                                    "Standard Error": "0.04884",
                                    "Economy (GDP per Capita)": "1.30232",
                                    "Family": "1.40223",
                                    "Health (Life Expectancy)": "0.94784",
                                    "Freedom": "0.62877",
                                    "Trust (Government Corruption)": "0.14145",
                                    "Generosity": "0.4363",
                                    "Dystopia Residual": "2.70201"
                                },
                                {
                                    "Country": "Denmark",
                                    "Region": "Western Europe",
                                    "Happiness Rank": "3",
                                    "Happiness Score": "7.527",
                                    "Standard Error": "0.03328",
                                    "Economy (GDP per Capita)": "1.32548",
                                    "Family": "1.36058",
                                    "Health (Life Expectancy)": "0.87464",
                                    "Freedom": "0.64938",
                                    "Trust (Government Corruption)": "0.48357",
                                    "Generosity": "0.34139",
                                    "Dystopia Residual": "2.49204"
                                },
                                {
                                    "Country": "Norway",
                                    "Region": "Western Europe",
                                    "Happiness Rank": "4",
                                    "Happiness Score": "7.522",
                                    "Standard Error": "0.0388",
                                    "Economy (GDP per Capita)": "1.459",
                                    "Family": "1.33095",
                                    "Health (Life Expectancy)": "0.88521",
                                    "Freedom": "0.66973",
                                    "Trust (Government Corruption)": "0.36503",
                                    "Generosity": "0.34699",
                                    "Dystopia Residual": "2.46531"
                                },
                                {
                                    "Country": "Canada",
                                    "Region": "North America",
                                    "Happiness Rank": "5",
                                    "Happiness Score": "7.427",
                                    "Standard Error": "0.03553",
                                    "Economy (GDP per Capita)": "1.32629",
                                    "Family": "1.32261",
                                    "Health (Life Expectancy)": "0.90563",
                                    "Freedom": "0.63297",
                                    "Trust (Government Corruption)": "0.32957",
                                    "Generosity": "0.45811",
                                    "Dystopia Residual": "2.45176"
                                },
                                {
                                    "Country": "Finland",
                                    "Region": "Western Europe",
                                    "Happiness Rank": "6",
                                    "Happiness Score": "7.406",
                                    "Standard Error": "0.0314",
                                    "Economy (GDP per Capita)": "1.29025",
                                    "Family": "1.31826",
                                    "Health (Life Expectancy)": "0.88911",
                                    "Freedom": "0.64169",
                                    "Trust (Government Corruption)": "0.41372",
                                    "Generosity": "0.23351",
                                    "Dystopia Residual": "2.61955"
                                },
                                {
                                    "Country": "Netherlands",
                                    "Region": "Western Europe",
                                    "Happiness Rank": "7",
                                    "Happiness Score": "7.378",
                                    "Standard Error": "0.02799",
                                    "Economy (GDP per Capita)": "1.32944",
                                    "Family": "1.28017",
                                    "Health (Life Expectancy)": "0.89284",
                                    "Freedom": "0.61576",
                                    "Trust (Government Corruption)": "0.31814",
                                    "Generosity": "0.4761",
                                    "Dystopia Residual": "2.4657"
                                },
                                {
                                    "Country": "Sweden",
                                    "Region": "Western Europe",
                                    "Happiness Rank": "8",
                                    "Happiness Score": "7.364",
                                    "Standard Error": "0.03157",
                                    "Economy (GDP per Capita)": "1.33171",
                                    "Family": "1.28907",
                                    "Health (Life Expectancy)": "0.91087",
                                    "Freedom": "0.6598",
                                    "Trust (Government Corruption)": "0.43844",
                                    "Generosity": "0.36262",
                                    "Dystopia Residual": "2.37119"
                                },
                                {
                                    "Country": "New Zealand",
                                    "Region": "Australia and New Zealand",
                                    "Happiness Rank": "9",
                                    "Happiness Score": "7.286",
                                    "Standard Error": "0.03371",
                                    "Economy (GDP per Capita)": "1.25018",
                                    "Family": "1.31967",
                                    "Health (Life Expectancy)": "0.90837",
                                    "Freedom": "0.63938",
                                    "Trust (Government Corruption)": "0.42922",
                                    "Generosity": "0.47501",
                                    "Dystopia Residual": "2.26425"
                                },
                                {
                                    "Country": "Australia",
                                    "Region": "Australia and New Zealand",
                                    "Happiness Rank": "10",
                                    "Happiness Score": "7.284",
                                    "Standard Error": "0.04083",
                                    "Economy (GDP per Capita)": "1.33358",
                                    "Family": "1.30923",
                                    "Health (Life Expectancy)": "0.93156",
                                    "Freedom": "0.65124",
                                    "Trust (Government Corruption)": "0.35637",
                                    "Generosity": "0.43562",
                                    "Dystopia Residual": "2.26646"
                                },
                                {
                                    "Country": "Israel",
                                    "Region": "Middle East and Northern Africa",
                                    "Happiness Rank": "11",
                                    "Happiness Score": "7.278",
                                    "Standard Error": "0.0347",
                                    "Economy (GDP per Capita)": "1.22857",
                                    "Family": "1.22393",
                                    "Health (Life Expectancy)": "0.91387",
                                    "Freedom": "0.41319",
                                    "Trust (Government Corruption)": "0.07785",
                                    "Generosity": "0.33172",
                                    "Dystopia Residual": "3.08854"
                                },
                                {
                                    "Country": "Costa Rica",
                                    "Region": "Latin America and Caribbean",
                                    "Happiness Rank": "12",
                                    "Happiness Score": "7.226",
                                    "Standard Error": "0.04454",
                                    "Economy (GDP per Capita)": "0.95578",
                                    "Family": "1.23788",
                                    "Health (Life Expectancy)": "0.86027",
                                    "Freedom": "0.63376",
                                    "Trust (Government Corruption)": "0.10583",
                                    "Generosity": "0.25497",
                                    "Dystopia Residual": "3.17728"
                                },
                                {
                                    "Country": "Austria",
                                    "Region": "Western Europe",
                                    "Happiness Rank": "13",
                                    "Happiness Score": "7.2",
                                    "Standard Error": "0.03751",
                                    "Economy (GDP per Capita)": "1.33723",
                                    "Family": "1.29704",
                                    "Health (Life Expectancy)": "0.89042",
                                    "Freedom": "0.62433",
                                    "Trust (Government Corruption)": "0.18676",
                                    "Generosity": "0.33088",
                                    "Dystopia Residual": "2.5332"
                                },
                                {
                                    "Country": "Mexico",
                                    "Region": "Latin America and Caribbean",
                                    "Happiness Rank": "14",
                                    "Happiness Score": "7.187",
                                    "Standard Error": "0.04176",
                                    "Economy (GDP per Capita)": "1.02054",
                                    "Family": "0.91451",
                                    "Health (Life Expectancy)": "0.81444",
                                    "Freedom": "0.48181",
                                    "Trust (Government Corruption)": "0.21312",
                                    "Generosity": "0.14074",
                                    "Dystopia Residual": "3.60214"
                                },
                                {
                                    "Country": "United States",
                                    "Region": "North America",
                                    "Happiness Rank": "15",
                                    "Happiness Score": "7.119",
                                    "Standard Error": "0.03839",
                                    "Economy (GDP per Capita)": "1.39451",
                                    "Family": "1.24711",
                                    "Health (Life Expectancy)": "0.86179",
                                    "Freedom": "0.54604",
                                    "Trust (Government Corruption)": "0.1589",
                                    "Generosity": "0.40105",
                                    "Dystopia Residual": "2.51011"
                                }
                            ]
                        },
                        "text/html": [
                            "<table>",
                            "<tr><th>Country</th><th>Region</th><th>Happiness Rank</th><th>Happiness Score</th><th>Standard Error</th><th>Economy (GDP per Capita)</th><th>Family</th><th>Health (Life Expectancy)</th><th>Freedom</th><th>Trust (Government Corruption)</th><th>Generosity</th><th>Dystopia Residual</th></tr>",
                            "<tr><td>Switzerland</td><td>Western Europe</td><td>1</td><td>7.587</td><td>0.03411</td><td>1.39651</td><td>1.34951</td><td>0.94143</td><td>0.66557</td><td>0.41978</td><td>0.29678</td><td>2.51738</td></tr>",
                            "<tr><td>Iceland</td><td>Western Europe</td><td>2</td><td>7.561</td><td>0.04884</td><td>1.30232</td><td>1.40223</td><td>0.94784</td><td>0.62877</td><td>0.14145</td><td>0.4363</td><td>2.70201</td></tr>",
                            "<tr><td>Denmark</td><td>Western Europe</td><td>3</td><td>7.527</td><td>0.03328</td><td>1.32548</td><td>1.36058</td><td>0.87464</td><td>0.64938</td><td>0.48357</td><td>0.34139</td><td>2.49204</td></tr>",
                            "<tr><td>Norway</td><td>Western Europe</td><td>4</td><td>7.522</td><td>0.0388</td><td>1.459</td><td>1.33095</td><td>0.88521</td><td>0.66973</td><td>0.36503</td><td>0.34699</td><td>2.46531</td></tr>",
                            "<tr><td>Canada</td><td>North America</td><td>5</td><td>7.427</td><td>0.03553</td><td>1.32629</td><td>1.32261</td><td>0.90563</td><td>0.63297</td><td>0.32957</td><td>0.45811</td><td>2.45176</td></tr>",
                            "<tr><td>Finland</td><td>Western Europe</td><td>6</td><td>7.406</td><td>0.0314</td><td>1.29025</td><td>1.31826</td><td>0.88911</td><td>0.64169</td><td>0.41372</td><td>0.23351</td><td>2.61955</td></tr>",
                            "<tr><td>Netherlands</td><td>Western Europe</td><td>7</td><td>7.378</td><td>0.02799</td><td>1.32944</td><td>1.28017</td><td>0.89284</td><td>0.61576</td><td>0.31814</td><td>0.4761</td><td>2.4657</td></tr>",
                            "<tr><td>Sweden</td><td>Western Europe</td><td>8</td><td>7.364</td><td>0.03157</td><td>1.33171</td><td>1.28907</td><td>0.91087</td><td>0.6598</td><td>0.43844</td><td>0.36262</td><td>2.37119</td></tr>",
                            "<tr><td>New Zealand</td><td>Australia and New Zealand</td><td>9</td><td>7.286</td><td>0.03371</td><td>1.25018</td><td>1.31967</td><td>0.90837</td><td>0.63938</td><td>0.42922</td><td>0.47501</td><td>2.26425</td></tr>",
                            "<tr><td>Australia</td><td>Australia and New Zealand</td><td>10</td><td>7.284</td><td>0.04083</td><td>1.33358</td><td>1.30923</td><td>0.93156</td><td>0.65124</td><td>0.35637</td><td>0.43562</td><td>2.26646</td></tr>",
                            "<tr><td>Israel</td><td>Middle East and Northern Africa</td><td>11</td><td>7.278</td><td>0.0347</td><td>1.22857</td><td>1.22393</td><td>0.91387</td><td>0.41319</td><td>0.07785</td><td>0.33172</td><td>3.08854</td></tr>",
                            "<tr><td>Costa Rica</td><td>Latin America and Caribbean</td><td>12</td><td>7.226</td><td>0.04454</td><td>0.95578</td><td>1.23788</td><td>0.86027</td><td>0.63376</td><td>0.10583</td><td>0.25497</td><td>3.17728</td></tr>",
                            "<tr><td>Austria</td><td>Western Europe</td><td>13</td><td>7.2</td><td>0.03751</td><td>1.33723</td><td>1.29704</td><td>0.89042</td><td>0.62433</td><td>0.18676</td><td>0.33088</td><td>2.5332</td></tr>",
                            "<tr><td>Mexico</td><td>Latin America and Caribbean</td><td>14</td><td>7.187</td><td>0.04176</td><td>1.02054</td><td>0.91451</td><td>0.81444</td><td>0.48181</td><td>0.21312</td><td>0.14074</td><td>3.60214</td></tr>",
                            "<tr><td>United States</td><td>North America</td><td>15</td><td>7.119</td><td>0.03839</td><td>1.39451</td><td>1.24711</td><td>0.86179</td><td>0.54604</td><td>0.1589</td><td>0.40105</td><td>2.51011</td></tr>",
                            "</table>"
                        ]
                    }
                }
            ],
            "execution_count": 11
        },
        {
            "cell_type": "markdown",
            "source": [
                "## <span style=\"color: var(--vscode-foreground);\"><b>What are the top 10 countries for each metric?</b></span>"
            ],
            "metadata": {
                "language": "sql",
                "azdata_cell_guid": "8cc4973d-4475-4e8c-9297-eb74e3e3d1ce"
            },
            "attachments": {}
        },
        {
            "cell_type": "code",
            "source": [
                "SELECT TOP 10 Country, [Happiness Rank]\r\n",
                "FROM [Projects].[dbo].['2015']\r\n",
                "ORDER BY [Happiness Rank];"
            ],
            "metadata": {
                "language": "sql",
                "azdata_cell_guid": "1fbf409a-ebb0-4f29-8454-5d623667d977"
            },
            "outputs": [
                {
                    "output_type": "display_data",
                    "data": {
                        "text/html": "(10 rows affected)"
                    },
                    "metadata": {}
                },
                {
                    "output_type": "display_data",
                    "data": {
                        "text/html": "Total execution time: 00:00:00.003"
                    },
                    "metadata": {}
                },
                {
                    "output_type": "execute_result",
                    "metadata": {},
                    "execution_count": 15,
                    "data": {
                        "application/vnd.dataresource+json": {
                            "schema": {
                                "fields": [
                                    {
                                        "name": "Country"
                                    },
                                    {
                                        "name": "Happiness Rank"
                                    }
                                ]
                            },
                            "data": [
                                {
                                    "Country": "Switzerland",
                                    "Happiness Rank": "1"
                                },
                                {
                                    "Country": "Iceland",
                                    "Happiness Rank": "2"
                                },
                                {
                                    "Country": "Denmark",
                                    "Happiness Rank": "3"
                                },
                                {
                                    "Country": "Norway",
                                    "Happiness Rank": "4"
                                },
                                {
                                    "Country": "Canada",
                                    "Happiness Rank": "5"
                                },
                                {
                                    "Country": "Finland",
                                    "Happiness Rank": "6"
                                },
                                {
                                    "Country": "Netherlands",
                                    "Happiness Rank": "7"
                                },
                                {
                                    "Country": "Sweden",
                                    "Happiness Rank": "8"
                                },
                                {
                                    "Country": "New Zealand",
                                    "Happiness Rank": "9"
                                },
                                {
                                    "Country": "Australia",
                                    "Happiness Rank": "10"
                                }
                            ]
                        },
                        "text/html": [
                            "<table>",
                            "<tr><th>Country</th><th>Happiness Rank</th></tr>",
                            "<tr><td>Switzerland</td><td>1</td></tr>",
                            "<tr><td>Iceland</td><td>2</td></tr>",
                            "<tr><td>Denmark</td><td>3</td></tr>",
                            "<tr><td>Norway</td><td>4</td></tr>",
                            "<tr><td>Canada</td><td>5</td></tr>",
                            "<tr><td>Finland</td><td>6</td></tr>",
                            "<tr><td>Netherlands</td><td>7</td></tr>",
                            "<tr><td>Sweden</td><td>8</td></tr>",
                            "<tr><td>New Zealand</td><td>9</td></tr>",
                            "<tr><td>Australia</td><td>10</td></tr>",
                            "</table>"
                        ]
                    }
                }
            ],
            "execution_count": 15
        },
        {
            "cell_type": "code",
            "source": [
                "SELECT TOP 10 Country, [Happiness Score]\r\n",
                "FROM [Projects].[dbo].['2015']\r\n",
                "ORDER BY [Happiness Score] DESC;"
            ],
            "metadata": {
                "language": "sql",
                "azdata_cell_guid": "92089e95-1c13-40c4-ad19-4f1f4fcada62",
                "tags": []
            },
            "outputs": [
                {
                    "output_type": "display_data",
                    "data": {
                        "text/html": "(10 rows affected)"
                    },
                    "metadata": {}
                },
                {
                    "output_type": "display_data",
                    "data": {
                        "text/html": "Total execution time: 00:00:00.010"
                    },
                    "metadata": {}
                },
                {
                    "output_type": "execute_result",
                    "metadata": {},
                    "execution_count": 17,
                    "data": {
                        "application/vnd.dataresource+json": {
                            "schema": {
                                "fields": [
                                    {
                                        "name": "Country"
                                    },
                                    {
                                        "name": "Happiness Score"
                                    }
                                ]
                            },
                            "data": [
                                {
                                    "Country": "Switzerland",
                                    "Happiness Score": "7.587"
                                },
                                {
                                    "Country": "Iceland",
                                    "Happiness Score": "7.561"
                                },
                                {
                                    "Country": "Denmark",
                                    "Happiness Score": "7.527"
                                },
                                {
                                    "Country": "Norway",
                                    "Happiness Score": "7.522"
                                },
                                {
                                    "Country": "Canada",
                                    "Happiness Score": "7.427"
                                },
                                {
                                    "Country": "Finland",
                                    "Happiness Score": "7.406"
                                },
                                {
                                    "Country": "Netherlands",
                                    "Happiness Score": "7.378"
                                },
                                {
                                    "Country": "Sweden",
                                    "Happiness Score": "7.364"
                                },
                                {
                                    "Country": "New Zealand",
                                    "Happiness Score": "7.286"
                                },
                                {
                                    "Country": "Australia",
                                    "Happiness Score": "7.284"
                                }
                            ]
                        },
                        "text/html": [
                            "<table>",
                            "<tr><th>Country</th><th>Happiness Score</th></tr>",
                            "<tr><td>Switzerland</td><td>7.587</td></tr>",
                            "<tr><td>Iceland</td><td>7.561</td></tr>",
                            "<tr><td>Denmark</td><td>7.527</td></tr>",
                            "<tr><td>Norway</td><td>7.522</td></tr>",
                            "<tr><td>Canada</td><td>7.427</td></tr>",
                            "<tr><td>Finland</td><td>7.406</td></tr>",
                            "<tr><td>Netherlands</td><td>7.378</td></tr>",
                            "<tr><td>Sweden</td><td>7.364</td></tr>",
                            "<tr><td>New Zealand</td><td>7.286</td></tr>",
                            "<tr><td>Australia</td><td>7.284</td></tr>",
                            "</table>"
                        ]
                    }
                }
            ],
            "execution_count": 17
        },
        {
            "cell_type": "code",
            "source": [
                "SELECT TOP 10 Country, [Economy (GDP per Capita)]\r\n",
                "FROM [Projects].[dbo].['2015']\r\n",
                "ORDER BY [Economy (GDP per Capita)] DESC;"
            ],
            "metadata": {
                "language": "sql",
                "azdata_cell_guid": "2a4893b4-642c-4f31-bfe7-8e2f3d91dd79"
            },
            "outputs": [
                {
                    "output_type": "display_data",
                    "data": {
                        "text/html": "(10 rows affected)"
                    },
                    "metadata": {}
                },
                {
                    "output_type": "display_data",
                    "data": {
                        "text/html": "Total execution time: 00:00:00.010"
                    },
                    "metadata": {}
                },
                {
                    "output_type": "execute_result",
                    "metadata": {},
                    "execution_count": 18,
                    "data": {
                        "application/vnd.dataresource+json": {
                            "schema": {
                                "fields": [
                                    {
                                        "name": "Country"
                                    },
                                    {
                                        "name": "Economy (GDP per Capita)"
                                    }
                                ]
                            },
                            "data": [
                                {
                                    "Country": "Qatar",
                                    "Economy (GDP per Capita)": "1.69042"
                                },
                                {
                                    "Country": "Luxembourg",
                                    "Economy (GDP per Capita)": "1.56391"
                                },
                                {
                                    "Country": "Kuwait",
                                    "Economy (GDP per Capita)": "1.55422"
                                },
                                {
                                    "Country": "Singapore",
                                    "Economy (GDP per Capita)": "1.52186"
                                },
                                {
                                    "Country": "Norway",
                                    "Economy (GDP per Capita)": "1.459"
                                },
                                {
                                    "Country": "United Arab Emirates",
                                    "Economy (GDP per Capita)": "1.42727"
                                },
                                {
                                    "Country": "Switzerland",
                                    "Economy (GDP per Capita)": "1.39651"
                                },
                                {
                                    "Country": "Saudi Arabia",
                                    "Economy (GDP per Capita)": "1.39541"
                                },
                                {
                                    "Country": "United States",
                                    "Economy (GDP per Capita)": "1.39451"
                                },
                                {
                                    "Country": "Hong Kong",
                                    "Economy (GDP per Capita)": "1.38604"
                                }
                            ]
                        },
                        "text/html": [
                            "<table>",
                            "<tr><th>Country</th><th>Economy (GDP per Capita)</th></tr>",
                            "<tr><td>Qatar</td><td>1.69042</td></tr>",
                            "<tr><td>Luxembourg</td><td>1.56391</td></tr>",
                            "<tr><td>Kuwait</td><td>1.55422</td></tr>",
                            "<tr><td>Singapore</td><td>1.52186</td></tr>",
                            "<tr><td>Norway</td><td>1.459</td></tr>",
                            "<tr><td>United Arab Emirates</td><td>1.42727</td></tr>",
                            "<tr><td>Switzerland</td><td>1.39651</td></tr>",
                            "<tr><td>Saudi Arabia</td><td>1.39541</td></tr>",
                            "<tr><td>United States</td><td>1.39451</td></tr>",
                            "<tr><td>Hong Kong</td><td>1.38604</td></tr>",
                            "</table>"
                        ]
                    }
                }
            ],
            "execution_count": 18
        },
        {
            "cell_type": "code",
            "source": [
                "SELECT TOP 10 Country, [Health (Life Expectancy)]\r\n",
                "FROM [Projects].[dbo].['2015']\r\n",
                "ORDER BY [Health (Life Expectancy)] DESC;"
            ],
            "metadata": {
                "language": "sql",
                "azdata_cell_guid": "8a868bc6-ca22-4d1d-a83f-57212ad4d37b"
            },
            "outputs": [
                {
                    "output_type": "display_data",
                    "data": {
                        "text/html": "(10 rows affected)"
                    },
                    "metadata": {}
                },
                {
                    "output_type": "display_data",
                    "data": {
                        "text/html": "Total execution time: 00:00:00.009"
                    },
                    "metadata": {}
                },
                {
                    "output_type": "execute_result",
                    "metadata": {},
                    "execution_count": 19,
                    "data": {
                        "application/vnd.dataresource+json": {
                            "schema": {
                                "fields": [
                                    {
                                        "name": "Country"
                                    },
                                    {
                                        "name": "Health (Life Expectancy)"
                                    }
                                ]
                            },
                            "data": [
                                {
                                    "Country": "Singapore",
                                    "Health (Life Expectancy)": "1.02525"
                                },
                                {
                                    "Country": "Hong Kong",
                                    "Health (Life Expectancy)": "1.01328"
                                },
                                {
                                    "Country": "Japan",
                                    "Health (Life Expectancy)": "0.99111"
                                },
                                {
                                    "Country": "South Korea",
                                    "Health (Life Expectancy)": "0.96538"
                                },
                                {
                                    "Country": "Spain",
                                    "Health (Life Expectancy)": "0.95562"
                                },
                                {
                                    "Country": "Italy",
                                    "Health (Life Expectancy)": "0.95446"
                                },
                                {
                                    "Country": "Iceland",
                                    "Health (Life Expectancy)": "0.94784"
                                },
                                {
                                    "Country": "France",
                                    "Health (Life Expectancy)": "0.94579"
                                },
                                {
                                    "Country": "Switzerland",
                                    "Health (Life Expectancy)": "0.94143"
                                },
                                {
                                    "Country": "Australia",
                                    "Health (Life Expectancy)": "0.93156"
                                }
                            ]
                        },
                        "text/html": [
                            "<table>",
                            "<tr><th>Country</th><th>Health (Life Expectancy)</th></tr>",
                            "<tr><td>Singapore</td><td>1.02525</td></tr>",
                            "<tr><td>Hong Kong</td><td>1.01328</td></tr>",
                            "<tr><td>Japan</td><td>0.99111</td></tr>",
                            "<tr><td>South Korea</td><td>0.96538</td></tr>",
                            "<tr><td>Spain</td><td>0.95562</td></tr>",
                            "<tr><td>Italy</td><td>0.95446</td></tr>",
                            "<tr><td>Iceland</td><td>0.94784</td></tr>",
                            "<tr><td>France</td><td>0.94579</td></tr>",
                            "<tr><td>Switzerland</td><td>0.94143</td></tr>",
                            "<tr><td>Australia</td><td>0.93156</td></tr>",
                            "</table>"
                        ]
                    }
                }
            ],
            "execution_count": 19
        },
        {
            "cell_type": "markdown",
            "source": [
                "## <span style=\"color: var(--vscode-foreground);\"><b>What are the most generous countries with the best social support?</b></span>"
            ],
            "metadata": {
                "language": "sql",
                "azdata_cell_guid": "6594e317-dc75-437e-b766-5a496fbd8752"
            },
            "attachments": {}
        },
        {
            "cell_type": "code",
            "source": [
                "SELECT TOP 10 Country, Generosity, Family\r\n",
                "FROM [Projects].[dbo].['2015']\r\n",
                "ORDER BY Generosity DESC, Family DESC;"
            ],
            "metadata": {
                "language": "sql",
                "azdata_cell_guid": "d5cf4fa1-0e2d-4b2a-801f-30d7c2998c91"
            },
            "outputs": [
                {
                    "output_type": "display_data",
                    "data": {
                        "text/html": "(10 rows affected)"
                    },
                    "metadata": {}
                },
                {
                    "output_type": "display_data",
                    "data": {
                        "text/html": "Total execution time: 00:00:00.020"
                    },
                    "metadata": {}
                },
                {
                    "output_type": "execute_result",
                    "metadata": {},
                    "execution_count": 20,
                    "data": {
                        "application/vnd.dataresource+json": {
                            "schema": {
                                "fields": [
                                    {
                                        "name": "Country"
                                    },
                                    {
                                        "name": "Generosity"
                                    },
                                    {
                                        "name": "Family"
                                    }
                                ]
                            },
                            "data": [
                                {
                                    "Country": "Myanmar",
                                    "Generosity": "0.79588",
                                    "Family": "0.70905"
                                },
                                {
                                    "Country": "Thailand",
                                    "Generosity": "0.5763",
                                    "Family": "1.26504"
                                },
                                {
                                    "Country": "United Kingdom",
                                    "Generosity": "0.51912",
                                    "Family": "1.28548"
                                },
                                {
                                    "Country": "Malta",
                                    "Generosity": "0.51752",
                                    "Family": "1.30203"
                                },
                                {
                                    "Country": "Indonesia",
                                    "Generosity": "0.51535",
                                    "Family": "1.08708"
                                },
                                {
                                    "Country": "Somaliland region",
                                    "Generosity": "0.50318",
                                    "Family": "0.95152"
                                },
                                {
                                    "Country": "Bhutan",
                                    "Generosity": "0.47998",
                                    "Family": "1.10395"
                                },
                                {
                                    "Country": "Netherlands",
                                    "Generosity": "0.4761",
                                    "Family": "1.28017"
                                },
                                {
                                    "Country": "New Zealand",
                                    "Generosity": "0.47501",
                                    "Family": "1.31967"
                                },
                                {
                                    "Country": "Syria",
                                    "Generosity": "0.47179",
                                    "Family": "0.47489"
                                }
                            ]
                        },
                        "text/html": [
                            "<table>",
                            "<tr><th>Country</th><th>Generosity</th><th>Family</th></tr>",
                            "<tr><td>Myanmar</td><td>0.79588</td><td>0.70905</td></tr>",
                            "<tr><td>Thailand</td><td>0.5763</td><td>1.26504</td></tr>",
                            "<tr><td>United Kingdom</td><td>0.51912</td><td>1.28548</td></tr>",
                            "<tr><td>Malta</td><td>0.51752</td><td>1.30203</td></tr>",
                            "<tr><td>Indonesia</td><td>0.51535</td><td>1.08708</td></tr>",
                            "<tr><td>Somaliland region</td><td>0.50318</td><td>0.95152</td></tr>",
                            "<tr><td>Bhutan</td><td>0.47998</td><td>1.10395</td></tr>",
                            "<tr><td>Netherlands</td><td>0.4761</td><td>1.28017</td></tr>",
                            "<tr><td>New Zealand</td><td>0.47501</td><td>1.31967</td></tr>",
                            "<tr><td>Syria</td><td>0.47179</td><td>0.47489</td></tr>",
                            "</table>"
                        ]
                    }
                }
            ],
            "execution_count": 20
        },
        {
            "cell_type": "markdown",
            "source": [
                "## <span style=\"color: rgb(13, 13, 13); font-family: Söhne, ui-sans-serif, system-ui, -apple-system, &quot;Segoe UI&quot;, Roboto, Ubuntu, Cantarell, &quot;Noto Sans&quot;, sans-serif, &quot;Helvetica Neue&quot;, Arial, &quot;Apple Color Emoji&quot;, &quot;Segoe UI Emoji&quot;, &quot;Segoe UI Symbol&quot;, &quot;Noto Color Emoji&quot;; font-size: 16px; white-space-collapse: preserve; background-color: rgb(255, 255, 255);\"><b>Does the perception of generosity depend on GDP per capita?</b></span>"
            ],
            "metadata": {
                "language": "sql",
                "azdata_cell_guid": "6eec4f64-26e1-447a-9b10-d79867228311"
            },
            "attachments": {}
        },
        {
            "cell_type": "code",
            "source": [
                "SELECT Generosity, [Economy (GDP per Capita)]\r\n",
                "FROM [Projects].[dbo].['2015']"
            ],
            "metadata": {
                "language": "sql",
                "azdata_cell_guid": "9ebac743-fbc0-4a08-90cb-6af1d5f439f4"
            },
            "outputs": [
                {
                    "output_type": "display_data",
                    "data": {
                        "text/html": "(158 rows affected)"
                    },
                    "metadata": {}
                },
                {
                    "output_type": "display_data",
                    "data": {
                        "text/html": "Total execution time: 00:00:00.014"
                    },
                    "metadata": {}
                },
                {
                    "output_type": "execute_result",
                    "metadata": {},
                    "execution_count": 21,
                    "data": {
                        "application/vnd.dataresource+json": {
                            "schema": {
                                "fields": [
                                    {
                                        "name": "Generosity"
                                    },
                                    {
                                        "name": "Economy (GDP per Capita)"
                                    }
                                ]
                            },
                            "data": [
                                {
                                    "Generosity": "0.29678",
                                    "Economy (GDP per Capita)": "1.39651"
                                },
                                {
                                    "Generosity": "0.4363",
                                    "Economy (GDP per Capita)": "1.30232"
                                },
                                {
                                    "Generosity": "0.34139",
                                    "Economy (GDP per Capita)": "1.32548"
                                },
                                {
                                    "Generosity": "0.34699",
                                    "Economy (GDP per Capita)": "1.459"
                                },
                                {
                                    "Generosity": "0.45811",
                                    "Economy (GDP per Capita)": "1.32629"
                                },
                                {
                                    "Generosity": "0.23351",
                                    "Economy (GDP per Capita)": "1.29025"
                                },
                                {
                                    "Generosity": "0.4761",
                                    "Economy (GDP per Capita)": "1.32944"
                                },
                                {
                                    "Generosity": "0.36262",
                                    "Economy (GDP per Capita)": "1.33171"
                                },
                                {
                                    "Generosity": "0.47501",
                                    "Economy (GDP per Capita)": "1.25018"
                                },
                                {
                                    "Generosity": "0.43562",
                                    "Economy (GDP per Capita)": "1.33358"
                                },
                                {
                                    "Generosity": "0.33172",
                                    "Economy (GDP per Capita)": "1.22857"
                                },
                                {
                                    "Generosity": "0.25497",
                                    "Economy (GDP per Capita)": "0.95578"
                                },
                                {
                                    "Generosity": "0.33088",
                                    "Economy (GDP per Capita)": "1.33723"
                                },
                                {
                                    "Generosity": "0.14074",
                                    "Economy (GDP per Capita)": "1.02054"
                                },
                                {
                                    "Generosity": "0.40105",
                                    "Economy (GDP per Capita)": "1.39451"
                                },
                                {
                                    "Generosity": "0.14574",
                                    "Economy (GDP per Capita)": "0.98124"
                                },
                                {
                                    "Generosity": "0.28034",
                                    "Economy (GDP per Capita)": "1.56391"
                                },
                                {
                                    "Generosity": "0.45901",
                                    "Economy (GDP per Capita)": "1.33596"
                                },
                                {
                                    "Generosity": "0.2225",
                                    "Economy (GDP per Capita)": "1.30782"
                                },
                                {
                                    "Generosity": "0.26428",
                                    "Economy (GDP per Capita)": "1.42727"
                                },
                                {
                                    "Generosity": "0.51912",
                                    "Economy (GDP per Capita)": "1.26637"
                                },
                                {
                                    "Generosity": "0.21542",
                                    "Economy (GDP per Capita)": "1.36011"
                                },
                                {
                                    "Generosity": "0.05841",
                                    "Economy (GDP per Capita)": "1.04424"
                                },
                                {
                                    "Generosity": "0.31105",
                                    "Economy (GDP per Capita)": "1.52186"
                                },
                                {
                                    "Generosity": "0.24434",
                                    "Economy (GDP per Capita)": "1.06353"
                                },
                                {
                                    "Generosity": "0.28214",
                                    "Economy (GDP per Capita)": "1.32792"
                                },
                                {
                                    "Generosity": "0.33363",
                                    "Economy (GDP per Capita)": "1.10715"
                                },
                                {
                                    "Generosity": "0.32573",
                                    "Economy (GDP per Capita)": "1.69042"
                                },
                                {
                                    "Generosity": "0.12332",
                                    "Economy (GDP per Capita)": "1.27778"
                                },
                                {
                                    "Generosity": "0.11451",
                                    "Economy (GDP per Capita)": "1.05351"
                                },
                                {
                                    "Generosity": "0.10686",
                                    "Economy (GDP per Capita)": "1.17898"
                                },
                                {
                                    "Generosity": "0.2324",
                                    "Economy (GDP per Capita)": "1.06166"
                                },
                                {
                                    "Generosity": "0.18401",
                                    "Economy (GDP per Capita)": "0.91861"
                                },
                                {
                                    "Generosity": "0.5763",
                                    "Economy (GDP per Capita)": "0.9669"
                                },
                                {
                                    "Generosity": "0.13706",
                                    "Economy (GDP per Capita)": "1.39541"
                                },
                                {
                                    "Generosity": "0.18227",
                                    "Economy (GDP per Capita)": "1.23011"
                                },
                                {
                                    "Generosity": "0.51752",
                                    "Economy (GDP per Capita)": "1.2074"
                                },
                                {
                                    "Generosity": "0.25376",
                                    "Economy (GDP per Capita)": "1.29098"
                                },
                                {
                                    "Generosity": "0.16228",
                                    "Economy (GDP per Capita)": "1.55422"
                                },
                                {
                                    "Generosity": "0.16991",
                                    "Economy (GDP per Capita)": "0.99534"
                                },
                                {
                                    "Generosity": "0.31844",
                                    "Economy (GDP per Capita)": "1.21183"
                                },
                                {
                                    "Generosity": "0.10692",
                                    "Economy (GDP per Capita)": "0.76454"
                                },
                                {
                                    "Generosity": "0.27489",
                                    "Economy (GDP per Capita)": "0.74553"
                                },
                                {
                                    "Generosity": "0.22837",
                                    "Economy (GDP per Capita)": "0.63244"
                                },
                                {
                                    "Generosity": "0.16893",
                                    "Economy (GDP per Capita)": "1.16891"
                                },
                                {
                                    "Generosity": "0.10705",
                                    "Economy (GDP per Capita)": "1.27074"
                                },
                                {
                                    "Generosity": "0.18557",
                                    "Economy (GDP per Capita)": "1.24461"
                                },
                                {
                                    "Generosity": "0.11541",
                                    "Economy (GDP per Capita)": "0.86402"
                                },
                                {
                                    "Generosity": "0.17362",
                                    "Economy (GDP per Capita)": "1.32376"
                                },
                                {
                                    "Generosity": "0.22823",
                                    "Economy (GDP per Capita)": "1.25114"
                                },
                                {
                                    "Generosity": "0.20536",
                                    "Economy (GDP per Capita)": "0.68133"
                                },
                                {
                                    "Generosity": "0.20951",
                                    "Economy (GDP per Capita)": "0.59448"
                                },
                                {
                                    "Generosity": "0.3424",
                                    "Economy (GDP per Capita)": "0.75985"
                                },
                                {
                                    "Generosity": "0.11827",
                                    "Economy (GDP per Capita)": "1.12254"
                                },
                                {
                                    "Generosity": "0.25328",
                                    "Economy (GDP per Capita)": "1.18498"
                                },
                                {
                                    "Generosity": "0.02641",
                                    "Economy (GDP per Capita)": "1.14723"
                                },
                                {
                                    "Generosity": "0.27815",
                                    "Economy (GDP per Capita)": "0.59325"
                                },
                                {
                                    "Generosity": "0.14982",
                                    "Economy (GDP per Capita)": "0.90019"
                                },
                                {
                                    "Generosity": "0.11046",
                                    "Economy (GDP per Capita)": "1.03192"
                                },
                                {
                                    "Generosity": "0.16759",
                                    "Economy (GDP per Capita)": "1.12555"
                                },
                                {
                                    "Generosity": "0.33075",
                                    "Economy (GDP per Capita)": "1.12486"
                                },
                                {
                                    "Generosity": "0.05444",
                                    "Economy (GDP per Capita)": "1.08254"
                                },
                                {
                                    "Generosity": "0.18295",
                                    "Economy (GDP per Capita)": "1.13145"
                                },
                                {
                                    "Generosity": "0.00199",
                                    "Economy (GDP per Capita)": "1.13764"
                                },
                                {
                                    "Generosity": "0.2123",
                                    "Economy (GDP per Capita)": "0.81038"
                                },
                                {
                                    "Generosity": "0.26169",
                                    "Economy (GDP per Capita)": "1.20806"
                                },
                                {
                                    "Generosity": "0.30638",
                                    "Economy (GDP per Capita)": "1.20813"
                                },
                                {
                                    "Generosity": "0.07822",
                                    "Economy (GDP per Capita)": "0.93929"
                                },
                                {
                                    "Generosity": "0.2831",
                                    "Economy (GDP per Capita)": "0.80148"
                                },
                                {
                                    "Generosity": "0.16979",
                                    "Economy (GDP per Capita)": "0.95847"
                                },
                                {
                                    "Generosity": "0.37744",
                                    "Economy (GDP per Capita)": "1.00761"
                                },
                                {
                                    "Generosity": "0.39478",
                                    "Economy (GDP per Capita)": "1.38604"
                                },
                                {
                                    "Generosity": "0.0868",
                                    "Economy (GDP per Capita)": "1.15174"
                                },
                                {
                                    "Generosity": "0.51535",
                                    "Economy (GDP per Capita)": "0.82827"
                                },
                                {
                                    "Generosity": "0.1686",
                                    "Economy (GDP per Capita)": "0.63216"
                                },
                                {
                                    "Generosity": "0.12253",
                                    "Economy (GDP per Capita)": "1.06098"
                                },
                                {
                                    "Generosity": "0.3003",
                                    "Economy (GDP per Capita)": "0.47428"
                                },
                                {
                                    "Generosity": "0.27233",
                                    "Economy (GDP per Capita)": "0.65435"
                                },
                                {
                                    "Generosity": "0.47998",
                                    "Economy (GDP per Capita)": "0.77042"
                                },
                                {
                                    "Generosity": "0.07799",
                                    "Economy (GDP per Capita)": "1.02389"
                                },
                                {
                                    "Generosity": "0.33671",
                                    "Economy (GDP per Capita)": "0.59543"
                                },
                                {
                                    "Generosity": "0.11053",
                                    "Economy (GDP per Capita)": "0.90198"
                                },
                                {
                                    "Generosity": "0.1614",
                                    "Economy (GDP per Capita)": "0.97438"
                                },
                                {
                                    "Generosity": "0.08185",
                                    "Economy (GDP per Capita)": "0.89012"
                                },
                                {
                                    "Generosity": "0.19591",
                                    "Economy (GDP per Capita)": "0.47038"
                                },
                                {
                                    "Generosity": "0.13748",
                                    "Economy (GDP per Capita)": "1.04345"
                                },
                                {
                                    "Generosity": "0.19231",
                                    "Economy (GDP per Capita)": "0.92053"
                                },
                                {
                                    "Generosity": "0.13719",
                                    "Economy (GDP per Capita)": "1.15991"
                                },
                                {
                                    "Generosity": "0.18226",
                                    "Economy (GDP per Capita)": "1.11312"
                                },
                                {
                                    "Generosity": "0.24991",
                                    "Economy (GDP per Capita)": "0.70532"
                                },
                                {
                                    "Generosity": "0.50318",
                                    "Economy (GDP per Capita)": "0.18847"
                                },
                                {
                                    "Generosity": "0.07172",
                                    "Economy (GDP per Capita)": "0.73479"
                                },
                                {
                                    "Generosity": "0.22359",
                                    "Economy (GDP per Capita)": "0.91851"
                                },
                                {
                                    "Generosity": "0.22269",
                                    "Economy (GDP per Capita)": "0.08308"
                                },
                                {
                                    "Generosity": "0.14272",
                                    "Economy (GDP per Capita)": "0.87867"
                                },
                                {
                                    "Generosity": "0.24808",
                                    "Economy (GDP per Capita)": "0.83223"
                                },
                                {
                                    "Generosity": "0.16388",
                                    "Economy (GDP per Capita)": "0.37545"
                                },
                                {
                                    "Generosity": "0.21684",
                                    "Economy (GDP per Capita)": "0.89537"
                                },
                                {
                                    "Generosity": "0.42192",
                                    "Economy (GDP per Capita)": "0.59066"
                                },
                                {
                                    "Generosity": "0.3323",
                                    "Economy (GDP per Capita)": "0.82819"
                                },
                                {
                                    "Generosity": "0.18259",
                                    "Economy (GDP per Capita)": "0.71206"
                                },
                                {
                                    "Generosity": "0",
                                    "Economy (GDP per Capita)": "1.15406"
                                },
                                {
                                    "Generosity": "0.21854",
                                    "Economy (GDP per Capita)": "1.02564"
                                },
                                {
                                    "Generosity": "0.128",
                                    "Economy (GDP per Capita)": "1.12094"
                                },
                                {
                                    "Generosity": "0.23027",
                                    "Economy (GDP per Capita)": "0.59532"
                                },
                                {
                                    "Generosity": "0.22974",
                                    "Economy (GDP per Capita)": "0.39047"
                                },
                                {
                                    "Generosity": "0.06431",
                                    "Economy (GDP per Capita)": "0.88113"
                                },
                                {
                                    "Generosity": "0.11251",
                                    "Economy (GDP per Capita)": "0.59867"
                                },
                                {
                                    "Generosity": "0.21222",
                                    "Economy (GDP per Capita)": "0.39753"
                                },
                                {
                                    "Generosity": "0.38086",
                                    "Economy (GDP per Capita)": "1.0088"
                                },
                                {
                                    "Generosity": "0.15275",
                                    "Economy (GDP per Capita)": "0.79907"
                                },
                                {
                                    "Generosity": "0.17922",
                                    "Economy (GDP per Capita)": "0.98549"
                                },
                                {
                                    "Generosity": "0.11973",
                                    "Economy (GDP per Capita)": "0.92049"
                                },
                                {
                                    "Generosity": "0.23087",
                                    "Economy (GDP per Capita)": "0.54558"
                                },
                                {
                                    "Generosity": "0.18987",
                                    "Economy (GDP per Capita)": "0.271"
                                },
                                {
                                    "Generosity": "0.24362",
                                    "Economy (GDP per Capita)": "0.0712"
                                },
                                {
                                    "Generosity": "0.26475",
                                    "Economy (GDP per Capita)": "0.64499"
                                },
                                {
                                    "Generosity": "0.19062",
                                    "Economy (GDP per Capita)": "0.52107"
                                },
                                {
                                    "Generosity": "0.46187",
                                    "Economy (GDP per Capita)": "0.26673"
                                },
                                {
                                    "Generosity": "0.24834",
                                    "Economy (GDP per Capita)": "0"
                                },
                                {
                                    "Generosity": "0.32296",
                                    "Economy (GDP per Capita)": "0.35997"
                                },
                                {
                                    "Generosity": "0.24325",
                                    "Economy (GDP per Capita)": "0.19073"
                                },
                                {
                                    "Generosity": "0.21488",
                                    "Economy (GDP per Capita)": "0.33024"
                                },
                                {
                                    "Generosity": "0.219",
                                    "Economy (GDP per Capita)": "0.45407"
                                },
                                {
                                    "Generosity": "0.37542",
                                    "Economy (GDP per Capita)": "0.36471"
                                },
                                {
                                    "Generosity": "0.18093",
                                    "Economy (GDP per Capita)": "0.44025"
                                },
                                {
                                    "Generosity": "0.07855",
                                    "Economy (GDP per Capita)": "0.76821"
                                },
                                {
                                    "Generosity": "0.10461",
                                    "Economy (GDP per Capita)": "0.99355"
                                },
                                {
                                    "Generosity": "0.79588",
                                    "Economy (GDP per Capita)": "0.27108"
                                },
                                {
                                    "Generosity": "0.05547",
                                    "Economy (GDP per Capita)": "0.7419"
                                },
                                {
                                    "Generosity": "0.33128",
                                    "Economy (GDP per Capita)": "0.01604"
                                },
                                {
                                    "Generosity": "0.40828",
                                    "Economy (GDP per Capita)": "0.83524"
                                },
                                {
                                    "Generosity": "0.20618",
                                    "Economy (GDP per Capita)": "0.4225"
                                },
                                {
                                    "Generosity": "0.11921",
                                    "Economy (GDP per Capita)": "1.01216"
                                },
                                {
                                    "Generosity": "0.11291",
                                    "Economy (GDP per Capita)": "0.8818"
                                },
                                {
                                    "Generosity": "0.09131",
                                    "Economy (GDP per Capita)": "0.54649"
                                },
                                {
                                    "Generosity": "0.12344",
                                    "Economy (GDP per Capita)": "0.75778"
                                },
                                {
                                    "Generosity": "0.18798",
                                    "Economy (GDP per Capita)": "0.26074"
                                },
                                {
                                    "Generosity": "0.12388",
                                    "Economy (GDP per Capita)": "0.67866"
                                },
                                {
                                    "Generosity": "0.17441",
                                    "Economy (GDP per Capita)": "0.23906"
                                },
                                {
                                    "Generosity": "0.29066",
                                    "Economy (GDP per Capita)": "0.21102"
                                },
                                {
                                    "Generosity": "0.20843",
                                    "Economy (GDP per Capita)": "0.36498"
                                },
                                {
                                    "Generosity": "0.06822",
                                    "Economy (GDP per Capita)": "1.06024"
                                },
                                {
                                    "Generosity": "0.19387",
                                    "Economy (GDP per Capita)": "0.0694"
                                },
                                {
                                    "Generosity": "0.40359",
                                    "Economy (GDP per Capita)": "0.46038"
                                },
                                {
                                    "Generosity": "0.34377",
                                    "Economy (GDP per Capita)": "0.2852"
                                },
                                {
                                    "Generosity": "0.21333",
                                    "Economy (GDP per Capita)": "0.20824"
                                },
                                {
                                    "Generosity": "0.23835",
                                    "Economy (GDP per Capita)": "0.0785"
                                },
                                {
                                    "Generosity": "0.18386",
                                    "Economy (GDP per Capita)": "0.34193"
                                },
                                {
                                    "Generosity": "0.28657",
                                    "Economy (GDP per Capita)": "0.17417"
                                },
                                {
                                    "Generosity": "0.20165",
                                    "Economy (GDP per Capita)": "0.46534"
                                },
                                {
                                    "Generosity": "0.21747",
                                    "Economy (GDP per Capita)": "0.25812"
                                },
                                {
                                    "Generosity": "0.3651",
                                    "Economy (GDP per Capita)": "0.31982"
                                },
                                {
                                    "Generosity": "0.22628",
                                    "Economy (GDP per Capita)": "0.22208"
                                },
                                {
                                    "Generosity": "0.1826",
                                    "Economy (GDP per Capita)": "0.28665"
                                },
                                {
                                    "Generosity": "0.47179",
                                    "Economy (GDP per Capita)": "0.6632"
                                },
                                {
                                    "Generosity": "0.19727",
                                    "Economy (GDP per Capita)": "0.0153"
                                },
                                {
                                    "Generosity": "0.16681",
                                    "Economy (GDP per Capita)": "0.20868"
                                }
                            ]
                        },
                        "text/html": [
                            "<table>",
                            "<tr><th>Generosity</th><th>Economy (GDP per Capita)</th></tr>",
                            "<tr><td>0.29678</td><td>1.39651</td></tr>",
                            "<tr><td>0.4363</td><td>1.30232</td></tr>",
                            "<tr><td>0.34139</td><td>1.32548</td></tr>",
                            "<tr><td>0.34699</td><td>1.459</td></tr>",
                            "<tr><td>0.45811</td><td>1.32629</td></tr>",
                            "<tr><td>0.23351</td><td>1.29025</td></tr>",
                            "<tr><td>0.4761</td><td>1.32944</td></tr>",
                            "<tr><td>0.36262</td><td>1.33171</td></tr>",
                            "<tr><td>0.47501</td><td>1.25018</td></tr>",
                            "<tr><td>0.43562</td><td>1.33358</td></tr>",
                            "<tr><td>0.33172</td><td>1.22857</td></tr>",
                            "<tr><td>0.25497</td><td>0.95578</td></tr>",
                            "<tr><td>0.33088</td><td>1.33723</td></tr>",
                            "<tr><td>0.14074</td><td>1.02054</td></tr>",
                            "<tr><td>0.40105</td><td>1.39451</td></tr>",
                            "<tr><td>0.14574</td><td>0.98124</td></tr>",
                            "<tr><td>0.28034</td><td>1.56391</td></tr>",
                            "<tr><td>0.45901</td><td>1.33596</td></tr>",
                            "<tr><td>0.2225</td><td>1.30782</td></tr>",
                            "<tr><td>0.26428</td><td>1.42727</td></tr>",
                            "<tr><td>0.51912</td><td>1.26637</td></tr>",
                            "<tr><td>0.21542</td><td>1.36011</td></tr>",
                            "<tr><td>0.05841</td><td>1.04424</td></tr>",
                            "<tr><td>0.31105</td><td>1.52186</td></tr>",
                            "<tr><td>0.24434</td><td>1.06353</td></tr>",
                            "<tr><td>0.28214</td><td>1.32792</td></tr>",
                            "<tr><td>0.33363</td><td>1.10715</td></tr>",
                            "<tr><td>0.32573</td><td>1.69042</td></tr>",
                            "<tr><td>0.12332</td><td>1.27778</td></tr>",
                            "<tr><td>0.11451</td><td>1.05351</td></tr>",
                            "<tr><td>0.10686</td><td>1.17898</td></tr>",
                            "<tr><td>0.2324</td><td>1.06166</td></tr>",
                            "<tr><td>0.18401</td><td>0.91861</td></tr>",
                            "<tr><td>0.5763</td><td>0.9669</td></tr>",
                            "<tr><td>0.13706</td><td>1.39541</td></tr>",
                            "<tr><td>0.18227</td><td>1.23011</td></tr>",
                            "<tr><td>0.51752</td><td>1.2074</td></tr>",
                            "<tr><td>0.25376</td><td>1.29098</td></tr>",
                            "<tr><td>0.16228</td><td>1.55422</td></tr>",
                            "<tr><td>0.16991</td><td>0.99534</td></tr>",
                            "<tr><td>0.31844</td><td>1.21183</td></tr>",
                            "<tr><td>0.10692</td><td>0.76454</td></tr>",
                            "<tr><td>0.27489</td><td>0.74553</td></tr>",
                            "<tr><td>0.22837</td><td>0.63244</td></tr>",
                            "<tr><td>0.16893</td><td>1.16891</td></tr>",
                            "<tr><td>0.10705</td><td>1.27074</td></tr>",
                            "<tr><td>0.18557</td><td>1.24461</td></tr>",
                            "<tr><td>0.11541</td><td>0.86402</td></tr>",
                            "<tr><td>0.17362</td><td>1.32376</td></tr>",
                            "<tr><td>0.22823</td><td>1.25114</td></tr>",
                            "<tr><td>0.20536</td><td>0.68133</td></tr>",
                            "<tr><td>0.20951</td><td>0.59448</td></tr>",
                            "<tr><td>0.3424</td><td>0.75985</td></tr>",
                            "<tr><td>0.11827</td><td>1.12254</td></tr>",
                            "<tr><td>0.25328</td><td>1.18498</td></tr>",
                            "<tr><td>0.02641</td><td>1.14723</td></tr>",
                            "<tr><td>0.27815</td><td>0.59325</td></tr>",
                            "<tr><td>0.14982</td><td>0.90019</td></tr>",
                            "<tr><td>0.11046</td><td>1.03192</td></tr>",
                            "<tr><td>0.16759</td><td>1.12555</td></tr>",
                            "<tr><td>0.33075</td><td>1.12486</td></tr>",
                            "<tr><td>0.05444</td><td>1.08254</td></tr>",
                            "<tr><td>0.18295</td><td>1.13145</td></tr>",
                            "<tr><td>0.00199</td><td>1.13764</td></tr>",
                            "<tr><td>0.2123</td><td>0.81038</td></tr>",
                            "<tr><td>0.26169</td><td>1.20806</td></tr>",
                            "<tr><td>0.30638</td><td>1.20813</td></tr>",
                            "<tr><td>0.07822</td><td>0.93929</td></tr>",
                            "<tr><td>0.2831</td><td>0.80148</td></tr>",
                            "<tr><td>0.16979</td><td>0.95847</td></tr>",
                            "<tr><td>0.37744</td><td>1.00761</td></tr>",
                            "<tr><td>0.39478</td><td>1.38604</td></tr>",
                            "<tr><td>0.0868</td><td>1.15174</td></tr>",
                            "<tr><td>0.51535</td><td>0.82827</td></tr>",
                            "<tr><td>0.1686</td><td>0.63216</td></tr>",
                            "<tr><td>0.12253</td><td>1.06098</td></tr>",
                            "<tr><td>0.3003</td><td>0.47428</td></tr>",
                            "<tr><td>0.27233</td><td>0.65435</td></tr>",
                            "<tr><td>0.47998</td><td>0.77042</td></tr>",
                            "<tr><td>0.07799</td><td>1.02389</td></tr>",
                            "<tr><td>0.33671</td><td>0.59543</td></tr>",
                            "<tr><td>0.11053</td><td>0.90198</td></tr>",
                            "<tr><td>0.1614</td><td>0.97438</td></tr>",
                            "<tr><td>0.08185</td><td>0.89012</td></tr>",
                            "<tr><td>0.19591</td><td>0.47038</td></tr>",
                            "<tr><td>0.13748</td><td>1.04345</td></tr>",
                            "<tr><td>0.19231</td><td>0.92053</td></tr>",
                            "<tr><td>0.13719</td><td>1.15991</td></tr>",
                            "<tr><td>0.18226</td><td>1.11312</td></tr>",
                            "<tr><td>0.24991</td><td>0.70532</td></tr>",
                            "<tr><td>0.50318</td><td>0.18847</td></tr>",
                            "<tr><td>0.07172</td><td>0.73479</td></tr>",
                            "<tr><td>0.22359</td><td>0.91851</td></tr>",
                            "<tr><td>0.22269</td><td>0.08308</td></tr>",
                            "<tr><td>0.14272</td><td>0.87867</td></tr>",
                            "<tr><td>0.24808</td><td>0.83223</td></tr>",
                            "<tr><td>0.16388</td><td>0.37545</td></tr>",
                            "<tr><td>0.21684</td><td>0.89537</td></tr>",
                            "<tr><td>0.42192</td><td>0.59066</td></tr>",
                            "<tr><td>0.3323</td><td>0.82819</td></tr>",
                            "<tr><td>0.18259</td><td>0.71206</td></tr>",
                            "<tr><td>0</td><td>1.15406</td></tr>",
                            "<tr><td>0.21854</td><td>1.02564</td></tr>",
                            "<tr><td>0.128</td><td>1.12094</td></tr>",
                            "<tr><td>0.23027</td><td>0.59532</td></tr>",
                            "<tr><td>0.22974</td><td>0.39047</td></tr>",
                            "<tr><td>0.06431</td><td>0.88113</td></tr>",
                            "<tr><td>0.11251</td><td>0.59867</td></tr>",
                            "<tr><td>0.21222</td><td>0.39753</td></tr>",
                            "<tr><td>0.38086</td><td>1.0088</td></tr>",
                            "<tr><td>0.15275</td><td>0.79907</td></tr>",
                            "<tr><td>0.17922</td><td>0.98549</td></tr>",
                            "<tr><td>0.11973</td><td>0.92049</td></tr>",
                            "<tr><td>0.23087</td><td>0.54558</td></tr>",
                            "<tr><td>0.18987</td><td>0.271</td></tr>",
                            "<tr><td>0.24362</td><td>0.0712</td></tr>",
                            "<tr><td>0.26475</td><td>0.64499</td></tr>",
                            "<tr><td>0.19062</td><td>0.52107</td></tr>",
                            "<tr><td>0.46187</td><td>0.26673</td></tr>",
                            "<tr><td>0.24834</td><td>0</td></tr>",
                            "<tr><td>0.32296</td><td>0.35997</td></tr>",
                            "<tr><td>0.24325</td><td>0.19073</td></tr>",
                            "<tr><td>0.21488</td><td>0.33024</td></tr>",
                            "<tr><td>0.219</td><td>0.45407</td></tr>",
                            "<tr><td>0.37542</td><td>0.36471</td></tr>",
                            "<tr><td>0.18093</td><td>0.44025</td></tr>",
                            "<tr><td>0.07855</td><td>0.76821</td></tr>",
                            "<tr><td>0.10461</td><td>0.99355</td></tr>",
                            "<tr><td>0.79588</td><td>0.27108</td></tr>",
                            "<tr><td>0.05547</td><td>0.7419</td></tr>",
                            "<tr><td>0.33128</td><td>0.01604</td></tr>",
                            "<tr><td>0.40828</td><td>0.83524</td></tr>",
                            "<tr><td>0.20618</td><td>0.4225</td></tr>",
                            "<tr><td>0.11921</td><td>1.01216</td></tr>",
                            "<tr><td>0.11291</td><td>0.8818</td></tr>",
                            "<tr><td>0.09131</td><td>0.54649</td></tr>",
                            "<tr><td>0.12344</td><td>0.75778</td></tr>",
                            "<tr><td>0.18798</td><td>0.26074</td></tr>",
                            "<tr><td>0.12388</td><td>0.67866</td></tr>",
                            "<tr><td>0.17441</td><td>0.23906</td></tr>",
                            "<tr><td>0.29066</td><td>0.21102</td></tr>",
                            "<tr><td>0.20843</td><td>0.36498</td></tr>",
                            "<tr><td>0.06822</td><td>1.06024</td></tr>",
                            "<tr><td>0.19387</td><td>0.0694</td></tr>",
                            "<tr><td>0.40359</td><td>0.46038</td></tr>",
                            "<tr><td>0.34377</td><td>0.2852</td></tr>",
                            "<tr><td>0.21333</td><td>0.20824</td></tr>",
                            "<tr><td>0.23835</td><td>0.0785</td></tr>",
                            "<tr><td>0.18386</td><td>0.34193</td></tr>",
                            "<tr><td>0.28657</td><td>0.17417</td></tr>",
                            "<tr><td>0.20165</td><td>0.46534</td></tr>",
                            "<tr><td>0.21747</td><td>0.25812</td></tr>",
                            "<tr><td>0.3651</td><td>0.31982</td></tr>",
                            "<tr><td>0.22628</td><td>0.22208</td></tr>",
                            "<tr><td>0.1826</td><td>0.28665</td></tr>",
                            "<tr><td>0.47179</td><td>0.6632</td></tr>",
                            "<tr><td>0.19727</td><td>0.0153</td></tr>",
                            "<tr><td>0.16681</td><td>0.20868</td></tr>",
                            "</table>"
                        ]
                    }
                }
            ],
            "execution_count": 21
        },
        {
            "cell_type": "code",
            "source": [
                ""
            ],
            "metadata": {
                "language": "sql",
                "azdata_cell_guid": "103c1f38-a220-431c-9a5a-f966113f0e3f"
            },
            "outputs": [],
            "execution_count": null
        }
    ]
}